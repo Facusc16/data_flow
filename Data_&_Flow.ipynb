{
  "cells": [
    {
      "cell_type": "markdown",
      "metadata": {
        "id": "view-in-github",
        "colab_type": "text"
      },
      "source": [
        "<a href=\"https://colab.research.google.com/github/Facusc16/data_flow/blob/main/Data_%26_Flow.ipynb\" target=\"_parent\"><img src=\"https://colab.research.google.com/assets/colab-badge.svg\" alt=\"Open In Colab\"/></a>"
      ]
    },
    {
      "cell_type": "markdown",
      "metadata": {
        "id": "Ea0mgqF164De"
      },
      "source": [
        "# Requerimientos"
      ]
    },
    {
      "cell_type": "markdown",
      "metadata": {
        "id": "KKZcZois7VLe"
      },
      "source": [
        "## Librerías"
      ]
    },
    {
      "cell_type": "code",
      "execution_count": 1,
      "metadata": {
        "colab": {
          "base_uri": "https://localhost:8080/"
        },
        "id": "iY2lHbvv7bLI",
        "outputId": "2d8bb197-c40f-4e0d-cd16-ac01774d4a66"
      },
      "outputs": [
        {
          "output_type": "stream",
          "name": "stdout",
          "text": [
            "Collecting spotipy\n",
            "  Downloading spotipy-2.25.1-py3-none-any.whl.metadata (5.1 kB)\n",
            "Collecting redis>=3.5.3 (from spotipy)\n",
            "  Downloading redis-6.2.0-py3-none-any.whl.metadata (10 kB)\n",
            "Requirement already satisfied: requests>=2.25.0 in /usr/local/lib/python3.11/dist-packages (from spotipy) (2.32.3)\n",
            "Requirement already satisfied: urllib3>=1.26.0 in /usr/local/lib/python3.11/dist-packages (from spotipy) (2.4.0)\n",
            "Requirement already satisfied: charset-normalizer<4,>=2 in /usr/local/lib/python3.11/dist-packages (from requests>=2.25.0->spotipy) (3.4.2)\n",
            "Requirement already satisfied: idna<4,>=2.5 in /usr/local/lib/python3.11/dist-packages (from requests>=2.25.0->spotipy) (3.10)\n",
            "Requirement already satisfied: certifi>=2017.4.17 in /usr/local/lib/python3.11/dist-packages (from requests>=2.25.0->spotipy) (2025.6.15)\n",
            "Downloading spotipy-2.25.1-py3-none-any.whl (31 kB)\n",
            "Downloading redis-6.2.0-py3-none-any.whl (278 kB)\n",
            "\u001b[2K   \u001b[90m━━━━━━━━━━━━━━━━━━━━━━━━━━━━━━━━━━━━━━━━\u001b[0m \u001b[32m278.7/278.7 kB\u001b[0m \u001b[31m8.6 MB/s\u001b[0m eta \u001b[36m0:00:00\u001b[0m\n",
            "\u001b[?25hInstalling collected packages: redis, spotipy\n",
            "Successfully installed redis-6.2.0 spotipy-2.25.1\n"
          ]
        }
      ],
      "source": [
        "!pip install spotipy\n",
        "import pandas as pd\n",
        "\n",
        "from IPython.display import clear_output\n",
        "import logging\n",
        "import sys\n",
        "import re\n",
        "import json\n",
        "import time\n",
        "from datetime import timedelta\n",
        "\n",
        "from google.colab import drive\n",
        "import spotipy\n",
        "from spotipy.oauth2 import SpotifyClientCredentials\n",
        "from spotipy.exceptions import SpotifyException\n",
        "from requests.exceptions import RequestException\n",
        "import warnings"
      ]
    },
    {
      "cell_type": "markdown",
      "metadata": {
        "id": "930icGoM7W0F"
      },
      "source": [
        "## Google Drive"
      ]
    },
    {
      "cell_type": "code",
      "execution_count": 2,
      "metadata": {
        "id": "KibTYPsF7cBL",
        "colab": {
          "base_uri": "https://localhost:8080/"
        },
        "outputId": "173b471a-fd14-4cbb-ae1d-f15ab10c520a"
      },
      "outputs": [
        {
          "output_type": "stream",
          "name": "stdout",
          "text": [
            "Mounted at /content/drive\n"
          ]
        }
      ],
      "source": [
        "drive.mount('/content/drive')"
      ]
    },
    {
      "cell_type": "markdown",
      "metadata": {
        "id": "4dhJxU9Q-LGT"
      },
      "source": [
        "## Construir DataFrame"
      ]
    },
    {
      "cell_type": "code",
      "execution_count": 3,
      "metadata": {
        "id": "li0lZ_Ll-aqZ"
      },
      "outputs": [],
      "source": [
        "path = '/content/drive/MyDrive/JSON/spotify_dataset.csv'\n",
        "\n",
        "df = pd.read_csv(path)"
      ]
    },
    {
      "cell_type": "markdown",
      "metadata": {
        "id": "QmZNE2lsCiTx"
      },
      "source": [
        "# Analisis descriptivo"
      ]
    },
    {
      "cell_type": "markdown",
      "metadata": {
        "id": "lu_T-XitClXV"
      },
      "source": [
        "## Dimensiones del DataFreme"
      ]
    },
    {
      "cell_type": "code",
      "execution_count": 4,
      "metadata": {
        "colab": {
          "base_uri": "https://localhost:8080/"
        },
        "id": "kACNvtkdCpPC",
        "outputId": "325f9e43-b6ae-4684-edb6-a402e944d685"
      },
      "outputs": [
        {
          "output_type": "execute_result",
          "data": {
            "text/plain": [
              "(498052, 39)"
            ]
          },
          "metadata": {},
          "execution_count": 4
        }
      ],
      "source": [
        "df.shape"
      ]
    },
    {
      "cell_type": "markdown",
      "metadata": {
        "id": "hAMbKpjBC6EZ"
      },
      "source": [
        "## Información general del DataFrame"
      ]
    },
    {
      "cell_type": "code",
      "execution_count": 5,
      "metadata": {
        "colab": {
          "base_uri": "https://localhost:8080/"
        },
        "id": "pTXLBgVSC9F7",
        "outputId": "2a8a55c2-fe10-46b1-a649-63fee24fab8a"
      },
      "outputs": [
        {
          "output_type": "stream",
          "name": "stdout",
          "text": [
            "<class 'pandas.core.frame.DataFrame'>\n",
            "RangeIndex: 498052 entries, 0 to 498051\n",
            "Data columns (total 39 columns):\n",
            " #   Column                          Non-Null Count   Dtype  \n",
            "---  ------                          --------------   -----  \n",
            " 0   Artist(s)                       498052 non-null  object \n",
            " 1   song                            498038 non-null  object \n",
            " 2   text                            498052 non-null  object \n",
            " 3   Length                          498052 non-null  object \n",
            " 4   emotion                         498052 non-null  object \n",
            " 5   Genre                           498052 non-null  object \n",
            " 6   Album                           498003 non-null  object \n",
            " 7   Release Date                    350369 non-null  object \n",
            " 8   Key                             498052 non-null  object \n",
            " 9   Tempo                           498052 non-null  float64\n",
            " 10  Loudness (db)                   498052 non-null  float64\n",
            " 11  Time signature                  498044 non-null  object \n",
            " 12  Explicit                        498052 non-null  object \n",
            " 13  Popularity                      498052 non-null  int64  \n",
            " 14  Energy                          498052 non-null  int64  \n",
            " 15  Danceability                    498052 non-null  int64  \n",
            " 16  Positiveness                    498052 non-null  int64  \n",
            " 17  Speechiness                     498052 non-null  int64  \n",
            " 18  Liveness                        498052 non-null  int64  \n",
            " 19  Acousticness                    498052 non-null  int64  \n",
            " 20  Instrumentalness                498052 non-null  int64  \n",
            " 21  Good for Party                  498052 non-null  int64  \n",
            " 22  Good for Work/Study             498052 non-null  int64  \n",
            " 23  Good for Relaxation/Meditation  498052 non-null  int64  \n",
            " 24  Good for Exercise               498052 non-null  int64  \n",
            " 25  Good for Running                498052 non-null  int64  \n",
            " 26  Good for Yoga/Stretching        498052 non-null  int64  \n",
            " 27  Good for Driving                498052 non-null  int64  \n",
            " 28  Good for Social Gatherings      498052 non-null  int64  \n",
            " 29  Good for Morning Routine        498052 non-null  int64  \n",
            " 30  Similar Artist 1                498052 non-null  object \n",
            " 31  Similar Song 1                  498033 non-null  object \n",
            " 32  Similarity Score 1              498052 non-null  float64\n",
            " 33  Similar Artist 2                498052 non-null  object \n",
            " 34  Similar Song 2                  498036 non-null  object \n",
            " 35  Similarity Score 2              498052 non-null  float64\n",
            " 36  Similar Artist 3                498052 non-null  object \n",
            " 37  Similar Song 3                  498048 non-null  object \n",
            " 38  Similarity Score 3              498052 non-null  float64\n",
            "dtypes: float64(5), int64(17), object(17)\n",
            "memory usage: 148.2+ MB\n"
          ]
        }
      ],
      "source": [
        "df.info()"
      ]
    },
    {
      "cell_type": "markdown",
      "metadata": {
        "id": "D2W9KFYmDxuF"
      },
      "source": [
        "# Limpieza y manipulación de los datos"
      ]
    },
    {
      "cell_type": "markdown",
      "metadata": {
        "id": "u5qzZGSrD3pj"
      },
      "source": [
        "## Quitar datos duplicados o irrelevantes"
      ]
    },
    {
      "cell_type": "code",
      "execution_count": 6,
      "metadata": {
        "colab": {
          "base_uri": "https://localhost:8080/"
        },
        "id": "v5HW4MQbELDz",
        "outputId": "c3ec0692-dd48-4607-9546-6167a9890bfc"
      },
      "outputs": [
        {
          "output_type": "execute_result",
          "data": {
            "text/plain": [
              "np.False_"
            ]
          },
          "metadata": {},
          "execution_count": 6
        }
      ],
      "source": [
        "df.duplicated().any()"
      ]
    },
    {
      "cell_type": "markdown",
      "metadata": {
        "id": "E8WXr_RoD9jt"
      },
      "source": [
        "## Arreglar errores estructurales"
      ]
    },
    {
      "cell_type": "code",
      "execution_count": 7,
      "metadata": {
        "colab": {
          "base_uri": "https://localhost:8080/",
          "height": 707
        },
        "collapsed": true,
        "id": "aY0TgFoNXIz0",
        "outputId": "3a5e715a-b38a-4d99-f137-fa22f9c77da2"
      },
      "outputs": [
        {
          "output_type": "execute_result",
          "data": {
            "text/plain": [
              "  Artist(s)                       song  \\\n",
              "0       !!!  Even When the Waters Cold   \n",
              "1       !!!         One Girl / One Boy   \n",
              "2       !!!          Pardon My Freedom   \n",
              "3       !!!                        Ooo   \n",
              "4       !!!                 Freedom 15   \n",
              "\n",
              "                                                text Length  emotion    Genre  \\\n",
              "0  Friends told her she was better off at the bot...  03:47  sadness  hip hop   \n",
              "1  Well I heard it, playing soft From a drunken b...  04:03  sadness  hip hop   \n",
              "2  Oh my god, did I just say that out loud? Shoul...  05:51      joy  hip hop   \n",
              "3  [Verse 1] Remember when I called you on the te...  03:44      joy  hip hop   \n",
              "4  [Verse 1] Calling me like I got something to s...  06:00      joy  hip hop   \n",
              "\n",
              "           Album Release Date     Key     Tempo  ...  \\\n",
              "0       Thr!!!er   2013-04-29   D min  0.437870  ...   \n",
              "1       Thr!!!er   2013-04-29  A# min  0.508876  ...   \n",
              "2  Louden Up Now   2004-06-08   A Maj  0.532544  ...   \n",
              "3          As If   2015-10-16   A min  0.538462  ...   \n",
              "4          As If   2015-10-16   F min  0.544379  ...   \n",
              "\n",
              "   Good for Morning Routine Similar Artist 1               Similar Song 1  \\\n",
              "0                         0      Corey Smith       If I Could Do It Again   \n",
              "1                         0  Hiroyuki Sawano                 BRE@TH//LESS   \n",
              "2                         0    Ricky Dillard  More Abundantly Medley Live   \n",
              "3                         0     Eric Clapton                Man Overboard   \n",
              "4                         0       Cibo Matto                 Lint Of Love   \n",
              "\n",
              "   Similarity Score 1  Similar Artist 2              Similar Song 2  \\\n",
              "0            0.986061        Toby Keith           Drinks After Work   \n",
              "1            0.995409      When In Rome                Heaven Knows   \n",
              "2            0.993176            Juliet                      Avalon   \n",
              "3            0.992749           Roxette  Don't Believe In Accidents   \n",
              "4            0.981610   Barrington Levy            Better Than Gold   \n",
              "\n",
              "   Similarity Score 2  Similar Artist 3  Similar Song 3  Similarity Score 3  \n",
              "0            0.983719             Space   Neighbourhood            0.983236  \n",
              "1            0.990905      Justice Crew       Everybody            0.984483  \n",
              "2            0.965147      The Jacksons      Lovely One            0.956752  \n",
              "3            0.991494       Tiwa Savage       My Darlin            0.990381  \n",
              "4            0.981524         Freestyle   Its Automatic            0.981415  \n",
              "\n",
              "[5 rows x 39 columns]"
            ],
            "text/html": [
              "\n",
              "  <div id=\"df-23e82058-d8f6-4c9c-95b2-39c703459b88\" class=\"colab-df-container\">\n",
              "    <div>\n",
              "<style scoped>\n",
              "    .dataframe tbody tr th:only-of-type {\n",
              "        vertical-align: middle;\n",
              "    }\n",
              "\n",
              "    .dataframe tbody tr th {\n",
              "        vertical-align: top;\n",
              "    }\n",
              "\n",
              "    .dataframe thead th {\n",
              "        text-align: right;\n",
              "    }\n",
              "</style>\n",
              "<table border=\"1\" class=\"dataframe\">\n",
              "  <thead>\n",
              "    <tr style=\"text-align: right;\">\n",
              "      <th></th>\n",
              "      <th>Artist(s)</th>\n",
              "      <th>song</th>\n",
              "      <th>text</th>\n",
              "      <th>Length</th>\n",
              "      <th>emotion</th>\n",
              "      <th>Genre</th>\n",
              "      <th>Album</th>\n",
              "      <th>Release Date</th>\n",
              "      <th>Key</th>\n",
              "      <th>Tempo</th>\n",
              "      <th>...</th>\n",
              "      <th>Good for Morning Routine</th>\n",
              "      <th>Similar Artist 1</th>\n",
              "      <th>Similar Song 1</th>\n",
              "      <th>Similarity Score 1</th>\n",
              "      <th>Similar Artist 2</th>\n",
              "      <th>Similar Song 2</th>\n",
              "      <th>Similarity Score 2</th>\n",
              "      <th>Similar Artist 3</th>\n",
              "      <th>Similar Song 3</th>\n",
              "      <th>Similarity Score 3</th>\n",
              "    </tr>\n",
              "  </thead>\n",
              "  <tbody>\n",
              "    <tr>\n",
              "      <th>0</th>\n",
              "      <td>!!!</td>\n",
              "      <td>Even When the Waters Cold</td>\n",
              "      <td>Friends told her she was better off at the bot...</td>\n",
              "      <td>03:47</td>\n",
              "      <td>sadness</td>\n",
              "      <td>hip hop</td>\n",
              "      <td>Thr!!!er</td>\n",
              "      <td>2013-04-29</td>\n",
              "      <td>D min</td>\n",
              "      <td>0.437870</td>\n",
              "      <td>...</td>\n",
              "      <td>0</td>\n",
              "      <td>Corey Smith</td>\n",
              "      <td>If I Could Do It Again</td>\n",
              "      <td>0.986061</td>\n",
              "      <td>Toby Keith</td>\n",
              "      <td>Drinks After Work</td>\n",
              "      <td>0.983719</td>\n",
              "      <td>Space</td>\n",
              "      <td>Neighbourhood</td>\n",
              "      <td>0.983236</td>\n",
              "    </tr>\n",
              "    <tr>\n",
              "      <th>1</th>\n",
              "      <td>!!!</td>\n",
              "      <td>One Girl / One Boy</td>\n",
              "      <td>Well I heard it, playing soft From a drunken b...</td>\n",
              "      <td>04:03</td>\n",
              "      <td>sadness</td>\n",
              "      <td>hip hop</td>\n",
              "      <td>Thr!!!er</td>\n",
              "      <td>2013-04-29</td>\n",
              "      <td>A# min</td>\n",
              "      <td>0.508876</td>\n",
              "      <td>...</td>\n",
              "      <td>0</td>\n",
              "      <td>Hiroyuki Sawano</td>\n",
              "      <td>BRE@TH//LESS</td>\n",
              "      <td>0.995409</td>\n",
              "      <td>When In Rome</td>\n",
              "      <td>Heaven Knows</td>\n",
              "      <td>0.990905</td>\n",
              "      <td>Justice Crew</td>\n",
              "      <td>Everybody</td>\n",
              "      <td>0.984483</td>\n",
              "    </tr>\n",
              "    <tr>\n",
              "      <th>2</th>\n",
              "      <td>!!!</td>\n",
              "      <td>Pardon My Freedom</td>\n",
              "      <td>Oh my god, did I just say that out loud? Shoul...</td>\n",
              "      <td>05:51</td>\n",
              "      <td>joy</td>\n",
              "      <td>hip hop</td>\n",
              "      <td>Louden Up Now</td>\n",
              "      <td>2004-06-08</td>\n",
              "      <td>A Maj</td>\n",
              "      <td>0.532544</td>\n",
              "      <td>...</td>\n",
              "      <td>0</td>\n",
              "      <td>Ricky Dillard</td>\n",
              "      <td>More Abundantly Medley Live</td>\n",
              "      <td>0.993176</td>\n",
              "      <td>Juliet</td>\n",
              "      <td>Avalon</td>\n",
              "      <td>0.965147</td>\n",
              "      <td>The Jacksons</td>\n",
              "      <td>Lovely One</td>\n",
              "      <td>0.956752</td>\n",
              "    </tr>\n",
              "    <tr>\n",
              "      <th>3</th>\n",
              "      <td>!!!</td>\n",
              "      <td>Ooo</td>\n",
              "      <td>[Verse 1] Remember when I called you on the te...</td>\n",
              "      <td>03:44</td>\n",
              "      <td>joy</td>\n",
              "      <td>hip hop</td>\n",
              "      <td>As If</td>\n",
              "      <td>2015-10-16</td>\n",
              "      <td>A min</td>\n",
              "      <td>0.538462</td>\n",
              "      <td>...</td>\n",
              "      <td>0</td>\n",
              "      <td>Eric Clapton</td>\n",
              "      <td>Man Overboard</td>\n",
              "      <td>0.992749</td>\n",
              "      <td>Roxette</td>\n",
              "      <td>Don't Believe In Accidents</td>\n",
              "      <td>0.991494</td>\n",
              "      <td>Tiwa Savage</td>\n",
              "      <td>My Darlin</td>\n",
              "      <td>0.990381</td>\n",
              "    </tr>\n",
              "    <tr>\n",
              "      <th>4</th>\n",
              "      <td>!!!</td>\n",
              "      <td>Freedom 15</td>\n",
              "      <td>[Verse 1] Calling me like I got something to s...</td>\n",
              "      <td>06:00</td>\n",
              "      <td>joy</td>\n",
              "      <td>hip hop</td>\n",
              "      <td>As If</td>\n",
              "      <td>2015-10-16</td>\n",
              "      <td>F min</td>\n",
              "      <td>0.544379</td>\n",
              "      <td>...</td>\n",
              "      <td>0</td>\n",
              "      <td>Cibo Matto</td>\n",
              "      <td>Lint Of Love</td>\n",
              "      <td>0.981610</td>\n",
              "      <td>Barrington Levy</td>\n",
              "      <td>Better Than Gold</td>\n",
              "      <td>0.981524</td>\n",
              "      <td>Freestyle</td>\n",
              "      <td>Its Automatic</td>\n",
              "      <td>0.981415</td>\n",
              "    </tr>\n",
              "  </tbody>\n",
              "</table>\n",
              "<p>5 rows × 39 columns</p>\n",
              "</div>\n",
              "    <div class=\"colab-df-buttons\">\n",
              "\n",
              "  <div class=\"colab-df-container\">\n",
              "    <button class=\"colab-df-convert\" onclick=\"convertToInteractive('df-23e82058-d8f6-4c9c-95b2-39c703459b88')\"\n",
              "            title=\"Convert this dataframe to an interactive table.\"\n",
              "            style=\"display:none;\">\n",
              "\n",
              "  <svg xmlns=\"http://www.w3.org/2000/svg\" height=\"24px\" viewBox=\"0 -960 960 960\">\n",
              "    <path d=\"M120-120v-720h720v720H120Zm60-500h600v-160H180v160Zm220 220h160v-160H400v160Zm0 220h160v-160H400v160ZM180-400h160v-160H180v160Zm440 0h160v-160H620v160ZM180-180h160v-160H180v160Zm440 0h160v-160H620v160Z\"/>\n",
              "  </svg>\n",
              "    </button>\n",
              "\n",
              "  <style>\n",
              "    .colab-df-container {\n",
              "      display:flex;\n",
              "      gap: 12px;\n",
              "    }\n",
              "\n",
              "    .colab-df-convert {\n",
              "      background-color: #E8F0FE;\n",
              "      border: none;\n",
              "      border-radius: 50%;\n",
              "      cursor: pointer;\n",
              "      display: none;\n",
              "      fill: #1967D2;\n",
              "      height: 32px;\n",
              "      padding: 0 0 0 0;\n",
              "      width: 32px;\n",
              "    }\n",
              "\n",
              "    .colab-df-convert:hover {\n",
              "      background-color: #E2EBFA;\n",
              "      box-shadow: 0px 1px 2px rgba(60, 64, 67, 0.3), 0px 1px 3px 1px rgba(60, 64, 67, 0.15);\n",
              "      fill: #174EA6;\n",
              "    }\n",
              "\n",
              "    .colab-df-buttons div {\n",
              "      margin-bottom: 4px;\n",
              "    }\n",
              "\n",
              "    [theme=dark] .colab-df-convert {\n",
              "      background-color: #3B4455;\n",
              "      fill: #D2E3FC;\n",
              "    }\n",
              "\n",
              "    [theme=dark] .colab-df-convert:hover {\n",
              "      background-color: #434B5C;\n",
              "      box-shadow: 0px 1px 3px 1px rgba(0, 0, 0, 0.15);\n",
              "      filter: drop-shadow(0px 1px 2px rgba(0, 0, 0, 0.3));\n",
              "      fill: #FFFFFF;\n",
              "    }\n",
              "  </style>\n",
              "\n",
              "    <script>\n",
              "      const buttonEl =\n",
              "        document.querySelector('#df-23e82058-d8f6-4c9c-95b2-39c703459b88 button.colab-df-convert');\n",
              "      buttonEl.style.display =\n",
              "        google.colab.kernel.accessAllowed ? 'block' : 'none';\n",
              "\n",
              "      async function convertToInteractive(key) {\n",
              "        const element = document.querySelector('#df-23e82058-d8f6-4c9c-95b2-39c703459b88');\n",
              "        const dataTable =\n",
              "          await google.colab.kernel.invokeFunction('convertToInteractive',\n",
              "                                                    [key], {});\n",
              "        if (!dataTable) return;\n",
              "\n",
              "        const docLinkHtml = 'Like what you see? Visit the ' +\n",
              "          '<a target=\"_blank\" href=https://colab.research.google.com/notebooks/data_table.ipynb>data table notebook</a>'\n",
              "          + ' to learn more about interactive tables.';\n",
              "        element.innerHTML = '';\n",
              "        dataTable['output_type'] = 'display_data';\n",
              "        await google.colab.output.renderOutput(dataTable, element);\n",
              "        const docLink = document.createElement('div');\n",
              "        docLink.innerHTML = docLinkHtml;\n",
              "        element.appendChild(docLink);\n",
              "      }\n",
              "    </script>\n",
              "  </div>\n",
              "\n",
              "\n",
              "    <div id=\"df-1356baaf-e574-4b6f-851a-e1a9002818d0\">\n",
              "      <button class=\"colab-df-quickchart\" onclick=\"quickchart('df-1356baaf-e574-4b6f-851a-e1a9002818d0')\"\n",
              "                title=\"Suggest charts\"\n",
              "                style=\"display:none;\">\n",
              "\n",
              "<svg xmlns=\"http://www.w3.org/2000/svg\" height=\"24px\"viewBox=\"0 0 24 24\"\n",
              "     width=\"24px\">\n",
              "    <g>\n",
              "        <path d=\"M19 3H5c-1.1 0-2 .9-2 2v14c0 1.1.9 2 2 2h14c1.1 0 2-.9 2-2V5c0-1.1-.9-2-2-2zM9 17H7v-7h2v7zm4 0h-2V7h2v10zm4 0h-2v-4h2v4z\"/>\n",
              "    </g>\n",
              "</svg>\n",
              "      </button>\n",
              "\n",
              "<style>\n",
              "  .colab-df-quickchart {\n",
              "      --bg-color: #E8F0FE;\n",
              "      --fill-color: #1967D2;\n",
              "      --hover-bg-color: #E2EBFA;\n",
              "      --hover-fill-color: #174EA6;\n",
              "      --disabled-fill-color: #AAA;\n",
              "      --disabled-bg-color: #DDD;\n",
              "  }\n",
              "\n",
              "  [theme=dark] .colab-df-quickchart {\n",
              "      --bg-color: #3B4455;\n",
              "      --fill-color: #D2E3FC;\n",
              "      --hover-bg-color: #434B5C;\n",
              "      --hover-fill-color: #FFFFFF;\n",
              "      --disabled-bg-color: #3B4455;\n",
              "      --disabled-fill-color: #666;\n",
              "  }\n",
              "\n",
              "  .colab-df-quickchart {\n",
              "    background-color: var(--bg-color);\n",
              "    border: none;\n",
              "    border-radius: 50%;\n",
              "    cursor: pointer;\n",
              "    display: none;\n",
              "    fill: var(--fill-color);\n",
              "    height: 32px;\n",
              "    padding: 0;\n",
              "    width: 32px;\n",
              "  }\n",
              "\n",
              "  .colab-df-quickchart:hover {\n",
              "    background-color: var(--hover-bg-color);\n",
              "    box-shadow: 0 1px 2px rgba(60, 64, 67, 0.3), 0 1px 3px 1px rgba(60, 64, 67, 0.15);\n",
              "    fill: var(--button-hover-fill-color);\n",
              "  }\n",
              "\n",
              "  .colab-df-quickchart-complete:disabled,\n",
              "  .colab-df-quickchart-complete:disabled:hover {\n",
              "    background-color: var(--disabled-bg-color);\n",
              "    fill: var(--disabled-fill-color);\n",
              "    box-shadow: none;\n",
              "  }\n",
              "\n",
              "  .colab-df-spinner {\n",
              "    border: 2px solid var(--fill-color);\n",
              "    border-color: transparent;\n",
              "    border-bottom-color: var(--fill-color);\n",
              "    animation:\n",
              "      spin 1s steps(1) infinite;\n",
              "  }\n",
              "\n",
              "  @keyframes spin {\n",
              "    0% {\n",
              "      border-color: transparent;\n",
              "      border-bottom-color: var(--fill-color);\n",
              "      border-left-color: var(--fill-color);\n",
              "    }\n",
              "    20% {\n",
              "      border-color: transparent;\n",
              "      border-left-color: var(--fill-color);\n",
              "      border-top-color: var(--fill-color);\n",
              "    }\n",
              "    30% {\n",
              "      border-color: transparent;\n",
              "      border-left-color: var(--fill-color);\n",
              "      border-top-color: var(--fill-color);\n",
              "      border-right-color: var(--fill-color);\n",
              "    }\n",
              "    40% {\n",
              "      border-color: transparent;\n",
              "      border-right-color: var(--fill-color);\n",
              "      border-top-color: var(--fill-color);\n",
              "    }\n",
              "    60% {\n",
              "      border-color: transparent;\n",
              "      border-right-color: var(--fill-color);\n",
              "    }\n",
              "    80% {\n",
              "      border-color: transparent;\n",
              "      border-right-color: var(--fill-color);\n",
              "      border-bottom-color: var(--fill-color);\n",
              "    }\n",
              "    90% {\n",
              "      border-color: transparent;\n",
              "      border-bottom-color: var(--fill-color);\n",
              "    }\n",
              "  }\n",
              "</style>\n",
              "\n",
              "      <script>\n",
              "        async function quickchart(key) {\n",
              "          const quickchartButtonEl =\n",
              "            document.querySelector('#' + key + ' button');\n",
              "          quickchartButtonEl.disabled = true;  // To prevent multiple clicks.\n",
              "          quickchartButtonEl.classList.add('colab-df-spinner');\n",
              "          try {\n",
              "            const charts = await google.colab.kernel.invokeFunction(\n",
              "                'suggestCharts', [key], {});\n",
              "          } catch (error) {\n",
              "            console.error('Error during call to suggestCharts:', error);\n",
              "          }\n",
              "          quickchartButtonEl.classList.remove('colab-df-spinner');\n",
              "          quickchartButtonEl.classList.add('colab-df-quickchart-complete');\n",
              "        }\n",
              "        (() => {\n",
              "          let quickchartButtonEl =\n",
              "            document.querySelector('#df-1356baaf-e574-4b6f-851a-e1a9002818d0 button');\n",
              "          quickchartButtonEl.style.display =\n",
              "            google.colab.kernel.accessAllowed ? 'block' : 'none';\n",
              "        })();\n",
              "      </script>\n",
              "    </div>\n",
              "\n",
              "    </div>\n",
              "  </div>\n"
            ],
            "application/vnd.google.colaboratory.intrinsic+json": {
              "type": "dataframe",
              "variable_name": "df"
            }
          },
          "metadata": {},
          "execution_count": 7
        }
      ],
      "source": [
        "df.head()"
      ]
    },
    {
      "cell_type": "code",
      "execution_count": 8,
      "metadata": {
        "colab": {
          "base_uri": "https://localhost:8080/",
          "height": 741
        },
        "collapsed": true,
        "id": "yGGiBsm9BWNG",
        "outputId": "51931b13-b184-4b36-d9da-ac28447c4a6d"
      },
      "outputs": [
        {
          "output_type": "execute_result",
          "data": {
            "text/plain": [
              "               Artist(s)                                               song  \\\n",
              "498047  박혜진 Park Hye Jin                                            Can you   \n",
              "498048  심형진 Hyungjin Sim  Lim Han Byul  Lee Hyuk - Prayer English Transl...   \n",
              "498049               우정하                       Memories Smiling Tears Remix   \n",
              "498050                제노                                    Come Back to Me   \n",
              "498051                코케                                I Wanna Be With You   \n",
              "\n",
              "                                                     text Length  emotion  \\\n",
              "498047  Can you be my (Can you be my) Can you be my (C...  03:39      joy   \n",
              "498048  [Verse] I gave you my everything But I see I c...  08:47      joy   \n",
              "498049  [Tasha]               Hell on earth, watching ...  03:53  sadness   \n",
              "498050  [Verse] Gifts and flowers lay upon the lid Of ...  03:12  sadness   \n",
              "498051  I wanna b with you I wanna b with you baby Yea...  03:32     love   \n",
              "\n",
              "            Genre                                              Album  \\\n",
              "498047      house                   Can you (Galcher Lustwerk Remix)   \n",
              "498048  metalcore                                  비 준비하시니 Psalm_147   \n",
              "498049    hip hop                                             MEMORY   \n",
              "498050    hip hop                                   2008 to me again   \n",
              "498051    hip hop  I Wanna Be With You : Originally Performed By ...   \n",
              "\n",
              "       Release Date     Key     Tempo  ...  Good for Morning Routine  \\\n",
              "498047   2020-10-14   B min  0.644970  ...                         0   \n",
              "498048   2022-04-19  G# Maj  0.573964  ...                         0   \n",
              "498049   2023-08-30  G# min  0.260355  ...                         0   \n",
              "498050          NaN   E Maj  0.562130  ...                         0   \n",
              "498051   2020-11-04   D Maj  0.408284  ...                         0   \n",
              "\n",
              "              Similar Artist 1               Similar Song 1  \\\n",
              "498047            LXST CXNTURY                NEVER EXISTED   \n",
              "498048               Kari Jobe                 No Fear Live   \n",
              "498049  Manic Street Preachers               People Give In   \n",
              "498050            Bonnie Raitt          I Can't Help Myself   \n",
              "498051       Ameritz - Karaoke  Roxanne 97 Puff Daddy Remix   \n",
              "\n",
              "        Similarity Score 1                 Similar Artist 2  \\\n",
              "498047            0.946429                 Occvlt,StoneDogg   \n",
              "498048            0.991961       The Belonging Co,Kari Jobe   \n",
              "498049            0.982809                    Vinyl Theatre   \n",
              "498050            0.983805  J. Roddy Walston & The Business   \n",
              "498051            0.987132                Ameritz - Karaoke   \n",
              "\n",
              "              Similar Song 2  Similarity Score 2   Similar Artist 3  \\\n",
              "498047                ALIZAY            0.926155            Peaches   \n",
              "498048  Closer To Your Heart            0.990956        Saintseneca   \n",
              "498049                  Gold            0.980835           Unspoken   \n",
              "498050            Bad Habits            0.982425       Idina Menzel   \n",
              "498051               Roxanne            0.987132  ProSource Karaoke   \n",
              "\n",
              "                 Similar Song 3  Similarity Score 3  \n",
              "498047          Light in Places            0.923749  \n",
              "498048             Pillar of Na            0.990385  \n",
              "498049  Life in the Death of Me            0.980171  \n",
              "498050       Damsel In Distress            0.975935  \n",
              "498051  Get Back Single Version            0.984674  \n",
              "\n",
              "[5 rows x 39 columns]"
            ],
            "text/html": [
              "\n",
              "  <div id=\"df-32dd7d35-0367-4ffe-a86b-cd854eaa2548\" class=\"colab-df-container\">\n",
              "    <div>\n",
              "<style scoped>\n",
              "    .dataframe tbody tr th:only-of-type {\n",
              "        vertical-align: middle;\n",
              "    }\n",
              "\n",
              "    .dataframe tbody tr th {\n",
              "        vertical-align: top;\n",
              "    }\n",
              "\n",
              "    .dataframe thead th {\n",
              "        text-align: right;\n",
              "    }\n",
              "</style>\n",
              "<table border=\"1\" class=\"dataframe\">\n",
              "  <thead>\n",
              "    <tr style=\"text-align: right;\">\n",
              "      <th></th>\n",
              "      <th>Artist(s)</th>\n",
              "      <th>song</th>\n",
              "      <th>text</th>\n",
              "      <th>Length</th>\n",
              "      <th>emotion</th>\n",
              "      <th>Genre</th>\n",
              "      <th>Album</th>\n",
              "      <th>Release Date</th>\n",
              "      <th>Key</th>\n",
              "      <th>Tempo</th>\n",
              "      <th>...</th>\n",
              "      <th>Good for Morning Routine</th>\n",
              "      <th>Similar Artist 1</th>\n",
              "      <th>Similar Song 1</th>\n",
              "      <th>Similarity Score 1</th>\n",
              "      <th>Similar Artist 2</th>\n",
              "      <th>Similar Song 2</th>\n",
              "      <th>Similarity Score 2</th>\n",
              "      <th>Similar Artist 3</th>\n",
              "      <th>Similar Song 3</th>\n",
              "      <th>Similarity Score 3</th>\n",
              "    </tr>\n",
              "  </thead>\n",
              "  <tbody>\n",
              "    <tr>\n",
              "      <th>498047</th>\n",
              "      <td>박혜진 Park Hye Jin</td>\n",
              "      <td>Can you</td>\n",
              "      <td>Can you be my (Can you be my) Can you be my (C...</td>\n",
              "      <td>03:39</td>\n",
              "      <td>joy</td>\n",
              "      <td>house</td>\n",
              "      <td>Can you (Galcher Lustwerk Remix)</td>\n",
              "      <td>2020-10-14</td>\n",
              "      <td>B min</td>\n",
              "      <td>0.644970</td>\n",
              "      <td>...</td>\n",
              "      <td>0</td>\n",
              "      <td>LXST CXNTURY</td>\n",
              "      <td>NEVER EXISTED</td>\n",
              "      <td>0.946429</td>\n",
              "      <td>Occvlt,StoneDogg</td>\n",
              "      <td>ALIZAY</td>\n",
              "      <td>0.926155</td>\n",
              "      <td>Peaches</td>\n",
              "      <td>Light in Places</td>\n",
              "      <td>0.923749</td>\n",
              "    </tr>\n",
              "    <tr>\n",
              "      <th>498048</th>\n",
              "      <td>심형진 Hyungjin Sim</td>\n",
              "      <td>Lim Han Byul  Lee Hyuk - Prayer English Transl...</td>\n",
              "      <td>[Verse] I gave you my everything But I see I c...</td>\n",
              "      <td>08:47</td>\n",
              "      <td>joy</td>\n",
              "      <td>metalcore</td>\n",
              "      <td>비 준비하시니 Psalm_147</td>\n",
              "      <td>2022-04-19</td>\n",
              "      <td>G# Maj</td>\n",
              "      <td>0.573964</td>\n",
              "      <td>...</td>\n",
              "      <td>0</td>\n",
              "      <td>Kari Jobe</td>\n",
              "      <td>No Fear Live</td>\n",
              "      <td>0.991961</td>\n",
              "      <td>The Belonging Co,Kari Jobe</td>\n",
              "      <td>Closer To Your Heart</td>\n",
              "      <td>0.990956</td>\n",
              "      <td>Saintseneca</td>\n",
              "      <td>Pillar of Na</td>\n",
              "      <td>0.990385</td>\n",
              "    </tr>\n",
              "    <tr>\n",
              "      <th>498049</th>\n",
              "      <td>우정하</td>\n",
              "      <td>Memories Smiling Tears Remix</td>\n",
              "      <td>[Tasha]               Hell on earth, watching ...</td>\n",
              "      <td>03:53</td>\n",
              "      <td>sadness</td>\n",
              "      <td>hip hop</td>\n",
              "      <td>MEMORY</td>\n",
              "      <td>2023-08-30</td>\n",
              "      <td>G# min</td>\n",
              "      <td>0.260355</td>\n",
              "      <td>...</td>\n",
              "      <td>0</td>\n",
              "      <td>Manic Street Preachers</td>\n",
              "      <td>People Give In</td>\n",
              "      <td>0.982809</td>\n",
              "      <td>Vinyl Theatre</td>\n",
              "      <td>Gold</td>\n",
              "      <td>0.980835</td>\n",
              "      <td>Unspoken</td>\n",
              "      <td>Life in the Death of Me</td>\n",
              "      <td>0.980171</td>\n",
              "    </tr>\n",
              "    <tr>\n",
              "      <th>498050</th>\n",
              "      <td>제노</td>\n",
              "      <td>Come Back to Me</td>\n",
              "      <td>[Verse] Gifts and flowers lay upon the lid Of ...</td>\n",
              "      <td>03:12</td>\n",
              "      <td>sadness</td>\n",
              "      <td>hip hop</td>\n",
              "      <td>2008 to me again</td>\n",
              "      <td>NaN</td>\n",
              "      <td>E Maj</td>\n",
              "      <td>0.562130</td>\n",
              "      <td>...</td>\n",
              "      <td>0</td>\n",
              "      <td>Bonnie Raitt</td>\n",
              "      <td>I Can't Help Myself</td>\n",
              "      <td>0.983805</td>\n",
              "      <td>J. Roddy Walston &amp; The Business</td>\n",
              "      <td>Bad Habits</td>\n",
              "      <td>0.982425</td>\n",
              "      <td>Idina Menzel</td>\n",
              "      <td>Damsel In Distress</td>\n",
              "      <td>0.975935</td>\n",
              "    </tr>\n",
              "    <tr>\n",
              "      <th>498051</th>\n",
              "      <td>코케</td>\n",
              "      <td>I Wanna Be With You</td>\n",
              "      <td>I wanna b with you I wanna b with you baby Yea...</td>\n",
              "      <td>03:32</td>\n",
              "      <td>love</td>\n",
              "      <td>hip hop</td>\n",
              "      <td>I Wanna Be With You : Originally Performed By ...</td>\n",
              "      <td>2020-11-04</td>\n",
              "      <td>D Maj</td>\n",
              "      <td>0.408284</td>\n",
              "      <td>...</td>\n",
              "      <td>0</td>\n",
              "      <td>Ameritz - Karaoke</td>\n",
              "      <td>Roxanne 97 Puff Daddy Remix</td>\n",
              "      <td>0.987132</td>\n",
              "      <td>Ameritz - Karaoke</td>\n",
              "      <td>Roxanne</td>\n",
              "      <td>0.987132</td>\n",
              "      <td>ProSource Karaoke</td>\n",
              "      <td>Get Back Single Version</td>\n",
              "      <td>0.984674</td>\n",
              "    </tr>\n",
              "  </tbody>\n",
              "</table>\n",
              "<p>5 rows × 39 columns</p>\n",
              "</div>\n",
              "    <div class=\"colab-df-buttons\">\n",
              "\n",
              "  <div class=\"colab-df-container\">\n",
              "    <button class=\"colab-df-convert\" onclick=\"convertToInteractive('df-32dd7d35-0367-4ffe-a86b-cd854eaa2548')\"\n",
              "            title=\"Convert this dataframe to an interactive table.\"\n",
              "            style=\"display:none;\">\n",
              "\n",
              "  <svg xmlns=\"http://www.w3.org/2000/svg\" height=\"24px\" viewBox=\"0 -960 960 960\">\n",
              "    <path d=\"M120-120v-720h720v720H120Zm60-500h600v-160H180v160Zm220 220h160v-160H400v160Zm0 220h160v-160H400v160ZM180-400h160v-160H180v160Zm440 0h160v-160H620v160ZM180-180h160v-160H180v160Zm440 0h160v-160H620v160Z\"/>\n",
              "  </svg>\n",
              "    </button>\n",
              "\n",
              "  <style>\n",
              "    .colab-df-container {\n",
              "      display:flex;\n",
              "      gap: 12px;\n",
              "    }\n",
              "\n",
              "    .colab-df-convert {\n",
              "      background-color: #E8F0FE;\n",
              "      border: none;\n",
              "      border-radius: 50%;\n",
              "      cursor: pointer;\n",
              "      display: none;\n",
              "      fill: #1967D2;\n",
              "      height: 32px;\n",
              "      padding: 0 0 0 0;\n",
              "      width: 32px;\n",
              "    }\n",
              "\n",
              "    .colab-df-convert:hover {\n",
              "      background-color: #E2EBFA;\n",
              "      box-shadow: 0px 1px 2px rgba(60, 64, 67, 0.3), 0px 1px 3px 1px rgba(60, 64, 67, 0.15);\n",
              "      fill: #174EA6;\n",
              "    }\n",
              "\n",
              "    .colab-df-buttons div {\n",
              "      margin-bottom: 4px;\n",
              "    }\n",
              "\n",
              "    [theme=dark] .colab-df-convert {\n",
              "      background-color: #3B4455;\n",
              "      fill: #D2E3FC;\n",
              "    }\n",
              "\n",
              "    [theme=dark] .colab-df-convert:hover {\n",
              "      background-color: #434B5C;\n",
              "      box-shadow: 0px 1px 3px 1px rgba(0, 0, 0, 0.15);\n",
              "      filter: drop-shadow(0px 1px 2px rgba(0, 0, 0, 0.3));\n",
              "      fill: #FFFFFF;\n",
              "    }\n",
              "  </style>\n",
              "\n",
              "    <script>\n",
              "      const buttonEl =\n",
              "        document.querySelector('#df-32dd7d35-0367-4ffe-a86b-cd854eaa2548 button.colab-df-convert');\n",
              "      buttonEl.style.display =\n",
              "        google.colab.kernel.accessAllowed ? 'block' : 'none';\n",
              "\n",
              "      async function convertToInteractive(key) {\n",
              "        const element = document.querySelector('#df-32dd7d35-0367-4ffe-a86b-cd854eaa2548');\n",
              "        const dataTable =\n",
              "          await google.colab.kernel.invokeFunction('convertToInteractive',\n",
              "                                                    [key], {});\n",
              "        if (!dataTable) return;\n",
              "\n",
              "        const docLinkHtml = 'Like what you see? Visit the ' +\n",
              "          '<a target=\"_blank\" href=https://colab.research.google.com/notebooks/data_table.ipynb>data table notebook</a>'\n",
              "          + ' to learn more about interactive tables.';\n",
              "        element.innerHTML = '';\n",
              "        dataTable['output_type'] = 'display_data';\n",
              "        await google.colab.output.renderOutput(dataTable, element);\n",
              "        const docLink = document.createElement('div');\n",
              "        docLink.innerHTML = docLinkHtml;\n",
              "        element.appendChild(docLink);\n",
              "      }\n",
              "    </script>\n",
              "  </div>\n",
              "\n",
              "\n",
              "    <div id=\"df-4b7c41c8-0c84-4caf-9c22-552a1036afc6\">\n",
              "      <button class=\"colab-df-quickchart\" onclick=\"quickchart('df-4b7c41c8-0c84-4caf-9c22-552a1036afc6')\"\n",
              "                title=\"Suggest charts\"\n",
              "                style=\"display:none;\">\n",
              "\n",
              "<svg xmlns=\"http://www.w3.org/2000/svg\" height=\"24px\"viewBox=\"0 0 24 24\"\n",
              "     width=\"24px\">\n",
              "    <g>\n",
              "        <path d=\"M19 3H5c-1.1 0-2 .9-2 2v14c0 1.1.9 2 2 2h14c1.1 0 2-.9 2-2V5c0-1.1-.9-2-2-2zM9 17H7v-7h2v7zm4 0h-2V7h2v10zm4 0h-2v-4h2v4z\"/>\n",
              "    </g>\n",
              "</svg>\n",
              "      </button>\n",
              "\n",
              "<style>\n",
              "  .colab-df-quickchart {\n",
              "      --bg-color: #E8F0FE;\n",
              "      --fill-color: #1967D2;\n",
              "      --hover-bg-color: #E2EBFA;\n",
              "      --hover-fill-color: #174EA6;\n",
              "      --disabled-fill-color: #AAA;\n",
              "      --disabled-bg-color: #DDD;\n",
              "  }\n",
              "\n",
              "  [theme=dark] .colab-df-quickchart {\n",
              "      --bg-color: #3B4455;\n",
              "      --fill-color: #D2E3FC;\n",
              "      --hover-bg-color: #434B5C;\n",
              "      --hover-fill-color: #FFFFFF;\n",
              "      --disabled-bg-color: #3B4455;\n",
              "      --disabled-fill-color: #666;\n",
              "  }\n",
              "\n",
              "  .colab-df-quickchart {\n",
              "    background-color: var(--bg-color);\n",
              "    border: none;\n",
              "    border-radius: 50%;\n",
              "    cursor: pointer;\n",
              "    display: none;\n",
              "    fill: var(--fill-color);\n",
              "    height: 32px;\n",
              "    padding: 0;\n",
              "    width: 32px;\n",
              "  }\n",
              "\n",
              "  .colab-df-quickchart:hover {\n",
              "    background-color: var(--hover-bg-color);\n",
              "    box-shadow: 0 1px 2px rgba(60, 64, 67, 0.3), 0 1px 3px 1px rgba(60, 64, 67, 0.15);\n",
              "    fill: var(--button-hover-fill-color);\n",
              "  }\n",
              "\n",
              "  .colab-df-quickchart-complete:disabled,\n",
              "  .colab-df-quickchart-complete:disabled:hover {\n",
              "    background-color: var(--disabled-bg-color);\n",
              "    fill: var(--disabled-fill-color);\n",
              "    box-shadow: none;\n",
              "  }\n",
              "\n",
              "  .colab-df-spinner {\n",
              "    border: 2px solid var(--fill-color);\n",
              "    border-color: transparent;\n",
              "    border-bottom-color: var(--fill-color);\n",
              "    animation:\n",
              "      spin 1s steps(1) infinite;\n",
              "  }\n",
              "\n",
              "  @keyframes spin {\n",
              "    0% {\n",
              "      border-color: transparent;\n",
              "      border-bottom-color: var(--fill-color);\n",
              "      border-left-color: var(--fill-color);\n",
              "    }\n",
              "    20% {\n",
              "      border-color: transparent;\n",
              "      border-left-color: var(--fill-color);\n",
              "      border-top-color: var(--fill-color);\n",
              "    }\n",
              "    30% {\n",
              "      border-color: transparent;\n",
              "      border-left-color: var(--fill-color);\n",
              "      border-top-color: var(--fill-color);\n",
              "      border-right-color: var(--fill-color);\n",
              "    }\n",
              "    40% {\n",
              "      border-color: transparent;\n",
              "      border-right-color: var(--fill-color);\n",
              "      border-top-color: var(--fill-color);\n",
              "    }\n",
              "    60% {\n",
              "      border-color: transparent;\n",
              "      border-right-color: var(--fill-color);\n",
              "    }\n",
              "    80% {\n",
              "      border-color: transparent;\n",
              "      border-right-color: var(--fill-color);\n",
              "      border-bottom-color: var(--fill-color);\n",
              "    }\n",
              "    90% {\n",
              "      border-color: transparent;\n",
              "      border-bottom-color: var(--fill-color);\n",
              "    }\n",
              "  }\n",
              "</style>\n",
              "\n",
              "      <script>\n",
              "        async function quickchart(key) {\n",
              "          const quickchartButtonEl =\n",
              "            document.querySelector('#' + key + ' button');\n",
              "          quickchartButtonEl.disabled = true;  // To prevent multiple clicks.\n",
              "          quickchartButtonEl.classList.add('colab-df-spinner');\n",
              "          try {\n",
              "            const charts = await google.colab.kernel.invokeFunction(\n",
              "                'suggestCharts', [key], {});\n",
              "          } catch (error) {\n",
              "            console.error('Error during call to suggestCharts:', error);\n",
              "          }\n",
              "          quickchartButtonEl.classList.remove('colab-df-spinner');\n",
              "          quickchartButtonEl.classList.add('colab-df-quickchart-complete');\n",
              "        }\n",
              "        (() => {\n",
              "          let quickchartButtonEl =\n",
              "            document.querySelector('#df-4b7c41c8-0c84-4caf-9c22-552a1036afc6 button');\n",
              "          quickchartButtonEl.style.display =\n",
              "            google.colab.kernel.accessAllowed ? 'block' : 'none';\n",
              "        })();\n",
              "      </script>\n",
              "    </div>\n",
              "\n",
              "    </div>\n",
              "  </div>\n"
            ],
            "application/vnd.google.colaboratory.intrinsic+json": {
              "type": "dataframe"
            }
          },
          "metadata": {},
          "execution_count": 8
        }
      ],
      "source": [
        "df.tail()"
      ]
    },
    {
      "cell_type": "code",
      "execution_count": 9,
      "metadata": {
        "colab": {
          "base_uri": "https://localhost:8080/",
          "height": 759
        },
        "collapsed": true,
        "id": "pB5h0LCSBXps",
        "outputId": "c577174f-3b27-46b8-aa6b-58ca24ed2ecd"
      },
      "outputs": [
        {
          "output_type": "execute_result",
          "data": {
            "text/plain": [
              "              Artist(s)                                             song  \\\n",
              "140181           Exposé                             Now That I Found You   \n",
              "186112        Ian Isiah                                          Bedroom   \n",
              "206542  Jesus Loves You  Bow Down Mister (A Small Portion 2B Polite Mix)   \n",
              "316924        Octayvian                                         Untitled   \n",
              "149557  Forth Wanderers                                             Fuck   \n",
              "\n",
              "                                                     text Length emotion  \\\n",
              "140181  I've been searching (for so long) For the love...  03:46     joy   \n",
              "186112  [Intro] My bedroom My bedroom [Verse 1] Got tw...  02:43    love   \n",
              "206542  From Bombay to Bangalore    All the Hindus kno...  03:45     joy   \n",
              "316924  [Shizzy] Bitches give me play cause I'm the ha...  01:36     joy   \n",
              "149557  You know I was thinking a lot that day but I s...  02:27     joy   \n",
              "\n",
              "          Genre                                              Album  \\\n",
              "140181      pop             What You Don't Know (Expanded Edition)   \n",
              "186112  hip hop                            Shugga Sextape (Vol. 1)   \n",
              "206542    house  At Worst...The Best Of Boy George And Culture ...   \n",
              "316924  hip hop                           FROM TH3 H3ART WITH LOV3   \n",
              "149557  hip hop                                         Tough Love   \n",
              "\n",
              "       Release Date     Key     Tempo  ...  Good for Morning Routine  \\\n",
              "140181          NaN   D min  0.520710  ...                         0   \n",
              "186112          NaN   E min  0.810651  ...                         0   \n",
              "206542          NaN   G Maj  0.437870  ...                         0   \n",
              "316924   2023-12-29  C# min  0.544379  ...                         0   \n",
              "149557   2024-07-26   C Maj  0.585799  ...                         0   \n",
              "\n",
              "         Similar Artist 1                     Similar Song 1  \\\n",
              "140181    Harry Belafonte                            Amandla   \n",
              "186112              Aswad  Need Your Love Each And Every Day   \n",
              "206542    Jesus Loves You                    Bow Down Mister   \n",
              "316924          TesseracT                            Orbital   \n",
              "149557  The Lawrence Arms                        Quiet Storm   \n",
              "\n",
              "        Similarity Score 1         Similar Artist 2  Similar Song 2  \\\n",
              "140181            0.985183                 Boney M.     Lady Godiva   \n",
              "186112            0.976429  Heidi Tiffany,ZJ Dymond         Call Me   \n",
              "206542            0.998995         Jazmine Sullivan       Dream Big   \n",
              "316924            0.988792        Michael Giacchino    Welcome Back   \n",
              "149557            0.969286                      RMB          Dayman   \n",
              "\n",
              "        Similarity Score 2                                   Similar Artist 3  \\\n",
              "140181            0.984351                                         Alex Lahey   \n",
              "186112            0.975250  Charles Strouse,Chita Rivera,Susan Watson,Orig...   \n",
              "206542            0.988045                                       Anevo,Jae-Mi   \n",
              "316924            0.988573  Christmas All Year Round,XMAS Moods 2020,Holly...   \n",
              "149557            0.966484                                       Babyshambles   \n",
              "\n",
              "                              Similar Song 3  Similarity Score 3  \n",
              "140181                  L-L-L-Leave Me Alone            0.983481  \n",
              "186112           What Did I Ever See In Him?            0.973432  \n",
              "206542                    Dont Shoot Me Down            0.987947  \n",
              "316924  A Boy Is Born In Bethlehem Christmas            0.986970  \n",
              "149557                              Pipedown            0.965765  \n",
              "\n",
              "[5 rows x 39 columns]"
            ],
            "text/html": [
              "\n",
              "  <div id=\"df-0047ee3e-adb3-4417-8b21-7fb7adb6d888\" class=\"colab-df-container\">\n",
              "    <div>\n",
              "<style scoped>\n",
              "    .dataframe tbody tr th:only-of-type {\n",
              "        vertical-align: middle;\n",
              "    }\n",
              "\n",
              "    .dataframe tbody tr th {\n",
              "        vertical-align: top;\n",
              "    }\n",
              "\n",
              "    .dataframe thead th {\n",
              "        text-align: right;\n",
              "    }\n",
              "</style>\n",
              "<table border=\"1\" class=\"dataframe\">\n",
              "  <thead>\n",
              "    <tr style=\"text-align: right;\">\n",
              "      <th></th>\n",
              "      <th>Artist(s)</th>\n",
              "      <th>song</th>\n",
              "      <th>text</th>\n",
              "      <th>Length</th>\n",
              "      <th>emotion</th>\n",
              "      <th>Genre</th>\n",
              "      <th>Album</th>\n",
              "      <th>Release Date</th>\n",
              "      <th>Key</th>\n",
              "      <th>Tempo</th>\n",
              "      <th>...</th>\n",
              "      <th>Good for Morning Routine</th>\n",
              "      <th>Similar Artist 1</th>\n",
              "      <th>Similar Song 1</th>\n",
              "      <th>Similarity Score 1</th>\n",
              "      <th>Similar Artist 2</th>\n",
              "      <th>Similar Song 2</th>\n",
              "      <th>Similarity Score 2</th>\n",
              "      <th>Similar Artist 3</th>\n",
              "      <th>Similar Song 3</th>\n",
              "      <th>Similarity Score 3</th>\n",
              "    </tr>\n",
              "  </thead>\n",
              "  <tbody>\n",
              "    <tr>\n",
              "      <th>140181</th>\n",
              "      <td>Exposé</td>\n",
              "      <td>Now That I Found You</td>\n",
              "      <td>I've been searching (for so long) For the love...</td>\n",
              "      <td>03:46</td>\n",
              "      <td>joy</td>\n",
              "      <td>pop</td>\n",
              "      <td>What You Don't Know (Expanded Edition)</td>\n",
              "      <td>NaN</td>\n",
              "      <td>D min</td>\n",
              "      <td>0.520710</td>\n",
              "      <td>...</td>\n",
              "      <td>0</td>\n",
              "      <td>Harry Belafonte</td>\n",
              "      <td>Amandla</td>\n",
              "      <td>0.985183</td>\n",
              "      <td>Boney M.</td>\n",
              "      <td>Lady Godiva</td>\n",
              "      <td>0.984351</td>\n",
              "      <td>Alex Lahey</td>\n",
              "      <td>L-L-L-Leave Me Alone</td>\n",
              "      <td>0.983481</td>\n",
              "    </tr>\n",
              "    <tr>\n",
              "      <th>186112</th>\n",
              "      <td>Ian Isiah</td>\n",
              "      <td>Bedroom</td>\n",
              "      <td>[Intro] My bedroom My bedroom [Verse 1] Got tw...</td>\n",
              "      <td>02:43</td>\n",
              "      <td>love</td>\n",
              "      <td>hip hop</td>\n",
              "      <td>Shugga Sextape (Vol. 1)</td>\n",
              "      <td>NaN</td>\n",
              "      <td>E min</td>\n",
              "      <td>0.810651</td>\n",
              "      <td>...</td>\n",
              "      <td>0</td>\n",
              "      <td>Aswad</td>\n",
              "      <td>Need Your Love Each And Every Day</td>\n",
              "      <td>0.976429</td>\n",
              "      <td>Heidi Tiffany,ZJ Dymond</td>\n",
              "      <td>Call Me</td>\n",
              "      <td>0.975250</td>\n",
              "      <td>Charles Strouse,Chita Rivera,Susan Watson,Orig...</td>\n",
              "      <td>What Did I Ever See In Him?</td>\n",
              "      <td>0.973432</td>\n",
              "    </tr>\n",
              "    <tr>\n",
              "      <th>206542</th>\n",
              "      <td>Jesus Loves You</td>\n",
              "      <td>Bow Down Mister (A Small Portion 2B Polite Mix)</td>\n",
              "      <td>From Bombay to Bangalore    All the Hindus kno...</td>\n",
              "      <td>03:45</td>\n",
              "      <td>joy</td>\n",
              "      <td>house</td>\n",
              "      <td>At Worst...The Best Of Boy George And Culture ...</td>\n",
              "      <td>NaN</td>\n",
              "      <td>G Maj</td>\n",
              "      <td>0.437870</td>\n",
              "      <td>...</td>\n",
              "      <td>0</td>\n",
              "      <td>Jesus Loves You</td>\n",
              "      <td>Bow Down Mister</td>\n",
              "      <td>0.998995</td>\n",
              "      <td>Jazmine Sullivan</td>\n",
              "      <td>Dream Big</td>\n",
              "      <td>0.988045</td>\n",
              "      <td>Anevo,Jae-Mi</td>\n",
              "      <td>Dont Shoot Me Down</td>\n",
              "      <td>0.987947</td>\n",
              "    </tr>\n",
              "    <tr>\n",
              "      <th>316924</th>\n",
              "      <td>Octayvian</td>\n",
              "      <td>Untitled</td>\n",
              "      <td>[Shizzy] Bitches give me play cause I'm the ha...</td>\n",
              "      <td>01:36</td>\n",
              "      <td>joy</td>\n",
              "      <td>hip hop</td>\n",
              "      <td>FROM TH3 H3ART WITH LOV3</td>\n",
              "      <td>2023-12-29</td>\n",
              "      <td>C# min</td>\n",
              "      <td>0.544379</td>\n",
              "      <td>...</td>\n",
              "      <td>0</td>\n",
              "      <td>TesseracT</td>\n",
              "      <td>Orbital</td>\n",
              "      <td>0.988792</td>\n",
              "      <td>Michael Giacchino</td>\n",
              "      <td>Welcome Back</td>\n",
              "      <td>0.988573</td>\n",
              "      <td>Christmas All Year Round,XMAS Moods 2020,Holly...</td>\n",
              "      <td>A Boy Is Born In Bethlehem Christmas</td>\n",
              "      <td>0.986970</td>\n",
              "    </tr>\n",
              "    <tr>\n",
              "      <th>149557</th>\n",
              "      <td>Forth Wanderers</td>\n",
              "      <td>Fuck</td>\n",
              "      <td>You know I was thinking a lot that day but I s...</td>\n",
              "      <td>02:27</td>\n",
              "      <td>joy</td>\n",
              "      <td>hip hop</td>\n",
              "      <td>Tough Love</td>\n",
              "      <td>2024-07-26</td>\n",
              "      <td>C Maj</td>\n",
              "      <td>0.585799</td>\n",
              "      <td>...</td>\n",
              "      <td>0</td>\n",
              "      <td>The Lawrence Arms</td>\n",
              "      <td>Quiet Storm</td>\n",
              "      <td>0.969286</td>\n",
              "      <td>RMB</td>\n",
              "      <td>Dayman</td>\n",
              "      <td>0.966484</td>\n",
              "      <td>Babyshambles</td>\n",
              "      <td>Pipedown</td>\n",
              "      <td>0.965765</td>\n",
              "    </tr>\n",
              "  </tbody>\n",
              "</table>\n",
              "<p>5 rows × 39 columns</p>\n",
              "</div>\n",
              "    <div class=\"colab-df-buttons\">\n",
              "\n",
              "  <div class=\"colab-df-container\">\n",
              "    <button class=\"colab-df-convert\" onclick=\"convertToInteractive('df-0047ee3e-adb3-4417-8b21-7fb7adb6d888')\"\n",
              "            title=\"Convert this dataframe to an interactive table.\"\n",
              "            style=\"display:none;\">\n",
              "\n",
              "  <svg xmlns=\"http://www.w3.org/2000/svg\" height=\"24px\" viewBox=\"0 -960 960 960\">\n",
              "    <path d=\"M120-120v-720h720v720H120Zm60-500h600v-160H180v160Zm220 220h160v-160H400v160Zm0 220h160v-160H400v160ZM180-400h160v-160H180v160Zm440 0h160v-160H620v160ZM180-180h160v-160H180v160Zm440 0h160v-160H620v160Z\"/>\n",
              "  </svg>\n",
              "    </button>\n",
              "\n",
              "  <style>\n",
              "    .colab-df-container {\n",
              "      display:flex;\n",
              "      gap: 12px;\n",
              "    }\n",
              "\n",
              "    .colab-df-convert {\n",
              "      background-color: #E8F0FE;\n",
              "      border: none;\n",
              "      border-radius: 50%;\n",
              "      cursor: pointer;\n",
              "      display: none;\n",
              "      fill: #1967D2;\n",
              "      height: 32px;\n",
              "      padding: 0 0 0 0;\n",
              "      width: 32px;\n",
              "    }\n",
              "\n",
              "    .colab-df-convert:hover {\n",
              "      background-color: #E2EBFA;\n",
              "      box-shadow: 0px 1px 2px rgba(60, 64, 67, 0.3), 0px 1px 3px 1px rgba(60, 64, 67, 0.15);\n",
              "      fill: #174EA6;\n",
              "    }\n",
              "\n",
              "    .colab-df-buttons div {\n",
              "      margin-bottom: 4px;\n",
              "    }\n",
              "\n",
              "    [theme=dark] .colab-df-convert {\n",
              "      background-color: #3B4455;\n",
              "      fill: #D2E3FC;\n",
              "    }\n",
              "\n",
              "    [theme=dark] .colab-df-convert:hover {\n",
              "      background-color: #434B5C;\n",
              "      box-shadow: 0px 1px 3px 1px rgba(0, 0, 0, 0.15);\n",
              "      filter: drop-shadow(0px 1px 2px rgba(0, 0, 0, 0.3));\n",
              "      fill: #FFFFFF;\n",
              "    }\n",
              "  </style>\n",
              "\n",
              "    <script>\n",
              "      const buttonEl =\n",
              "        document.querySelector('#df-0047ee3e-adb3-4417-8b21-7fb7adb6d888 button.colab-df-convert');\n",
              "      buttonEl.style.display =\n",
              "        google.colab.kernel.accessAllowed ? 'block' : 'none';\n",
              "\n",
              "      async function convertToInteractive(key) {\n",
              "        const element = document.querySelector('#df-0047ee3e-adb3-4417-8b21-7fb7adb6d888');\n",
              "        const dataTable =\n",
              "          await google.colab.kernel.invokeFunction('convertToInteractive',\n",
              "                                                    [key], {});\n",
              "        if (!dataTable) return;\n",
              "\n",
              "        const docLinkHtml = 'Like what you see? Visit the ' +\n",
              "          '<a target=\"_blank\" href=https://colab.research.google.com/notebooks/data_table.ipynb>data table notebook</a>'\n",
              "          + ' to learn more about interactive tables.';\n",
              "        element.innerHTML = '';\n",
              "        dataTable['output_type'] = 'display_data';\n",
              "        await google.colab.output.renderOutput(dataTable, element);\n",
              "        const docLink = document.createElement('div');\n",
              "        docLink.innerHTML = docLinkHtml;\n",
              "        element.appendChild(docLink);\n",
              "      }\n",
              "    </script>\n",
              "  </div>\n",
              "\n",
              "\n",
              "    <div id=\"df-d66c2c02-56cf-4b6e-a1e8-a08f7660ab5b\">\n",
              "      <button class=\"colab-df-quickchart\" onclick=\"quickchart('df-d66c2c02-56cf-4b6e-a1e8-a08f7660ab5b')\"\n",
              "                title=\"Suggest charts\"\n",
              "                style=\"display:none;\">\n",
              "\n",
              "<svg xmlns=\"http://www.w3.org/2000/svg\" height=\"24px\"viewBox=\"0 0 24 24\"\n",
              "     width=\"24px\">\n",
              "    <g>\n",
              "        <path d=\"M19 3H5c-1.1 0-2 .9-2 2v14c0 1.1.9 2 2 2h14c1.1 0 2-.9 2-2V5c0-1.1-.9-2-2-2zM9 17H7v-7h2v7zm4 0h-2V7h2v10zm4 0h-2v-4h2v4z\"/>\n",
              "    </g>\n",
              "</svg>\n",
              "      </button>\n",
              "\n",
              "<style>\n",
              "  .colab-df-quickchart {\n",
              "      --bg-color: #E8F0FE;\n",
              "      --fill-color: #1967D2;\n",
              "      --hover-bg-color: #E2EBFA;\n",
              "      --hover-fill-color: #174EA6;\n",
              "      --disabled-fill-color: #AAA;\n",
              "      --disabled-bg-color: #DDD;\n",
              "  }\n",
              "\n",
              "  [theme=dark] .colab-df-quickchart {\n",
              "      --bg-color: #3B4455;\n",
              "      --fill-color: #D2E3FC;\n",
              "      --hover-bg-color: #434B5C;\n",
              "      --hover-fill-color: #FFFFFF;\n",
              "      --disabled-bg-color: #3B4455;\n",
              "      --disabled-fill-color: #666;\n",
              "  }\n",
              "\n",
              "  .colab-df-quickchart {\n",
              "    background-color: var(--bg-color);\n",
              "    border: none;\n",
              "    border-radius: 50%;\n",
              "    cursor: pointer;\n",
              "    display: none;\n",
              "    fill: var(--fill-color);\n",
              "    height: 32px;\n",
              "    padding: 0;\n",
              "    width: 32px;\n",
              "  }\n",
              "\n",
              "  .colab-df-quickchart:hover {\n",
              "    background-color: var(--hover-bg-color);\n",
              "    box-shadow: 0 1px 2px rgba(60, 64, 67, 0.3), 0 1px 3px 1px rgba(60, 64, 67, 0.15);\n",
              "    fill: var(--button-hover-fill-color);\n",
              "  }\n",
              "\n",
              "  .colab-df-quickchart-complete:disabled,\n",
              "  .colab-df-quickchart-complete:disabled:hover {\n",
              "    background-color: var(--disabled-bg-color);\n",
              "    fill: var(--disabled-fill-color);\n",
              "    box-shadow: none;\n",
              "  }\n",
              "\n",
              "  .colab-df-spinner {\n",
              "    border: 2px solid var(--fill-color);\n",
              "    border-color: transparent;\n",
              "    border-bottom-color: var(--fill-color);\n",
              "    animation:\n",
              "      spin 1s steps(1) infinite;\n",
              "  }\n",
              "\n",
              "  @keyframes spin {\n",
              "    0% {\n",
              "      border-color: transparent;\n",
              "      border-bottom-color: var(--fill-color);\n",
              "      border-left-color: var(--fill-color);\n",
              "    }\n",
              "    20% {\n",
              "      border-color: transparent;\n",
              "      border-left-color: var(--fill-color);\n",
              "      border-top-color: var(--fill-color);\n",
              "    }\n",
              "    30% {\n",
              "      border-color: transparent;\n",
              "      border-left-color: var(--fill-color);\n",
              "      border-top-color: var(--fill-color);\n",
              "      border-right-color: var(--fill-color);\n",
              "    }\n",
              "    40% {\n",
              "      border-color: transparent;\n",
              "      border-right-color: var(--fill-color);\n",
              "      border-top-color: var(--fill-color);\n",
              "    }\n",
              "    60% {\n",
              "      border-color: transparent;\n",
              "      border-right-color: var(--fill-color);\n",
              "    }\n",
              "    80% {\n",
              "      border-color: transparent;\n",
              "      border-right-color: var(--fill-color);\n",
              "      border-bottom-color: var(--fill-color);\n",
              "    }\n",
              "    90% {\n",
              "      border-color: transparent;\n",
              "      border-bottom-color: var(--fill-color);\n",
              "    }\n",
              "  }\n",
              "</style>\n",
              "\n",
              "      <script>\n",
              "        async function quickchart(key) {\n",
              "          const quickchartButtonEl =\n",
              "            document.querySelector('#' + key + ' button');\n",
              "          quickchartButtonEl.disabled = true;  // To prevent multiple clicks.\n",
              "          quickchartButtonEl.classList.add('colab-df-spinner');\n",
              "          try {\n",
              "            const charts = await google.colab.kernel.invokeFunction(\n",
              "                'suggestCharts', [key], {});\n",
              "          } catch (error) {\n",
              "            console.error('Error during call to suggestCharts:', error);\n",
              "          }\n",
              "          quickchartButtonEl.classList.remove('colab-df-spinner');\n",
              "          quickchartButtonEl.classList.add('colab-df-quickchart-complete');\n",
              "        }\n",
              "        (() => {\n",
              "          let quickchartButtonEl =\n",
              "            document.querySelector('#df-d66c2c02-56cf-4b6e-a1e8-a08f7660ab5b button');\n",
              "          quickchartButtonEl.style.display =\n",
              "            google.colab.kernel.accessAllowed ? 'block' : 'none';\n",
              "        })();\n",
              "      </script>\n",
              "    </div>\n",
              "\n",
              "    </div>\n",
              "  </div>\n"
            ],
            "application/vnd.google.colaboratory.intrinsic+json": {
              "type": "dataframe"
            }
          },
          "metadata": {},
          "execution_count": 9
        }
      ],
      "source": [
        "df.sample(5)"
      ]
    },
    {
      "cell_type": "markdown",
      "metadata": {
        "id": "1iISdunjBdna"
      },
      "source": [
        "### Definir errores"
      ]
    },
    {
      "cell_type": "markdown",
      "metadata": {
        "id": "mOJZYAS1EFDR"
      },
      "source": [
        "#### Cambiar nombres de columnas a minúsculas, y reemplazar espacios y carácteres especiales"
      ]
    },
    {
      "cell_type": "code",
      "execution_count": 10,
      "metadata": {
        "id": "C4B8bgDXOi1C"
      },
      "outputs": [],
      "source": [
        "trans = str.maketrans({\n",
        "    \" \": \"_\",\n",
        "    \"/\": \"_\",\n",
        "    \"(\": \"\",\n",
        "    \")\": \"\"\n",
        "})\n",
        "\n",
        "columns = {}\n",
        "for column in df.columns:\n",
        "  columns[column] = column.strip().lower().translate(trans)\n",
        "\n",
        "df.rename(columns=columns, inplace=True)"
      ]
    },
    {
      "cell_type": "markdown",
      "metadata": {
        "id": "VVOG3t8Z9j3T"
      },
      "source": [
        "#### Separar \"Artists\" en distintas filas"
      ]
    },
    {
      "cell_type": "code",
      "execution_count": 11,
      "metadata": {
        "id": "ZSBepIsmP7X1"
      },
      "outputs": [],
      "source": [
        "# Encontré esta fila posteriormente, \"Clifton Davins,\" estaba creando una fila más al hacer .split(), .explode() por tener una coma de más.\n",
        "df.loc[469650, 'artists'] = 'Vanessa Bell Armstrong, Sandra Crouch, Patti Austin, Daryl Coley, Commissioned, Clifton Davis, Bernie K., Andrae Crouch'"
      ]
    },
    {
      "cell_type": "code",
      "execution_count": 12,
      "metadata": {
        "id": "WnlL-12c9qFD"
      },
      "outputs": [],
      "source": [
        "df['artists'] = df['artists'].str.split(r',|;')"
      ]
    },
    {
      "cell_type": "code",
      "execution_count": 13,
      "metadata": {
        "id": "8mSEmHWM9vlc"
      },
      "outputs": [],
      "source": [
        "df = df.explode('artists').reset_index(drop=True)"
      ]
    },
    {
      "cell_type": "markdown",
      "metadata": {
        "id": "OjTmf0CIvzSJ"
      },
      "source": [
        "#### Separar \"genre\" en distintas filas"
      ]
    },
    {
      "cell_type": "code",
      "execution_count": 14,
      "metadata": {
        "id": "-0YbJ3agv5Ix"
      },
      "outputs": [],
      "source": [
        "df['genre'] = df['genre'].str.split(\",\")"
      ]
    },
    {
      "cell_type": "code",
      "execution_count": 15,
      "metadata": {
        "id": "t1ZPCDbV5vF9"
      },
      "outputs": [],
      "source": [
        "df = df.explode('genre').reset_index(drop=True)"
      ]
    },
    {
      "cell_type": "markdown",
      "metadata": {
        "id": "ZNxPk-xokdJ2"
      },
      "source": [
        "#### Eliminar espacios extras de columnas tipo object"
      ]
    },
    {
      "cell_type": "code",
      "execution_count": 16,
      "metadata": {
        "id": "nTyRBql3kk-0"
      },
      "outputs": [],
      "source": [
        "for col in df.select_dtypes(include='object'):\n",
        "  if len(df[df[col].notna() & (df[col].str.strip() != df[col])]) != 0:\n",
        "    df[col] = df[col].str.strip()"
      ]
    },
    {
      "cell_type": "markdown",
      "metadata": {
        "id": "_M_k29Cf_VLn"
      },
      "source": [
        "#### Reemplazar strings vacios en 'artists'"
      ]
    },
    {
      "cell_type": "code",
      "execution_count": 17,
      "metadata": {
        "id": "nQIYUDNo_ZQ4"
      },
      "outputs": [],
      "source": [
        "artists = ['Chhrmng,', 'Desconocido', 'Desconocido', 'Desconocido']\n",
        "for i, index in enumerate(df[df['artists'].apply(lambda x: x.strip() == '')].index):\n",
        "  df.loc[index, 'artists'] = artists[i]"
      ]
    },
    {
      "cell_type": "markdown",
      "metadata": {
        "id": "pdBI8qNUuB4g"
      },
      "source": [
        "#### Convertir a minúscula \"text\" y \"emotion\""
      ]
    },
    {
      "cell_type": "code",
      "execution_count": 18,
      "metadata": {
        "id": "eM_c1QNL7BBm"
      },
      "outputs": [],
      "source": [
        "df['text'] = df['text'].str.lower()"
      ]
    },
    {
      "cell_type": "code",
      "execution_count": 19,
      "metadata": {
        "id": "tpTdNGPa7HTv"
      },
      "outputs": [],
      "source": [
        "df['emotion'] = df['emotion'].str.lower()"
      ]
    },
    {
      "cell_type": "markdown",
      "metadata": {
        "id": "AflEoLI_B7XW"
      },
      "source": [
        "#### Convertir \"length\" a timedelta"
      ]
    },
    {
      "cell_type": "code",
      "execution_count": 20,
      "metadata": {
        "id": "gZpEA98PXpIW"
      },
      "outputs": [],
      "source": [
        "df['length'] = df['length'].apply(lambda x: timedelta(minutes=int(x.split(':')[0]), seconds=int(x.split(':')[1])))"
      ]
    },
    {
      "cell_type": "markdown",
      "metadata": {
        "id": "TVS5-TDNCJ5B"
      },
      "source": [
        "#### Cambiar \"release_date\" a datetime"
      ]
    },
    {
      "cell_type": "code",
      "execution_count": 21,
      "metadata": {
        "id": "FfQpNKNbXppZ"
      },
      "outputs": [],
      "source": [
        "df['release_date'] = pd.to_datetime(df['release_date'])"
      ]
    },
    {
      "cell_type": "markdown",
      "metadata": {
        "id": "WKzwoflwCW-0"
      },
      "source": [
        "#### Cambiar valores de \"explicit\" a tipo bool"
      ]
    },
    {
      "cell_type": "code",
      "execution_count": 22,
      "metadata": {
        "id": "6v23s2n_XqGW"
      },
      "outputs": [],
      "source": [
        "df['explicit'] = df['explicit'].map({'Yes': True, 'No': False})"
      ]
    },
    {
      "cell_type": "markdown",
      "metadata": {
        "id": "ztKZQtEVC2Z-"
      },
      "source": [
        "#### Cambiar todos los valores binarios de todos los \"Good for\" a tipo bool"
      ]
    },
    {
      "cell_type": "code",
      "execution_count": 23,
      "metadata": {
        "id": "ZzseLgLcXqmA"
      },
      "outputs": [],
      "source": [
        "for column in df.columns[21:30]:\n",
        "  df[column] = df[column].map({1: True, 0: False})"
      ]
    },
    {
      "cell_type": "code",
      "execution_count": 24,
      "metadata": {
        "id": "I4hL2M43QMyB"
      },
      "outputs": [],
      "source": [
        "df = df.drop_duplicates()"
      ]
    },
    {
      "cell_type": "markdown",
      "metadata": {
        "id": "iNHPakNUEAyn"
      },
      "source": [
        "## **Filtrar outliers**"
      ]
    },
    {
      "cell_type": "code",
      "execution_count": 25,
      "metadata": {
        "colab": {
          "base_uri": "https://localhost:8080/",
          "height": 300
        },
        "id": "spDJ6ypyEKtQ",
        "outputId": "a661c1b9-6627-4b5c-ada5-1097c886634a"
      },
      "outputs": [
        {
          "output_type": "execute_result",
          "data": {
            "text/plain": [
              "                          length         tempo   loudness_db\n",
              "count                    1005026  1.005026e+06  1.005026e+06\n",
              "mean   0 days 00:03:49.560608382  5.321303e-01  7.624414e-01\n",
              "min              0 days 00:00:05  0.000000e+00  0.000000e+00\n",
              "25%              0 days 00:03:02  3.905325e-01  7.287427e-01\n",
              "50%              0 days 00:03:38  5.266272e-01  7.785247e-01\n",
              "75%              0 days 00:04:20  6.449704e-01  8.123183e-01\n",
              "max              0 days 00:59:32  1.000000e+00  1.000000e+00\n",
              "std    0 days 00:01:32.628351743  1.726622e-01  7.320502e-02"
            ],
            "text/html": [
              "\n",
              "  <div id=\"df-123ed0c5-3441-4a1e-8d77-81457fb70baa\" class=\"colab-df-container\">\n",
              "    <div>\n",
              "<style scoped>\n",
              "    .dataframe tbody tr th:only-of-type {\n",
              "        vertical-align: middle;\n",
              "    }\n",
              "\n",
              "    .dataframe tbody tr th {\n",
              "        vertical-align: top;\n",
              "    }\n",
              "\n",
              "    .dataframe thead th {\n",
              "        text-align: right;\n",
              "    }\n",
              "</style>\n",
              "<table border=\"1\" class=\"dataframe\">\n",
              "  <thead>\n",
              "    <tr style=\"text-align: right;\">\n",
              "      <th></th>\n",
              "      <th>length</th>\n",
              "      <th>tempo</th>\n",
              "      <th>loudness_db</th>\n",
              "    </tr>\n",
              "  </thead>\n",
              "  <tbody>\n",
              "    <tr>\n",
              "      <th>count</th>\n",
              "      <td>1005026</td>\n",
              "      <td>1.005026e+06</td>\n",
              "      <td>1.005026e+06</td>\n",
              "    </tr>\n",
              "    <tr>\n",
              "      <th>mean</th>\n",
              "      <td>0 days 00:03:49.560608382</td>\n",
              "      <td>5.321303e-01</td>\n",
              "      <td>7.624414e-01</td>\n",
              "    </tr>\n",
              "    <tr>\n",
              "      <th>min</th>\n",
              "      <td>0 days 00:00:05</td>\n",
              "      <td>0.000000e+00</td>\n",
              "      <td>0.000000e+00</td>\n",
              "    </tr>\n",
              "    <tr>\n",
              "      <th>25%</th>\n",
              "      <td>0 days 00:03:02</td>\n",
              "      <td>3.905325e-01</td>\n",
              "      <td>7.287427e-01</td>\n",
              "    </tr>\n",
              "    <tr>\n",
              "      <th>50%</th>\n",
              "      <td>0 days 00:03:38</td>\n",
              "      <td>5.266272e-01</td>\n",
              "      <td>7.785247e-01</td>\n",
              "    </tr>\n",
              "    <tr>\n",
              "      <th>75%</th>\n",
              "      <td>0 days 00:04:20</td>\n",
              "      <td>6.449704e-01</td>\n",
              "      <td>8.123183e-01</td>\n",
              "    </tr>\n",
              "    <tr>\n",
              "      <th>max</th>\n",
              "      <td>0 days 00:59:32</td>\n",
              "      <td>1.000000e+00</td>\n",
              "      <td>1.000000e+00</td>\n",
              "    </tr>\n",
              "    <tr>\n",
              "      <th>std</th>\n",
              "      <td>0 days 00:01:32.628351743</td>\n",
              "      <td>1.726622e-01</td>\n",
              "      <td>7.320502e-02</td>\n",
              "    </tr>\n",
              "  </tbody>\n",
              "</table>\n",
              "</div>\n",
              "    <div class=\"colab-df-buttons\">\n",
              "\n",
              "  <div class=\"colab-df-container\">\n",
              "    <button class=\"colab-df-convert\" onclick=\"convertToInteractive('df-123ed0c5-3441-4a1e-8d77-81457fb70baa')\"\n",
              "            title=\"Convert this dataframe to an interactive table.\"\n",
              "            style=\"display:none;\">\n",
              "\n",
              "  <svg xmlns=\"http://www.w3.org/2000/svg\" height=\"24px\" viewBox=\"0 -960 960 960\">\n",
              "    <path d=\"M120-120v-720h720v720H120Zm60-500h600v-160H180v160Zm220 220h160v-160H400v160Zm0 220h160v-160H400v160ZM180-400h160v-160H180v160Zm440 0h160v-160H620v160ZM180-180h160v-160H180v160Zm440 0h160v-160H620v160Z\"/>\n",
              "  </svg>\n",
              "    </button>\n",
              "\n",
              "  <style>\n",
              "    .colab-df-container {\n",
              "      display:flex;\n",
              "      gap: 12px;\n",
              "    }\n",
              "\n",
              "    .colab-df-convert {\n",
              "      background-color: #E8F0FE;\n",
              "      border: none;\n",
              "      border-radius: 50%;\n",
              "      cursor: pointer;\n",
              "      display: none;\n",
              "      fill: #1967D2;\n",
              "      height: 32px;\n",
              "      padding: 0 0 0 0;\n",
              "      width: 32px;\n",
              "    }\n",
              "\n",
              "    .colab-df-convert:hover {\n",
              "      background-color: #E2EBFA;\n",
              "      box-shadow: 0px 1px 2px rgba(60, 64, 67, 0.3), 0px 1px 3px 1px rgba(60, 64, 67, 0.15);\n",
              "      fill: #174EA6;\n",
              "    }\n",
              "\n",
              "    .colab-df-buttons div {\n",
              "      margin-bottom: 4px;\n",
              "    }\n",
              "\n",
              "    [theme=dark] .colab-df-convert {\n",
              "      background-color: #3B4455;\n",
              "      fill: #D2E3FC;\n",
              "    }\n",
              "\n",
              "    [theme=dark] .colab-df-convert:hover {\n",
              "      background-color: #434B5C;\n",
              "      box-shadow: 0px 1px 3px 1px rgba(0, 0, 0, 0.15);\n",
              "      filter: drop-shadow(0px 1px 2px rgba(0, 0, 0, 0.3));\n",
              "      fill: #FFFFFF;\n",
              "    }\n",
              "  </style>\n",
              "\n",
              "    <script>\n",
              "      const buttonEl =\n",
              "        document.querySelector('#df-123ed0c5-3441-4a1e-8d77-81457fb70baa button.colab-df-convert');\n",
              "      buttonEl.style.display =\n",
              "        google.colab.kernel.accessAllowed ? 'block' : 'none';\n",
              "\n",
              "      async function convertToInteractive(key) {\n",
              "        const element = document.querySelector('#df-123ed0c5-3441-4a1e-8d77-81457fb70baa');\n",
              "        const dataTable =\n",
              "          await google.colab.kernel.invokeFunction('convertToInteractive',\n",
              "                                                    [key], {});\n",
              "        if (!dataTable) return;\n",
              "\n",
              "        const docLinkHtml = 'Like what you see? Visit the ' +\n",
              "          '<a target=\"_blank\" href=https://colab.research.google.com/notebooks/data_table.ipynb>data table notebook</a>'\n",
              "          + ' to learn more about interactive tables.';\n",
              "        element.innerHTML = '';\n",
              "        dataTable['output_type'] = 'display_data';\n",
              "        await google.colab.output.renderOutput(dataTable, element);\n",
              "        const docLink = document.createElement('div');\n",
              "        docLink.innerHTML = docLinkHtml;\n",
              "        element.appendChild(docLink);\n",
              "      }\n",
              "    </script>\n",
              "  </div>\n",
              "\n",
              "\n",
              "    <div id=\"df-7c0ae9d3-e190-479e-b447-7cdb9b0deb10\">\n",
              "      <button class=\"colab-df-quickchart\" onclick=\"quickchart('df-7c0ae9d3-e190-479e-b447-7cdb9b0deb10')\"\n",
              "                title=\"Suggest charts\"\n",
              "                style=\"display:none;\">\n",
              "\n",
              "<svg xmlns=\"http://www.w3.org/2000/svg\" height=\"24px\"viewBox=\"0 0 24 24\"\n",
              "     width=\"24px\">\n",
              "    <g>\n",
              "        <path d=\"M19 3H5c-1.1 0-2 .9-2 2v14c0 1.1.9 2 2 2h14c1.1 0 2-.9 2-2V5c0-1.1-.9-2-2-2zM9 17H7v-7h2v7zm4 0h-2V7h2v10zm4 0h-2v-4h2v4z\"/>\n",
              "    </g>\n",
              "</svg>\n",
              "      </button>\n",
              "\n",
              "<style>\n",
              "  .colab-df-quickchart {\n",
              "      --bg-color: #E8F0FE;\n",
              "      --fill-color: #1967D2;\n",
              "      --hover-bg-color: #E2EBFA;\n",
              "      --hover-fill-color: #174EA6;\n",
              "      --disabled-fill-color: #AAA;\n",
              "      --disabled-bg-color: #DDD;\n",
              "  }\n",
              "\n",
              "  [theme=dark] .colab-df-quickchart {\n",
              "      --bg-color: #3B4455;\n",
              "      --fill-color: #D2E3FC;\n",
              "      --hover-bg-color: #434B5C;\n",
              "      --hover-fill-color: #FFFFFF;\n",
              "      --disabled-bg-color: #3B4455;\n",
              "      --disabled-fill-color: #666;\n",
              "  }\n",
              "\n",
              "  .colab-df-quickchart {\n",
              "    background-color: var(--bg-color);\n",
              "    border: none;\n",
              "    border-radius: 50%;\n",
              "    cursor: pointer;\n",
              "    display: none;\n",
              "    fill: var(--fill-color);\n",
              "    height: 32px;\n",
              "    padding: 0;\n",
              "    width: 32px;\n",
              "  }\n",
              "\n",
              "  .colab-df-quickchart:hover {\n",
              "    background-color: var(--hover-bg-color);\n",
              "    box-shadow: 0 1px 2px rgba(60, 64, 67, 0.3), 0 1px 3px 1px rgba(60, 64, 67, 0.15);\n",
              "    fill: var(--button-hover-fill-color);\n",
              "  }\n",
              "\n",
              "  .colab-df-quickchart-complete:disabled,\n",
              "  .colab-df-quickchart-complete:disabled:hover {\n",
              "    background-color: var(--disabled-bg-color);\n",
              "    fill: var(--disabled-fill-color);\n",
              "    box-shadow: none;\n",
              "  }\n",
              "\n",
              "  .colab-df-spinner {\n",
              "    border: 2px solid var(--fill-color);\n",
              "    border-color: transparent;\n",
              "    border-bottom-color: var(--fill-color);\n",
              "    animation:\n",
              "      spin 1s steps(1) infinite;\n",
              "  }\n",
              "\n",
              "  @keyframes spin {\n",
              "    0% {\n",
              "      border-color: transparent;\n",
              "      border-bottom-color: var(--fill-color);\n",
              "      border-left-color: var(--fill-color);\n",
              "    }\n",
              "    20% {\n",
              "      border-color: transparent;\n",
              "      border-left-color: var(--fill-color);\n",
              "      border-top-color: var(--fill-color);\n",
              "    }\n",
              "    30% {\n",
              "      border-color: transparent;\n",
              "      border-left-color: var(--fill-color);\n",
              "      border-top-color: var(--fill-color);\n",
              "      border-right-color: var(--fill-color);\n",
              "    }\n",
              "    40% {\n",
              "      border-color: transparent;\n",
              "      border-right-color: var(--fill-color);\n",
              "      border-top-color: var(--fill-color);\n",
              "    }\n",
              "    60% {\n",
              "      border-color: transparent;\n",
              "      border-right-color: var(--fill-color);\n",
              "    }\n",
              "    80% {\n",
              "      border-color: transparent;\n",
              "      border-right-color: var(--fill-color);\n",
              "      border-bottom-color: var(--fill-color);\n",
              "    }\n",
              "    90% {\n",
              "      border-color: transparent;\n",
              "      border-bottom-color: var(--fill-color);\n",
              "    }\n",
              "  }\n",
              "</style>\n",
              "\n",
              "      <script>\n",
              "        async function quickchart(key) {\n",
              "          const quickchartButtonEl =\n",
              "            document.querySelector('#' + key + ' button');\n",
              "          quickchartButtonEl.disabled = true;  // To prevent multiple clicks.\n",
              "          quickchartButtonEl.classList.add('colab-df-spinner');\n",
              "          try {\n",
              "            const charts = await google.colab.kernel.invokeFunction(\n",
              "                'suggestCharts', [key], {});\n",
              "          } catch (error) {\n",
              "            console.error('Error during call to suggestCharts:', error);\n",
              "          }\n",
              "          quickchartButtonEl.classList.remove('colab-df-spinner');\n",
              "          quickchartButtonEl.classList.add('colab-df-quickchart-complete');\n",
              "        }\n",
              "        (() => {\n",
              "          let quickchartButtonEl =\n",
              "            document.querySelector('#df-7c0ae9d3-e190-479e-b447-7cdb9b0deb10 button');\n",
              "          quickchartButtonEl.style.display =\n",
              "            google.colab.kernel.accessAllowed ? 'block' : 'none';\n",
              "        })();\n",
              "      </script>\n",
              "    </div>\n",
              "\n",
              "  <div id=\"id_fd93af6b-ff64-4371-a7f6-e4819c4d2194\">\n",
              "    <style>\n",
              "      .colab-df-generate {\n",
              "        background-color: #E8F0FE;\n",
              "        border: none;\n",
              "        border-radius: 50%;\n",
              "        cursor: pointer;\n",
              "        display: none;\n",
              "        fill: #1967D2;\n",
              "        height: 32px;\n",
              "        padding: 0 0 0 0;\n",
              "        width: 32px;\n",
              "      }\n",
              "\n",
              "      .colab-df-generate:hover {\n",
              "        background-color: #E2EBFA;\n",
              "        box-shadow: 0px 1px 2px rgba(60, 64, 67, 0.3), 0px 1px 3px 1px rgba(60, 64, 67, 0.15);\n",
              "        fill: #174EA6;\n",
              "      }\n",
              "\n",
              "      [theme=dark] .colab-df-generate {\n",
              "        background-color: #3B4455;\n",
              "        fill: #D2E3FC;\n",
              "      }\n",
              "\n",
              "      [theme=dark] .colab-df-generate:hover {\n",
              "        background-color: #434B5C;\n",
              "        box-shadow: 0px 1px 3px 1px rgba(0, 0, 0, 0.15);\n",
              "        filter: drop-shadow(0px 1px 2px rgba(0, 0, 0, 0.3));\n",
              "        fill: #FFFFFF;\n",
              "      }\n",
              "    </style>\n",
              "    <button class=\"colab-df-generate\" onclick=\"generateWithVariable('desc')\"\n",
              "            title=\"Generate code using this dataframe.\"\n",
              "            style=\"display:none;\">\n",
              "\n",
              "  <svg xmlns=\"http://www.w3.org/2000/svg\" height=\"24px\"viewBox=\"0 0 24 24\"\n",
              "       width=\"24px\">\n",
              "    <path d=\"M7,19H8.4L18.45,9,17,7.55,7,17.6ZM5,21V16.75L18.45,3.32a2,2,0,0,1,2.83,0l1.4,1.43a1.91,1.91,0,0,1,.58,1.4,1.91,1.91,0,0,1-.58,1.4L9.25,21ZM18.45,9,17,7.55Zm-12,3A5.31,5.31,0,0,0,4.9,8.1,5.31,5.31,0,0,0,1,6.5,5.31,5.31,0,0,0,4.9,4.9,5.31,5.31,0,0,0,6.5,1,5.31,5.31,0,0,0,8.1,4.9,5.31,5.31,0,0,0,12,6.5,5.46,5.46,0,0,0,6.5,12Z\"/>\n",
              "  </svg>\n",
              "    </button>\n",
              "    <script>\n",
              "      (() => {\n",
              "      const buttonEl =\n",
              "        document.querySelector('#id_fd93af6b-ff64-4371-a7f6-e4819c4d2194 button.colab-df-generate');\n",
              "      buttonEl.style.display =\n",
              "        google.colab.kernel.accessAllowed ? 'block' : 'none';\n",
              "\n",
              "      buttonEl.onclick = () => {\n",
              "        google.colab.notebook.generateWithVariable('desc');\n",
              "      }\n",
              "      })();\n",
              "    </script>\n",
              "  </div>\n",
              "\n",
              "    </div>\n",
              "  </div>\n"
            ],
            "application/vnd.google.colaboratory.intrinsic+json": {
              "type": "dataframe",
              "variable_name": "desc",
              "summary": "{\n  \"name\": \"desc\",\n  \"rows\": 8,\n  \"fields\": [\n    {\n      \"column\": \"length\",\n      \"properties\": {\n        \"dtype\": \"string\",\n        \"num_unique_values\": 8,\n        \"samples\": [\n          \"0 days 00:03:49.560608382\",\n          \"0 days 00:04:20\",\n          \"1005026\"\n        ],\n        \"semantic_type\": \"\",\n        \"description\": \"\"\n      }\n    },\n    {\n      \"column\": \"tempo\",\n      \"properties\": {\n        \"dtype\": \"number\",\n        \"std\": 355330.1849300097,\n        \"min\": 0.0,\n        \"max\": 1005026.0,\n        \"num_unique_values\": 8,\n        \"samples\": [\n          0.5321303413070163,\n          0.6449704142,\n          1005026.0\n        ],\n        \"semantic_type\": \"\",\n        \"description\": \"\"\n      }\n    },\n    {\n      \"column\": \"loudness_db\",\n      \"properties\": {\n        \"dtype\": \"number\",\n        \"std\": 355330.1400636618,\n        \"min\": 0.0,\n        \"max\": 1005026.0,\n        \"num_unique_values\": 8,\n        \"samples\": [\n          0.7624414066266767,\n          0.812318314,\n          1005026.0\n        ],\n        \"semantic_type\": \"\",\n        \"description\": \"\"\n      }\n    }\n  ]\n}"
            }
          },
          "metadata": {},
          "execution_count": 25
        }
      ],
      "source": [
        "desc = df.describe().loc[:, ['length', 'tempo', 'loudness_db']]\n",
        "desc"
      ]
    },
    {
      "cell_type": "code",
      "execution_count": 26,
      "metadata": {
        "colab": {
          "base_uri": "https://localhost:8080/"
        },
        "id": "0pm37d_9_wZX",
        "outputId": "8717ce4d-e548-459f-855b-8d574d73d599"
      },
      "outputs": [
        {
          "output_type": "execute_result",
          "data": {
            "text/plain": [
              "{'length': (Timedelta('0 days 00:01:05'), Timedelta('0 days 00:06:17')),\n",
              " 'tempo': (np.float64(0.008875739700000052), np.float64(1.0266272188999999)),\n",
              " 'loudness_db': (np.float64(0.6033793605), np.float64(0.9376816860999999))}"
            ]
          },
          "metadata": {},
          "execution_count": 26
        }
      ],
      "source": [
        "bounds = {}\n",
        "\n",
        "for column in desc.columns:\n",
        "  Q1 = df[column].quantile(0.25)\n",
        "  Q3 = df[column].quantile(0.75)\n",
        "\n",
        "  IQR = Q3 - Q1\n",
        "\n",
        "  lower_bound = Q1 - 1.5 * IQR\n",
        "  upper_bound = Q3 + 1.5 * IQR\n",
        "\n",
        "  if df[column].min() < lower_bound or df[column].max() > upper_bound:\n",
        "    bounds[column] = lower_bound, upper_bound\n",
        "\n",
        "bounds"
      ]
    },
    {
      "cell_type": "code",
      "execution_count": 27,
      "metadata": {
        "colab": {
          "base_uri": "https://localhost:8080/"
        },
        "id": "8I4S9EMHz5oz",
        "outputId": "cd463a9a-aa74-42da-84fd-5b0d1d3a85c2"
      },
      "outputs": [
        {
          "output_type": "execute_result",
          "data": {
            "text/plain": [
              "80949"
            ]
          },
          "metadata": {},
          "execution_count": 27
        }
      ],
      "source": [
        "len(df[\n",
        "    (df['length'] <= bounds['length'][0]) |\n",
        "    (df['length'] >= bounds['length'][1]) |\n",
        "    (df['loudness_db'] <= bounds['loudness_db'][0]) |\n",
        "    (df['loudness_db'] >= bounds['loudness_db'][1])\n",
        "])"
      ]
    },
    {
      "cell_type": "markdown",
      "metadata": {
        "id": "U4M9y02wxfWo"
      },
      "source": [
        "Voy a dividir el estudio entre analisis con outliers y analisis sin outliers, ya que en base al análisis de los mismos determiné que probablemente sean valores reales en su gran mayoría y no algún tipo de error de lectura o escritura.\n",
        "\n",
        "Por otro lado, las columnas que presentan outliers no deberían interferír en las respuestas a las principales preguntas a contestar en este Análisis Exploratorio de los Datos, ya que estás apelan a la información en otras columnas.\n",
        "\n",
        "El doble análisis será, entonces, con el fin de desarrollar un modelo de machine learning de clasificación y comparar los resultados para el mismo modelo con y sin valores atípicos."
      ]
    },
    {
      "cell_type": "code",
      "execution_count": 28,
      "metadata": {
        "id": "u2FjzbhVvfFC"
      },
      "outputs": [],
      "source": [
        "df_clipped = df.copy()\n",
        "\n",
        "for column, (lower, upper) in bounds.items():\n",
        "  df_clipped[column] = df_clipped[column].clip(lower=lower, upper=upper)"
      ]
    },
    {
      "cell_type": "markdown",
      "metadata": {
        "id": "XIpozGtYEDhi"
      },
      "source": [
        "## Lidiar con NaNs"
      ]
    },
    {
      "cell_type": "code",
      "execution_count": 29,
      "metadata": {
        "colab": {
          "base_uri": "https://localhost:8080/",
          "height": 0
        },
        "id": "RLEWssYDypXj",
        "outputId": "9ff52b86-8580-404a-a193-2c2b0194671f"
      },
      "outputs": [
        {
          "output_type": "execute_result",
          "data": {
            "text/plain": [
              "song                  41\n",
              "album                 99\n",
              "release_date      305092\n",
              "time_signature        13\n",
              "similar_song_1        35\n",
              "similar_song_2        23\n",
              "similar_song_3         6\n",
              "dtype: int64"
            ],
            "text/html": [
              "<div>\n",
              "<style scoped>\n",
              "    .dataframe tbody tr th:only-of-type {\n",
              "        vertical-align: middle;\n",
              "    }\n",
              "\n",
              "    .dataframe tbody tr th {\n",
              "        vertical-align: top;\n",
              "    }\n",
              "\n",
              "    .dataframe thead th {\n",
              "        text-align: right;\n",
              "    }\n",
              "</style>\n",
              "<table border=\"1\" class=\"dataframe\">\n",
              "  <thead>\n",
              "    <tr style=\"text-align: right;\">\n",
              "      <th></th>\n",
              "      <th>0</th>\n",
              "    </tr>\n",
              "  </thead>\n",
              "  <tbody>\n",
              "    <tr>\n",
              "      <th>song</th>\n",
              "      <td>41</td>\n",
              "    </tr>\n",
              "    <tr>\n",
              "      <th>album</th>\n",
              "      <td>99</td>\n",
              "    </tr>\n",
              "    <tr>\n",
              "      <th>release_date</th>\n",
              "      <td>305092</td>\n",
              "    </tr>\n",
              "    <tr>\n",
              "      <th>time_signature</th>\n",
              "      <td>13</td>\n",
              "    </tr>\n",
              "    <tr>\n",
              "      <th>similar_song_1</th>\n",
              "      <td>35</td>\n",
              "    </tr>\n",
              "    <tr>\n",
              "      <th>similar_song_2</th>\n",
              "      <td>23</td>\n",
              "    </tr>\n",
              "    <tr>\n",
              "      <th>similar_song_3</th>\n",
              "      <td>6</td>\n",
              "    </tr>\n",
              "  </tbody>\n",
              "</table>\n",
              "</div><br><label><b>dtype:</b> int64</label>"
            ]
          },
          "metadata": {},
          "execution_count": 29
        }
      ],
      "source": [
        "df.isna().sum()[df.isna().sum() > 0]"
      ]
    },
    {
      "cell_type": "markdown",
      "source": [
        "### song / similar_song"
      ],
      "metadata": {
        "id": "suSadHlPU4p2"
      }
    },
    {
      "cell_type": "code",
      "source": [
        "def fill_values(name, song, columns):\n",
        "  for col_artist, col_song in columns:\n",
        "    rows = (df[col_artist].apply(lambda x: any(a in name for a in x.split(','))) & (df[col_song].isna()))\n",
        "    df.loc[rows, col_song] = song"
      ],
      "metadata": {
        "id": "l71qBPWA9q-f"
      },
      "execution_count": 30,
      "outputs": []
    },
    {
      "cell_type": "code",
      "source": [
        "to_fill = {\n",
        "    'Dylan Frost': {\n",
        "        'name': \"Dylan Frost\",\n",
        "        'song': \"Velvet Diamonds\",\n",
        "        'columns': [('artists', 'song'), ('similar_artist_1', 'similar_song_1'), ('similar_artist_2', 'similar_song_2'), ('similar_artist_3', 'similar_song_3')]},\n",
        "\n",
        "    'Yxngxr1': {\n",
        "        'name': \"Yxngxr1\",\n",
        "        'song': \"Desconocido\",\n",
        "        'columns': [('similar_artist_1', 'similar_song_1'), ('similar_artist_2', 'similar_song_2'), ('similar_artist_3', 'similar_song_3')]},\n",
        "\n",
        "    'HOMESHAKE': {\n",
        "        'name': \"HOMESHAKE\",\n",
        "        'song': \"Believe\",\n",
        "        'columns': [('artists', 'song'), ('similar_artist_1', 'similar_song_1'), ('similar_artist_2', 'similar_song_2')]},\n",
        "\n",
        "    'RAP CON CLAVE,El Nano': {\n",
        "        'name': \"RAP CON CLAVE,El Nano\",\n",
        "        'song': \"Oshun con Clave\",\n",
        "        'columns': [('artists', 'song'), ('similar_artist_1', 'similar_song_1'), ('similar_artist_2', 'similar_song_2')]},\n",
        "\n",
        "    'RATKING,King Krule': {\n",
        "        'name': \"RATKING,King Krule\",\n",
        "        'song': \"So Sick Stories\",\n",
        "        'columns': [('artists', 'song'), ('similar_artist_1', 'similar_song_1'), ('similar_artist_2', 'similar_song_2')]},\n",
        "\n",
        "    'Skillibang,Aidonia,Najeeriii,6t6': {\n",
        "        'name': \"Skillibang,Aidonia,Najeeriii,6t6\",\n",
        "        'song': \"Desconocido\",\n",
        "        'columns': [('artists', 'song'), ('similar_artist_1', 'similar_song_1'), ('similar_artist_2', 'similar_song_2')]},\n",
        "\n",
        "    \"Stan Walker\": {\n",
        "        'name': 'Stan Walker',\n",
        "        'song': '\"He Kakano Ahau - Live\"',\n",
        "        'columns': [('artists', 'song'), ('similar_artist_2', 'similar_song_2'), ('similar_artist_3', 'similar_song_3')]},\n",
        "\n",
        "    \"Charles Mingus\": {\n",
        "        'name': \"Charles Mingus\",\n",
        "        'song': \"Moanin'\",\n",
        "        'columns': [('artists', 'song'), ('similar_artist_1', 'similar_song_1'), ('similar_artist_2', 'similar_song_2')]},\n",
        "\n",
        "    \"Miles Davis\": {\n",
        "        'name': \"Miles Davis\",\n",
        "        'song': 'Santana',\n",
        "        'columns': [('artists', 'song'), ('similar_artist_1', 'similar_song_1'), ('similar_artist_2', 'similar_song_2')]},\n",
        "\n",
        "    'john_eliot': {\n",
        "        'name': \"Christoph Willibald Gluck,Thomas Allen,John Aler,Nancy Argenta,Sophie Boulin,Lucinda Houghton,Jane Armstrong,Suzanne Flowers,Carol Hall,Nicola Jenkin,Jean Knibbs,Rachel Platt,Mary Seers,The Monteverdi Choir,Orchestre de l'Opéra de Lyon,John Eliot Gardiner\",\n",
        "        'song': \"Iphigénie en Tauride / Act 4: Scène 7. Récitatif. 'Ta soeur! qu'ai-je entendu?' - Air. 'Dans cet objet touchant' - Choeur final. 'Les Dieux, longtemps en courroux'\",\n",
        "        'columns': [('artists', 'song'), ('similar_artist_1', 'similar_song_1')]},\n",
        "\n",
        "    'Tally Hall': {\n",
        "        'name': \"Tally Hall\",\n",
        "        'song': \"Welcome to Tally Hall\",\n",
        "        'columns': [('artists', 'song'), ('similar_artist_2', 'similar_song_2')]},\n",
        "\n",
        "    'Pinegrove': {\n",
        "        'name': \"Pinegrove\",\n",
        "        'song': \"Need 2\",\n",
        "        'columns': [('artists', 'song'), ('similar_artist_1', 'similar_song_1')]},\n",
        "\n",
        "    \"JAZZY NANU\": {\n",
        "        'name': 'JAZZY NANU',\n",
        "        'song': 'BILLIE EILISH',\n",
        "        'columns': [('artists', 'song'), ('similar_artist_2', 'similar_song_2')]},\n",
        "\n",
        "    \"Gene Watson\": {\n",
        "        'name': 'Gene Watson',\n",
        "        'song': 'Fourteen Carat Mind',\n",
        "        'columns': [('artists', 'song'), ('similar_artist_1', 'similar_song_1')]},\n",
        "\n",
        "    \"Ramandeep Bawa's/Nazma Khan's\": {\n",
        "        'name': \"Ramandeep Bawa's,Nazma Khan's\",\n",
        "        'song': 'Desconocido',\n",
        "        'columns': [('artists', 'song')]}\n",
        "}"
      ],
      "metadata": {
        "id": "ynHl46aQ-Sfh"
      },
      "execution_count": 31,
      "outputs": []
    },
    {
      "cell_type": "code",
      "source": [
        "for key, value in to_fill.items():\n",
        "  name = value.get('name').split(',')\n",
        "  song = value.get('song')\n",
        "  columns = value.get('columns')\n",
        "  fill_values(name, song, columns)"
      ],
      "metadata": {
        "id": "8viDQdqQQyqH"
      },
      "execution_count": 32,
      "outputs": []
    },
    {
      "cell_type": "markdown",
      "metadata": {
        "id": "uMk28GV1zhxt"
      },
      "source": [
        "### album"
      ]
    },
    {
      "cell_type": "code",
      "source": [
        "to_fill_albums = {\n",
        "    'destroy_lonely': {\n",
        "        'name': \"Destroy Lonely\",\n",
        "        'album': \"ᐸ/3²\",\n",
        "        'columns': [('artists', 'album')]\n",
        "    },\n",
        "    'nayeon': {\n",
        "        'name': \"NAYEON\",\n",
        "        'album': \"Desconocido\",\n",
        "        'columns': [('artists', 'album')]\n",
        "    },\n",
        "    'meshuggah': {\n",
        "        'name': \"Meshuggah\",\n",
        "        'album': \"None\",\n",
        "        'columns': [('artists', 'album')]\n",
        "    },\n",
        "    'artms': {\n",
        "        'name': \"ARTMS\",\n",
        "        'album': \"Desconocido\",\n",
        "        'columns': [('artists', 'album')]\n",
        "    },\n",
        "    'jfth': {\n",
        "        'name': \"Jfth\",\n",
        "        'album': \"<|°_°|>\",\n",
        "        'columns': [('artists', 'album')]\n",
        "    },\n",
        "    'Gupi,Fraxiom,food house': {\n",
        "        'name': \"Gupi,Fraxiom,food house\",\n",
        "        'album': \"None\",\n",
        "        'columns': [('artists', 'album')]\n",
        "    }\n",
        "}"
      ],
      "metadata": {
        "id": "A2ARvGQFAc43"
      },
      "execution_count": 33,
      "outputs": []
    },
    {
      "cell_type": "code",
      "source": [
        "for key, value in to_fill_albums.items():\n",
        "  name = value.get('name').split(',')\n",
        "  song = value.get('album')\n",
        "  columns = value.get('columns')\n",
        "  fill_values(name, song, columns)"
      ],
      "metadata": {
        "id": "j2UzGnuc5aeD"
      },
      "execution_count": 34,
      "outputs": []
    },
    {
      "cell_type": "code",
      "execution_count": 35,
      "metadata": {
        "id": "BISPk6c77Phb"
      },
      "outputs": [],
      "source": [
        "# Filtrar filas\n",
        "caravan_palace = (df['artists'] == 'Caravan Palace') & (df['album'].isna()) & (df['song'] != 'Im In Trouble')\n",
        "\n",
        "# Asignar valores\n",
        "df.loc[caravan_palace, 'album'] = '<|°_°|>'\n",
        "df.loc[df['song'] == 'Im In Trouble', 'album'] = 'Desconocido'"
      ]
    },
    {
      "cell_type": "code",
      "execution_count": 36,
      "metadata": {
        "id": "LchpHU7I1olN"
      },
      "outputs": [],
      "source": [
        "# Asignar valores\n",
        "df.loc[(df['artists'] == \"WILLOW\") & (df['song'] == 'Maybe'), 'album'] = 'Coping Mechanism'\n",
        "df.loc[(df['artists'] == \"WILLOW\") & (df['song'] == 'IM NOT OKAY I PROMISE'), 'album'] = 'Desconocido'"
      ]
    },
    {
      "cell_type": "markdown",
      "metadata": {
        "id": "K2vzsj6Dzjds"
      },
      "source": [
        "### release_date"
      ]
    },
    {
      "cell_type": "markdown",
      "metadata": {
        "id": "YU7HYg2ZSDaH"
      },
      "source": [
        "La estrategía para reemplazar los valores NaT en la columna 'release_date' va a ser asignar las fechas mediante la columna 'album', los cuales contendran filas que, al pertenecer a un album, tendrán todas la misma fecha.\n",
        "\n",
        "La agrupación de filas por 'artists' y 'album' aumenta considerablemente la cantidad de grupos, pero será necesaria para diferenciar aquellos albums que comparten nombres pero que no son el mismo album."
      ]
    },
    {
      "cell_type": "markdown",
      "source": [
        "#### Completar con valores existentes en el DF"
      ],
      "metadata": {
        "id": "g7oVPs9ANgOr"
      }
    },
    {
      "cell_type": "code",
      "execution_count": 37,
      "metadata": {
        "id": "YxsnTZMKbXjS"
      },
      "outputs": [],
      "source": [
        "# Creo un DF con las filas donde 'release_date' no sea NaN\n",
        "release_dates = df[df['release_date'].notna()]\n",
        "\n",
        "# Agrupar DataFrame por 'artists' y 'album' y acceder a la columna 'release_date'\n",
        "release_dates = release_dates.groupby(['artists', 'album'])['release_date']\n",
        "\n",
        "# Me quedo con el primer valor de cada grupo para 'release_date'\n",
        "release_dates = release_dates.first()\n",
        "\n",
        "# Transformo el Series a un DataFrame\n",
        "release_dates = release_dates.reset_index()"
      ]
    },
    {
      "cell_type": "code",
      "execution_count": 38,
      "metadata": {
        "id": "ZvBNgnsOjQLe"
      },
      "outputs": [],
      "source": [
        "# Obtener, para todas las filas donde 'release_date' sea NaN, coincidencias entre ('artists', 'album') con el DataFrame con los valores faltantes para cada caso\n",
        "matches = df[df['release_date'].isna()].merge(release_dates, on=['artists', 'album'], how='left', suffixes=('', '_filled'))\n",
        "\n",
        "# Reemplazar 'release_date' por 'release_date_filled'\n",
        "matches['release_date'] = matches['release_date_filled']\n",
        "\n",
        "# Eliminar 'realease_date_filled'\n",
        "matches = matches.drop(columns='release_date_filled')"
      ]
    },
    {
      "cell_type": "code",
      "execution_count": 39,
      "metadata": {
        "id": "jor5HDmtTKi-"
      },
      "outputs": [],
      "source": [
        "df.loc[df['release_date'].isna(), 'release_date'] = matches['release_date']"
      ]
    },
    {
      "cell_type": "markdown",
      "metadata": {
        "id": "w5SoKqkwgWBi"
      },
      "source": [
        "#### Completar con valores obtenidos de la API de Spotify"
      ]
    },
    {
      "cell_type": "markdown",
      "source": [
        "##### Crear excepción para detener la ejecución del programa de forma limpia al alcanzar el límite de peticiones a la API de Spotify"
      ],
      "metadata": {
        "id": "ft5bMKfT78PP"
      }
    },
    {
      "cell_type": "code",
      "execution_count": 40,
      "metadata": {
        "id": "qC3GO5P_WcPH"
      },
      "outputs": [],
      "source": [
        "# Crear exception personalizada\n",
        "class RateLimitReached(Exception):\n",
        "  pass\n",
        "\n",
        "# Crear Handler personalizado\n",
        "class RateLimitHandler(logging.Handler):\n",
        "\n",
        "  # Método para procesar y manejar cada mensaje de log\n",
        "  def emit(self, record):\n",
        "\n",
        "    # Obtener mensaje del log\n",
        "    msg = record.getMessage()\n",
        "\n",
        "    # Verificar si el mensaje es el que buscamos\n",
        "    if \"your application has reached a rate/request limit\" in msg.lower():\n",
        "\n",
        "      # Establecer mensaje a mostrar y detener la ejecución del código\n",
        "      match = re.search(r\"after: (\\d+)\", msg)\n",
        "      if match:\n",
        "        retry_seconds = int(match.group(1))\n",
        "        hours = retry_seconds // 3600\n",
        "        minutes = (retry_seconds % 3600) // 60\n",
        "        raise RateLimitReached(f\"Se alcanzó el límite de peticiones. Volver a ejecutar después de {hours}h. {minutes}min.\")\n",
        "\n",
        "# Obtener logger principal\n",
        "logger = logging.getLogger()\n",
        "\n",
        "# Evitar que se imprima el WARNING original\n",
        "logger.propagate = False\n",
        "\n",
        "# Agregar handler personalizado\n",
        "logger.addHandler(RateLimitHandler())\n",
        "\n",
        "# Configurar solo para mensjes tipo WARNING o superior\n",
        "logger.setLevel(logging.WARNING)"
      ]
    },
    {
      "cell_type": "markdown",
      "source": [
        "##### Crear función para cargar/crear diccionario con fechas faltantes"
      ],
      "metadata": {
        "id": "tylUYl7d8ItJ"
      }
    },
    {
      "cell_type": "code",
      "execution_count": 41,
      "metadata": {
        "collapsed": true,
        "id": "DEBxBLgfgYfH"
      },
      "outputs": [],
      "source": [
        "def get_album_release_date(df, client_id, client_secret, release_dates_data, empty_dates, cache_file='/content/drive/MyDrive/JSON/release_dates_cache.json'):\n",
        "\n",
        "  def get_album_date(artist, album, retries=3, delay=1):\n",
        "\n",
        "    for attempt in range(retries):\n",
        "      try:\n",
        "\n",
        "        query = f\"album:{album} artist:{artist}\"\n",
        "        results = sp.search(query, type='album', limit=1)\n",
        "\n",
        "        items = results['albums']['items']\n",
        "        if items:\n",
        "          return items[0]['release_date']\n",
        "        return None\n",
        "\n",
        "      except (RequestException, SpotifyException) as e:\n",
        "\n",
        "        if isinstance(e, SpotifyException) and e.http_status == 429:\n",
        "\n",
        "          retry_after = int(e.headers.get(\"Retry-After\", 0))\n",
        "          horas = retry_after // 3600\n",
        "          minutos = (retry_after % 3600) // 60\n",
        "          clear_output(wait=True)\n",
        "          raise RateLimitReached(f\"Se alcanzó el límite de peticiones. Volver a ejecutar después de {hours}h. {minutes}min.\")\n",
        "\n",
        "\n",
        "        else:\n",
        "          clear_output(wait=True)\n",
        "          print(f\"Error in the request ({e}). Retrying ({attempt+1}/{retries})...\")\n",
        "          time.sleep(delay)\n",
        "\n",
        "    return None\n",
        "\n",
        "  auth_manager = SpotifyClientCredentials(client_id=client_id, client_secret=client_secret)\n",
        "  sp = spotipy.Spotify(auth_manager=auth_manager)\n",
        "\n",
        "  count = 0\n",
        "  for i, row in empty_dates.iterrows():\n",
        "    key = f\"{row['artists']}||{row['album']}\"\n",
        "\n",
        "    if key not in release_dates_data:\n",
        "      count += 1\n",
        "      release_dates_data[key] = get_album_date(row['artists'], row['album'])\n",
        "\n",
        "      with open(cache_file, 'w', encoding='utf-8')as f:\n",
        "        json.dump(release_dates_data, f, ensure_ascii=False, indent=2)\n",
        "\n",
        "      time.sleep(0.1)\n",
        "\n",
        "    if count % 1000 == 0 and count != 0:\n",
        "      clear_output(wait=True)\n",
        "      print(f\"Procesados {count} albumes...\")\n",
        "\n",
        "  return release_dates_data"
      ]
    },
    {
      "cell_type": "markdown",
      "source": [
        "##### Cargar/crear/completar diccionario con fechas faltantes"
      ],
      "metadata": {
        "id": "TjCwtMOG8QAw"
      }
    },
    {
      "cell_type": "code",
      "execution_count": 42,
      "metadata": {
        "colab": {
          "base_uri": "https://localhost:8080/"
        },
        "id": "Ll-XXwD-5QYT",
        "outputId": "594b3683-4f8b-4b65-9104-4dddf0f65b94"
      },
      "outputs": [
        {
          "output_type": "stream",
          "name": "stdout",
          "text": [
            "El archivo ya ha sido completado\n",
            "Cargados: 85407/85407 albumes\n"
          ]
        }
      ],
      "source": [
        "client_id = ''\n",
        "client_secret = ''\n",
        "empty_dates = df[df['release_date'].isna()][['artists', 'album']].drop_duplicates()\n",
        "\n",
        "try:\n",
        "  with open('/content/drive/MyDrive/JSON/release_dates_cache.json', 'r', encoding='utf-8') as f:\n",
        "     release_dates_data = json.load(f)\n",
        "\n",
        "except FileNotFoundError:\n",
        "  release_dates_data = {}\n",
        "\n",
        "try:\n",
        "  if len(release_dates_data) != len(empty_dates):\n",
        "    release_dates_data = get_album_release_date(df, client_id, client_secret, release_dates_data, empty_dates)\n",
        "  else:\n",
        "    print(\"El archivo ya ha sido completado\")\n",
        "\n",
        "except RateLimitReached as rlt:\n",
        "  print(rlt)\n",
        "\n",
        "\n",
        "print(f\"Cargados: {len(release_dates_data)}/{len(empty_dates)} albumes\")"
      ]
    },
    {
      "cell_type": "markdown",
      "source": [
        "##### Crear DataFrame con fechas faltantes"
      ],
      "metadata": {
        "id": "QwGxgXp-9Do-"
      }
    },
    {
      "cell_type": "code",
      "execution_count": 43,
      "metadata": {
        "collapsed": true,
        "id": "5o4hT-k8ZN4o"
      },
      "outputs": [],
      "source": [
        "rows = [(*key.split(\"||\", maxsplit=1), value) for key, value in release_dates_data.items()]\n",
        "\n",
        "release_dates_df = pd.DataFrame(rows, columns=['artists', 'album', 'release_date'])"
      ]
    },
    {
      "cell_type": "markdown",
      "source": [
        "##### Limpiar DataFrame con fechas faltantes"
      ],
      "metadata": {
        "id": "5EGiCsk3k0ss"
      }
    },
    {
      "cell_type": "markdown",
      "source": [
        "###### Corregir valores en el año 0000"
      ],
      "metadata": {
        "id": "l-yDTrid9UkK"
      }
    },
    {
      "cell_type": "code",
      "source": [
        "año_cero = release_dates_df['release_date'] == '0000'\n",
        "release_dates_df.loc[año_cero, 'release_date'] = None"
      ],
      "metadata": {
        "id": "Z_RNk1oFmflw"
      },
      "execution_count": 44,
      "outputs": []
    },
    {
      "cell_type": "markdown",
      "source": [
        "###### Asignar valores de mes y día promedio a las fechas que solo cuentan con el año de publicación"
      ],
      "metadata": {
        "id": "CPa6SRUp9dcx"
      }
    },
    {
      "cell_type": "code",
      "source": [
        "years = release_dates_df[release_dates_df['release_date'].str.len() < 5].sort_values(by='release_date')['release_date'].unique()\n",
        "\n",
        "for year in years:\n",
        "  mean_date = df[df['release_date'].dt.year == int(year)]['release_date'].mean().to_pydatetime()\n",
        "\n",
        "  release_dates_df.loc[release_dates_df['release_date'] == year, 'release_date'] = mean_date"
      ],
      "metadata": {
        "colab": {
          "base_uri": "https://localhost:8080/"
        },
        "id": "IiHoBBUJkwPS",
        "outputId": "582529d6-e384-472b-a990-f270ba719b0e"
      },
      "execution_count": 45,
      "outputs": [
        {
          "output_type": "stream",
          "name": "stderr",
          "text": [
            "/tmp/ipython-input-45-98120455.py:4: UserWarning: Discarding nonzero nanoseconds in conversion.\n",
            "  mean_date = df[df['release_date'].dt.year == int(year)]['release_date'].mean().to_pydatetime()\n"
          ]
        }
      ]
    },
    {
      "cell_type": "markdown",
      "source": [
        "###### Asignar valor por defecto a las fechas que solo cuentan con año y mes de publicación"
      ],
      "metadata": {
        "id": "DWnPQB1_9nbs"
      }
    },
    {
      "cell_type": "code",
      "source": [
        "year_month = release_dates_df['release_date'].str.len() < 8\n",
        "release_dates_df.loc[year_month, 'release_date'] = release_dates_df.loc[year_month, 'release_date'] + '-01'"
      ],
      "metadata": {
        "id": "IrF7jw453Qyv"
      },
      "execution_count": 46,
      "outputs": []
    },
    {
      "cell_type": "markdown",
      "source": [
        "###### Transformar columna 'release_date' a tipo datetime, y normalizar horario a 00:00:00"
      ],
      "metadata": {
        "id": "0cO2Uvzk9tya"
      }
    },
    {
      "cell_type": "code",
      "source": [
        "release_dates_df['release_date'] = pd.to_datetime(release_dates_df['release_date'])\n",
        "release_dates_df['release_date'] = release_dates_df['release_date'].dt.normalize()"
      ],
      "metadata": {
        "id": "jVjBEjbZyuio"
      },
      "execution_count": 47,
      "outputs": []
    },
    {
      "cell_type": "markdown",
      "source": [
        "##### Asignar nuevas fechas a los valores faltantes"
      ],
      "metadata": {
        "id": "q4TqgCJG98Uu"
      }
    },
    {
      "cell_type": "code",
      "source": [
        "# Obtener, para todas las filas donde 'release_date' sea NaN, coincidencias entre ('artists', 'album') con el DataFrame con los valores faltantes para cada caso.\n",
        "matches = df[df['release_date'].isna()].merge(release_dates_df, on=['artists', 'album'], how='left', suffixes=('', '_filled'))\n",
        "\n",
        "# Reemplazar 'release_date' por 'release_date_filled'\n",
        "matches['release_date'] = matches['release_date_filled']\n",
        "\n",
        "# Reemplazar los índices en matches, por los índices originales de las filas en df\n",
        "matches.index = df[df['release_date'].isna()].index\n",
        "\n",
        "# Eliminar 'realease_date_filled'\n",
        "matches = matches.drop(columns='release_date_filled')"
      ],
      "metadata": {
        "id": "SRIMzavYHJQ-"
      },
      "execution_count": 48,
      "outputs": []
    },
    {
      "cell_type": "code",
      "source": [
        "df.loc[matches.index, 'release_date'] = matches['release_date']"
      ],
      "metadata": {
        "id": "pYQdz7beI3CC"
      },
      "execution_count": 49,
      "outputs": []
    },
    {
      "cell_type": "code",
      "source": [
        "# Llenar las últimas filas NaT con una fecha equivalente a un valor \"Desconocido\"\n",
        "df['release_date'] = df['release_date'].fillna(pd.Timestamp('1700-01-01'))"
      ],
      "metadata": {
        "id": "4370meejLL-4"
      },
      "execution_count": 50,
      "outputs": []
    },
    {
      "cell_type": "markdown",
      "metadata": {
        "id": "GWdDY4UHzlfX"
      },
      "source": [
        "### time_signature"
      ]
    },
    {
      "cell_type": "code",
      "source": [
        "# Aislar géneros únicos de filas donde 'time_signature' es NaN\n",
        "missing_time_signatures = df[df['time_signature'].isna()]['genre'].unique()\n",
        "\n",
        "# A cada fila donde 'time_signature' es NaN, asignar para cada género el valor de time signature más frecuente\n",
        "for genre in missing_time_signatures:\n",
        "  df.loc[(df['time_signature'].isna()) & (df['genre'] == genre), 'time_signature'] = df[df['genre'] == genre]['time_signature'].value_counts().index[0]"
      ],
      "metadata": {
        "id": "b6qRz_SlPUej"
      },
      "execution_count": 51,
      "outputs": []
    },
    {
      "cell_type": "markdown",
      "metadata": {
        "id": "qnRtfa70EGiF"
      },
      "source": [
        "## Validar nuestros datos"
      ]
    },
    {
      "cell_type": "code",
      "execution_count": 52,
      "metadata": {
        "id": "ruhnwaQhEO_A",
        "colab": {
          "base_uri": "https://localhost:8080/"
        },
        "outputId": "ae27667f-01a7-442d-adfc-222b08c89b6c"
      },
      "outputs": [
        {
          "output_type": "stream",
          "name": "stdout",
          "text": [
            "<class 'pandas.core.frame.DataFrame'>\n",
            "Index: 1005026 entries, 0 to 1005087\n",
            "Data columns (total 39 columns):\n",
            " #   Column                          Non-Null Count    Dtype          \n",
            "---  ------                          --------------    -----          \n",
            " 0   artists                         1005026 non-null  object         \n",
            " 1   song                            1005026 non-null  object         \n",
            " 2   text                            1005026 non-null  object         \n",
            " 3   length                          1005026 non-null  timedelta64[ns]\n",
            " 4   emotion                         1005026 non-null  object         \n",
            " 5   genre                           1005026 non-null  object         \n",
            " 6   album                           1005026 non-null  object         \n",
            " 7   release_date                    1005026 non-null  datetime64[ns] \n",
            " 8   key                             1005026 non-null  object         \n",
            " 9   tempo                           1005026 non-null  float64        \n",
            " 10  loudness_db                     1005026 non-null  float64        \n",
            " 11  time_signature                  1005026 non-null  object         \n",
            " 12  explicit                        1005026 non-null  bool           \n",
            " 13  popularity                      1005026 non-null  int64          \n",
            " 14  energy                          1005026 non-null  int64          \n",
            " 15  danceability                    1005026 non-null  int64          \n",
            " 16  positiveness                    1005026 non-null  int64          \n",
            " 17  speechiness                     1005026 non-null  int64          \n",
            " 18  liveness                        1005026 non-null  int64          \n",
            " 19  acousticness                    1005026 non-null  int64          \n",
            " 20  instrumentalness                1005026 non-null  int64          \n",
            " 21  good_for_party                  1005026 non-null  bool           \n",
            " 22  good_for_work_study             1005026 non-null  bool           \n",
            " 23  good_for_relaxation_meditation  1005026 non-null  bool           \n",
            " 24  good_for_exercise               1005026 non-null  bool           \n",
            " 25  good_for_running                1005026 non-null  bool           \n",
            " 26  good_for_yoga_stretching        1005026 non-null  bool           \n",
            " 27  good_for_driving                1005026 non-null  bool           \n",
            " 28  good_for_social_gatherings      1005026 non-null  bool           \n",
            " 29  good_for_morning_routine        1005026 non-null  bool           \n",
            " 30  similar_artist_1                1005026 non-null  object         \n",
            " 31  similar_song_1                  1005026 non-null  object         \n",
            " 32  similarity_score_1              1005026 non-null  float64        \n",
            " 33  similar_artist_2                1005026 non-null  object         \n",
            " 34  similar_song_2                  1005026 non-null  object         \n",
            " 35  similarity_score_2              1005026 non-null  float64        \n",
            " 36  similar_artist_3                1005026 non-null  object         \n",
            " 37  similar_song_3                  1005026 non-null  object         \n",
            " 38  similarity_score_3              1005026 non-null  float64        \n",
            "dtypes: bool(10), datetime64[ns](1), float64(5), int64(8), object(14), timedelta64[ns](1)\n",
            "memory usage: 271.9+ MB\n"
          ]
        }
      ],
      "source": [
        "df.info()"
      ]
    },
    {
      "cell_type": "code",
      "source": [
        "df.duplicated().any()"
      ],
      "metadata": {
        "colab": {
          "base_uri": "https://localhost:8080/"
        },
        "id": "pOVAbemM0Wjv",
        "outputId": "98e67c86-8873-415c-d2cc-012df31e86bf"
      },
      "execution_count": 53,
      "outputs": [
        {
          "output_type": "execute_result",
          "data": {
            "text/plain": [
              "np.False_"
            ]
          },
          "metadata": {},
          "execution_count": 53
        }
      ]
    },
    {
      "cell_type": "code",
      "source": [
        "df.isna().any()"
      ],
      "metadata": {
        "colab": {
          "base_uri": "https://localhost:8080/",
          "height": 1000
        },
        "id": "Yt1DHLbH0ckt",
        "outputId": "b9b29510-a23b-45cc-8c58-e850d916f7b8"
      },
      "execution_count": 54,
      "outputs": [
        {
          "output_type": "execute_result",
          "data": {
            "text/plain": [
              "artists                           False\n",
              "song                              False\n",
              "text                              False\n",
              "length                            False\n",
              "emotion                           False\n",
              "genre                             False\n",
              "album                             False\n",
              "release_date                      False\n",
              "key                               False\n",
              "tempo                             False\n",
              "loudness_db                       False\n",
              "time_signature                    False\n",
              "explicit                          False\n",
              "popularity                        False\n",
              "energy                            False\n",
              "danceability                      False\n",
              "positiveness                      False\n",
              "speechiness                       False\n",
              "liveness                          False\n",
              "acousticness                      False\n",
              "instrumentalness                  False\n",
              "good_for_party                    False\n",
              "good_for_work_study               False\n",
              "good_for_relaxation_meditation    False\n",
              "good_for_exercise                 False\n",
              "good_for_running                  False\n",
              "good_for_yoga_stretching          False\n",
              "good_for_driving                  False\n",
              "good_for_social_gatherings        False\n",
              "good_for_morning_routine          False\n",
              "similar_artist_1                  False\n",
              "similar_song_1                    False\n",
              "similarity_score_1                False\n",
              "similar_artist_2                  False\n",
              "similar_song_2                    False\n",
              "similarity_score_2                False\n",
              "similar_artist_3                  False\n",
              "similar_song_3                    False\n",
              "similarity_score_3                False\n",
              "dtype: bool"
            ],
            "text/html": [
              "<div>\n",
              "<style scoped>\n",
              "    .dataframe tbody tr th:only-of-type {\n",
              "        vertical-align: middle;\n",
              "    }\n",
              "\n",
              "    .dataframe tbody tr th {\n",
              "        vertical-align: top;\n",
              "    }\n",
              "\n",
              "    .dataframe thead th {\n",
              "        text-align: right;\n",
              "    }\n",
              "</style>\n",
              "<table border=\"1\" class=\"dataframe\">\n",
              "  <thead>\n",
              "    <tr style=\"text-align: right;\">\n",
              "      <th></th>\n",
              "      <th>0</th>\n",
              "    </tr>\n",
              "  </thead>\n",
              "  <tbody>\n",
              "    <tr>\n",
              "      <th>artists</th>\n",
              "      <td>False</td>\n",
              "    </tr>\n",
              "    <tr>\n",
              "      <th>song</th>\n",
              "      <td>False</td>\n",
              "    </tr>\n",
              "    <tr>\n",
              "      <th>text</th>\n",
              "      <td>False</td>\n",
              "    </tr>\n",
              "    <tr>\n",
              "      <th>length</th>\n",
              "      <td>False</td>\n",
              "    </tr>\n",
              "    <tr>\n",
              "      <th>emotion</th>\n",
              "      <td>False</td>\n",
              "    </tr>\n",
              "    <tr>\n",
              "      <th>genre</th>\n",
              "      <td>False</td>\n",
              "    </tr>\n",
              "    <tr>\n",
              "      <th>album</th>\n",
              "      <td>False</td>\n",
              "    </tr>\n",
              "    <tr>\n",
              "      <th>release_date</th>\n",
              "      <td>False</td>\n",
              "    </tr>\n",
              "    <tr>\n",
              "      <th>key</th>\n",
              "      <td>False</td>\n",
              "    </tr>\n",
              "    <tr>\n",
              "      <th>tempo</th>\n",
              "      <td>False</td>\n",
              "    </tr>\n",
              "    <tr>\n",
              "      <th>loudness_db</th>\n",
              "      <td>False</td>\n",
              "    </tr>\n",
              "    <tr>\n",
              "      <th>time_signature</th>\n",
              "      <td>False</td>\n",
              "    </tr>\n",
              "    <tr>\n",
              "      <th>explicit</th>\n",
              "      <td>False</td>\n",
              "    </tr>\n",
              "    <tr>\n",
              "      <th>popularity</th>\n",
              "      <td>False</td>\n",
              "    </tr>\n",
              "    <tr>\n",
              "      <th>energy</th>\n",
              "      <td>False</td>\n",
              "    </tr>\n",
              "    <tr>\n",
              "      <th>danceability</th>\n",
              "      <td>False</td>\n",
              "    </tr>\n",
              "    <tr>\n",
              "      <th>positiveness</th>\n",
              "      <td>False</td>\n",
              "    </tr>\n",
              "    <tr>\n",
              "      <th>speechiness</th>\n",
              "      <td>False</td>\n",
              "    </tr>\n",
              "    <tr>\n",
              "      <th>liveness</th>\n",
              "      <td>False</td>\n",
              "    </tr>\n",
              "    <tr>\n",
              "      <th>acousticness</th>\n",
              "      <td>False</td>\n",
              "    </tr>\n",
              "    <tr>\n",
              "      <th>instrumentalness</th>\n",
              "      <td>False</td>\n",
              "    </tr>\n",
              "    <tr>\n",
              "      <th>good_for_party</th>\n",
              "      <td>False</td>\n",
              "    </tr>\n",
              "    <tr>\n",
              "      <th>good_for_work_study</th>\n",
              "      <td>False</td>\n",
              "    </tr>\n",
              "    <tr>\n",
              "      <th>good_for_relaxation_meditation</th>\n",
              "      <td>False</td>\n",
              "    </tr>\n",
              "    <tr>\n",
              "      <th>good_for_exercise</th>\n",
              "      <td>False</td>\n",
              "    </tr>\n",
              "    <tr>\n",
              "      <th>good_for_running</th>\n",
              "      <td>False</td>\n",
              "    </tr>\n",
              "    <tr>\n",
              "      <th>good_for_yoga_stretching</th>\n",
              "      <td>False</td>\n",
              "    </tr>\n",
              "    <tr>\n",
              "      <th>good_for_driving</th>\n",
              "      <td>False</td>\n",
              "    </tr>\n",
              "    <tr>\n",
              "      <th>good_for_social_gatherings</th>\n",
              "      <td>False</td>\n",
              "    </tr>\n",
              "    <tr>\n",
              "      <th>good_for_morning_routine</th>\n",
              "      <td>False</td>\n",
              "    </tr>\n",
              "    <tr>\n",
              "      <th>similar_artist_1</th>\n",
              "      <td>False</td>\n",
              "    </tr>\n",
              "    <tr>\n",
              "      <th>similar_song_1</th>\n",
              "      <td>False</td>\n",
              "    </tr>\n",
              "    <tr>\n",
              "      <th>similarity_score_1</th>\n",
              "      <td>False</td>\n",
              "    </tr>\n",
              "    <tr>\n",
              "      <th>similar_artist_2</th>\n",
              "      <td>False</td>\n",
              "    </tr>\n",
              "    <tr>\n",
              "      <th>similar_song_2</th>\n",
              "      <td>False</td>\n",
              "    </tr>\n",
              "    <tr>\n",
              "      <th>similarity_score_2</th>\n",
              "      <td>False</td>\n",
              "    </tr>\n",
              "    <tr>\n",
              "      <th>similar_artist_3</th>\n",
              "      <td>False</td>\n",
              "    </tr>\n",
              "    <tr>\n",
              "      <th>similar_song_3</th>\n",
              "      <td>False</td>\n",
              "    </tr>\n",
              "    <tr>\n",
              "      <th>similarity_score_3</th>\n",
              "      <td>False</td>\n",
              "    </tr>\n",
              "  </tbody>\n",
              "</table>\n",
              "</div><br><label><b>dtype:</b> bool</label>"
            ]
          },
          "metadata": {},
          "execution_count": 54
        }
      ]
    },
    {
      "cell_type": "markdown",
      "metadata": {
        "id": "_sE9IVGTEJdx"
      },
      "source": [
        "# EDA"
      ]
    },
    {
      "cell_type": "code",
      "source": [],
      "metadata": {
        "id": "CgX5dfQjwvdT"
      },
      "execution_count": null,
      "outputs": []
    },
    {
      "cell_type": "markdown",
      "metadata": {
        "id": "TuLanbS5EQfK"
      },
      "source": [
        "## ¿Cual es el top 10 de las canciones que generan mejor flow?"
      ]
    },
    {
      "cell_type": "code",
      "execution_count": 51,
      "metadata": {
        "id": "SADN8VMqBrCc"
      },
      "outputs": [],
      "source": []
    },
    {
      "cell_type": "markdown",
      "metadata": {
        "id": "E_J2uiLsAvN_"
      },
      "source": [
        "## ¿Que artista es el que transmite más flow?"
      ]
    },
    {
      "cell_type": "code",
      "execution_count": 51,
      "metadata": {
        "id": "3I_fmag-Bqmn"
      },
      "outputs": [],
      "source": []
    },
    {
      "cell_type": "markdown",
      "metadata": {
        "id": "uLolQcVoAzTN"
      },
      "source": [
        "## Clasifica el top 3 de canciones según estas categorías:"
      ]
    },
    {
      "cell_type": "markdown",
      "metadata": {
        "id": "X8eB8NHzA4Tp"
      },
      "source": [
        "### Fiesta"
      ]
    },
    {
      "cell_type": "code",
      "execution_count": 51,
      "metadata": {
        "id": "U1NbRIoCBAev"
      },
      "outputs": [],
      "source": []
    },
    {
      "cell_type": "markdown",
      "metadata": {
        "id": "pJX-Zn6QA5tz"
      },
      "source": [
        "### Trabajo"
      ]
    },
    {
      "cell_type": "code",
      "execution_count": 51,
      "metadata": {
        "id": "ioEGqHzJBAp7"
      },
      "outputs": [],
      "source": []
    },
    {
      "cell_type": "markdown",
      "metadata": {
        "id": "86pmoOatA7Pt"
      },
      "source": [
        "### Ejercicio"
      ]
    },
    {
      "cell_type": "code",
      "execution_count": 51,
      "metadata": {
        "id": "u-y_Z2Y3BA1Q"
      },
      "outputs": [],
      "source": []
    },
    {
      "cell_type": "markdown",
      "metadata": {
        "id": "GO8O2aCbA85y"
      },
      "source": [
        "### Relajación"
      ]
    },
    {
      "cell_type": "code",
      "execution_count": 51,
      "metadata": {
        "id": "ZUQDi1WWBBNY"
      },
      "outputs": [],
      "source": []
    },
    {
      "cell_type": "markdown",
      "metadata": {
        "id": "THuQOu1WA-g6"
      },
      "source": [
        "### Conducción"
      ]
    },
    {
      "cell_type": "code",
      "execution_count": 51,
      "metadata": {
        "id": "ke-nvG1iBBYJ"
      },
      "outputs": [],
      "source": []
    },
    {
      "cell_type": "markdown",
      "metadata": {
        "id": "Ye7414rJBFBb"
      },
      "source": [
        "## Visualizaciones:"
      ]
    },
    {
      "cell_type": "markdown",
      "metadata": {
        "id": "pt4-MQbNBHZt"
      },
      "source": [
        "### Cantidad de positivismo por año"
      ]
    },
    {
      "cell_type": "code",
      "execution_count": 51,
      "metadata": {
        "id": "vg6nv1FDBKZI"
      },
      "outputs": [],
      "source": []
    },
    {
      "cell_type": "markdown",
      "metadata": {
        "id": "Sg4gxTENBK1O"
      },
      "source": [
        "### Cantidad de canciones por año y género"
      ]
    },
    {
      "cell_type": "code",
      "execution_count": 51,
      "metadata": {
        "id": "IxvlqUMjBQCp"
      },
      "outputs": [],
      "source": []
    },
    {
      "cell_type": "markdown",
      "metadata": {
        "id": "3A2CqfJhBQSK"
      },
      "source": [
        "## Extra Challenge"
      ]
    },
    {
      "cell_type": "code",
      "execution_count": 51,
      "metadata": {
        "id": "wtmrmzaDKOp-"
      },
      "outputs": [],
      "source": []
    }
  ],
  "metadata": {
    "colab": {
      "collapsed_sections": [
        "Ea0mgqF164De",
        "KKZcZois7VLe",
        "930icGoM7W0F",
        "4dhJxU9Q-LGT",
        "QmZNE2lsCiTx",
        "lu_T-XitClXV",
        "hAMbKpjBC6EZ",
        "u5qzZGSrD3pj",
        "E8WXr_RoD9jt",
        "1iISdunjBdna",
        "mOJZYAS1EFDR",
        "VVOG3t8Z9j3T",
        "OjTmf0CIvzSJ",
        "ZNxPk-xokdJ2",
        "_M_k29Cf_VLn",
        "pdBI8qNUuB4g",
        "AflEoLI_B7XW",
        "WKzwoflwCW-0",
        "ztKZQtEVC2Z-",
        "iNHPakNUEAyn",
        "XIpozGtYEDhi",
        "suSadHlPU4p2",
        "uMk28GV1zhxt",
        "K2vzsj6Dzjds",
        "g7oVPs9ANgOr",
        "w5SoKqkwgWBi",
        "ft5bMKfT78PP",
        "tylUYl7d8ItJ",
        "TjCwtMOG8QAw",
        "QwGxgXp-9Do-",
        "5EGiCsk3k0ss",
        "l-yDTrid9UkK",
        "CPa6SRUp9dcx",
        "DWnPQB1_9nbs",
        "0cO2Uvzk9tya",
        "q4TqgCJG98Uu",
        "GWdDY4UHzlfX",
        "qnRtfa70EGiF",
        "_sE9IVGTEJdx",
        "TuLanbS5EQfK",
        "E_J2uiLsAvN_",
        "uLolQcVoAzTN",
        "X8eB8NHzA4Tp",
        "pJX-Zn6QA5tz",
        "86pmoOatA7Pt",
        "GO8O2aCbA85y",
        "THuQOu1WA-g6",
        "pt4-MQbNBHZt",
        "Sg4gxTENBK1O",
        "3A2CqfJhBQSK"
      ],
      "provenance": [],
      "authorship_tag": "ABX9TyOkWhIMKdg3RmfJXbpNfYxJ",
      "include_colab_link": true
    },
    "kernelspec": {
      "display_name": "Python 3",
      "name": "python3"
    },
    "language_info": {
      "name": "python"
    }
  },
  "nbformat": 4,
  "nbformat_minor": 0
}