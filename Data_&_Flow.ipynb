{
  "nbformat": 4,
  "nbformat_minor": 0,
  "metadata": {
    "colab": {
      "provenance": [],
      "collapsed_sections": [
        "Ea0mgqF164De",
        "KKZcZois7VLe",
        "930icGoM7W0F",
        "4dhJxU9Q-LGT",
        "lu_T-XitClXV",
        "hAMbKpjBC6EZ",
        "u5qzZGSrD3pj",
        "E8WXr_RoD9jt",
        "iNHPakNUEAyn",
        "XIpozGtYEDhi",
        "qnRtfa70EGiF",
        "_sE9IVGTEJdx",
        "TuLanbS5EQfK",
        "E_J2uiLsAvN_",
        "uLolQcVoAzTN",
        "X8eB8NHzA4Tp",
        "pJX-Zn6QA5tz",
        "86pmoOatA7Pt",
        "GO8O2aCbA85y",
        "THuQOu1WA-g6",
        "Ye7414rJBFBb",
        "pt4-MQbNBHZt",
        "Sg4gxTENBK1O",
        "3A2CqfJhBQSK"
      ],
      "authorship_tag": "ABX9TyNQgkwPmOxnGRiYL8SlzkpU",
      "include_colab_link": true
    },
    "kernelspec": {
      "name": "python3",
      "display_name": "Python 3"
    },
    "language_info": {
      "name": "python"
    }
  },
  "cells": [
    {
      "cell_type": "markdown",
      "metadata": {
        "id": "view-in-github",
        "colab_type": "text"
      },
      "source": [
        "<a href=\"https://colab.research.google.com/github/Facusc16/data_flow/blob/main/Data_%26_Flow.ipynb\" target=\"_parent\"><img src=\"https://colab.research.google.com/assets/colab-badge.svg\" alt=\"Open In Colab\"/></a>"
      ]
    },
    {
      "cell_type": "markdown",
      "source": [
        "# Requerimientos"
      ],
      "metadata": {
        "id": "Ea0mgqF164De"
      }
    },
    {
      "cell_type": "markdown",
      "source": [
        "## Librerías"
      ],
      "metadata": {
        "id": "KKZcZois7VLe"
      }
    },
    {
      "cell_type": "code",
      "source": [
        "import pandas as pd\n",
        "from google.colab import drive"
      ],
      "metadata": {
        "id": "iY2lHbvv7bLI"
      },
      "execution_count": null,
      "outputs": []
    },
    {
      "cell_type": "markdown",
      "source": [
        "## Google Drive"
      ],
      "metadata": {
        "id": "930icGoM7W0F"
      }
    },
    {
      "cell_type": "code",
      "source": [
        "drive.mount('/content/drive')"
      ],
      "metadata": {
        "colab": {
          "base_uri": "https://localhost:8080/"
        },
        "id": "KibTYPsF7cBL",
        "outputId": "75938fe2-330f-41db-8c47-a2bd6cb06e65"
      },
      "execution_count": null,
      "outputs": [
        {
          "output_type": "stream",
          "name": "stdout",
          "text": [
            "Mounted at /content/drive\n"
          ]
        }
      ]
    },
    {
      "cell_type": "markdown",
      "source": [
        "## Construir DataFrame"
      ],
      "metadata": {
        "id": "4dhJxU9Q-LGT"
      }
    },
    {
      "cell_type": "code",
      "source": [
        "path = '/content/drive/MyDrive/JSON/spotify_dataset.csv'\n",
        "\n",
        "df = pd.read_csv(path)"
      ],
      "metadata": {
        "id": "li0lZ_Ll-aqZ"
      },
      "execution_count": null,
      "outputs": []
    },
    {
      "cell_type": "markdown",
      "source": [
        "# Analisis descriptivo"
      ],
      "metadata": {
        "id": "QmZNE2lsCiTx"
      }
    },
    {
      "cell_type": "markdown",
      "source": [
        "## Dimensiones del DataFreme"
      ],
      "metadata": {
        "id": "lu_T-XitClXV"
      }
    },
    {
      "cell_type": "code",
      "source": [
        "df.shape"
      ],
      "metadata": {
        "id": "kACNvtkdCpPC",
        "colab": {
          "base_uri": "https://localhost:8080/"
        },
        "outputId": "10dfe08c-ad88-45e0-a1bd-c587590c8b9a"
      },
      "execution_count": null,
      "outputs": [
        {
          "output_type": "execute_result",
          "data": {
            "text/plain": [
              "(498052, 39)"
            ]
          },
          "metadata": {},
          "execution_count": 4
        }
      ]
    },
    {
      "cell_type": "markdown",
      "source": [
        "## Información general del DataFrame"
      ],
      "metadata": {
        "id": "hAMbKpjBC6EZ"
      }
    },
    {
      "cell_type": "code",
      "source": [
        "df.info()"
      ],
      "metadata": {
        "id": "pTXLBgVSC9F7",
        "colab": {
          "base_uri": "https://localhost:8080/"
        },
        "outputId": "041aef99-406f-4447-a830-5552258ff701"
      },
      "execution_count": null,
      "outputs": [
        {
          "output_type": "stream",
          "name": "stdout",
          "text": [
            "<class 'pandas.core.frame.DataFrame'>\n",
            "RangeIndex: 498052 entries, 0 to 498051\n",
            "Data columns (total 39 columns):\n",
            " #   Column                          Non-Null Count   Dtype  \n",
            "---  ------                          --------------   -----  \n",
            " 0   Artist(s)                       498052 non-null  object \n",
            " 1   song                            498038 non-null  object \n",
            " 2   text                            498052 non-null  object \n",
            " 3   Length                          498052 non-null  object \n",
            " 4   emotion                         498052 non-null  object \n",
            " 5   Genre                           498052 non-null  object \n",
            " 6   Album                           498003 non-null  object \n",
            " 7   Release Date                    350369 non-null  object \n",
            " 8   Key                             498052 non-null  object \n",
            " 9   Tempo                           498052 non-null  float64\n",
            " 10  Loudness (db)                   498052 non-null  float64\n",
            " 11  Time signature                  498044 non-null  object \n",
            " 12  Explicit                        498052 non-null  object \n",
            " 13  Popularity                      498052 non-null  int64  \n",
            " 14  Energy                          498052 non-null  int64  \n",
            " 15  Danceability                    498052 non-null  int64  \n",
            " 16  Positiveness                    498052 non-null  int64  \n",
            " 17  Speechiness                     498052 non-null  int64  \n",
            " 18  Liveness                        498052 non-null  int64  \n",
            " 19  Acousticness                    498052 non-null  int64  \n",
            " 20  Instrumentalness                498052 non-null  int64  \n",
            " 21  Good for Party                  498052 non-null  int64  \n",
            " 22  Good for Work/Study             498052 non-null  int64  \n",
            " 23  Good for Relaxation/Meditation  498052 non-null  int64  \n",
            " 24  Good for Exercise               498052 non-null  int64  \n",
            " 25  Good for Running                498052 non-null  int64  \n",
            " 26  Good for Yoga/Stretching        498052 non-null  int64  \n",
            " 27  Good for Driving                498052 non-null  int64  \n",
            " 28  Good for Social Gatherings      498052 non-null  int64  \n",
            " 29  Good for Morning Routine        498052 non-null  int64  \n",
            " 30  Similar Artist 1                498052 non-null  object \n",
            " 31  Similar Song 1                  498033 non-null  object \n",
            " 32  Similarity Score 1              498052 non-null  float64\n",
            " 33  Similar Artist 2                498052 non-null  object \n",
            " 34  Similar Song 2                  498036 non-null  object \n",
            " 35  Similarity Score 2              498052 non-null  float64\n",
            " 36  Similar Artist 3                498052 non-null  object \n",
            " 37  Similar Song 3                  498048 non-null  object \n",
            " 38  Similarity Score 3              498052 non-null  float64\n",
            "dtypes: float64(5), int64(17), object(17)\n",
            "memory usage: 148.2+ MB\n"
          ]
        }
      ]
    },
    {
      "cell_type": "markdown",
      "source": [
        "# Limpieza y manipulación de los datos"
      ],
      "metadata": {
        "id": "D2W9KFYmDxuF"
      }
    },
    {
      "cell_type": "markdown",
      "source": [
        "## Quitar datos duplicados o irrelevantes"
      ],
      "metadata": {
        "id": "u5qzZGSrD3pj"
      }
    },
    {
      "cell_type": "code",
      "source": [],
      "metadata": {
        "id": "v5HW4MQbELDz"
      },
      "execution_count": null,
      "outputs": []
    },
    {
      "cell_type": "markdown",
      "source": [
        "## Arreglar errores estructurales"
      ],
      "metadata": {
        "id": "E8WXr_RoD9jt"
      }
    },
    {
      "cell_type": "code",
      "source": [],
      "metadata": {
        "id": "dhumoZ-kEK4J"
      },
      "execution_count": null,
      "outputs": []
    },
    {
      "cell_type": "markdown",
      "source": [
        "## Filtrar outliers"
      ],
      "metadata": {
        "id": "iNHPakNUEAyn"
      }
    },
    {
      "cell_type": "code",
      "source": [],
      "metadata": {
        "id": "spDJ6ypyEKtQ"
      },
      "execution_count": null,
      "outputs": []
    },
    {
      "cell_type": "markdown",
      "source": [
        "## Lidiar con NaNs"
      ],
      "metadata": {
        "id": "XIpozGtYEDhi"
      }
    },
    {
      "cell_type": "code",
      "source": [],
      "metadata": {
        "id": "W6KF616pEKhL"
      },
      "execution_count": null,
      "outputs": []
    },
    {
      "cell_type": "markdown",
      "source": [
        "## Validar nuestros datos"
      ],
      "metadata": {
        "id": "qnRtfa70EGiF"
      }
    },
    {
      "cell_type": "code",
      "source": [],
      "metadata": {
        "id": "ruhnwaQhEO_A"
      },
      "execution_count": null,
      "outputs": []
    },
    {
      "cell_type": "markdown",
      "source": [
        "# EDA"
      ],
      "metadata": {
        "id": "_sE9IVGTEJdx"
      }
    },
    {
      "cell_type": "markdown",
      "source": [
        "## ¿Cual es el top 10 de las canciones que generan mejor flow?"
      ],
      "metadata": {
        "id": "TuLanbS5EQfK"
      }
    },
    {
      "cell_type": "code",
      "source": [],
      "metadata": {
        "id": "SADN8VMqBrCc"
      },
      "execution_count": null,
      "outputs": []
    },
    {
      "cell_type": "markdown",
      "source": [
        "## ¿Que artista es el que transmite más flow?"
      ],
      "metadata": {
        "id": "E_J2uiLsAvN_"
      }
    },
    {
      "cell_type": "code",
      "source": [],
      "metadata": {
        "id": "3I_fmag-Bqmn"
      },
      "execution_count": null,
      "outputs": []
    },
    {
      "cell_type": "markdown",
      "source": [
        "## Clasifica el top 3 de canciones según estas categorías:"
      ],
      "metadata": {
        "id": "uLolQcVoAzTN"
      }
    },
    {
      "cell_type": "markdown",
      "source": [
        "### Fiesta"
      ],
      "metadata": {
        "id": "X8eB8NHzA4Tp"
      }
    },
    {
      "cell_type": "code",
      "source": [],
      "metadata": {
        "id": "U1NbRIoCBAev"
      },
      "execution_count": null,
      "outputs": []
    },
    {
      "cell_type": "markdown",
      "source": [
        "### Trabajo"
      ],
      "metadata": {
        "id": "pJX-Zn6QA5tz"
      }
    },
    {
      "cell_type": "code",
      "source": [],
      "metadata": {
        "id": "ioEGqHzJBAp7"
      },
      "execution_count": null,
      "outputs": []
    },
    {
      "cell_type": "markdown",
      "source": [
        "### Ejercicio"
      ],
      "metadata": {
        "id": "86pmoOatA7Pt"
      }
    },
    {
      "cell_type": "code",
      "source": [],
      "metadata": {
        "id": "u-y_Z2Y3BA1Q"
      },
      "execution_count": null,
      "outputs": []
    },
    {
      "cell_type": "markdown",
      "source": [
        "### Relajación"
      ],
      "metadata": {
        "id": "GO8O2aCbA85y"
      }
    },
    {
      "cell_type": "code",
      "source": [],
      "metadata": {
        "id": "ZUQDi1WWBBNY"
      },
      "execution_count": null,
      "outputs": []
    },
    {
      "cell_type": "markdown",
      "source": [
        "### Conducción"
      ],
      "metadata": {
        "id": "THuQOu1WA-g6"
      }
    },
    {
      "cell_type": "code",
      "source": [],
      "metadata": {
        "id": "ke-nvG1iBBYJ"
      },
      "execution_count": null,
      "outputs": []
    },
    {
      "cell_type": "markdown",
      "source": [
        "## Visualizaciones:"
      ],
      "metadata": {
        "id": "Ye7414rJBFBb"
      }
    },
    {
      "cell_type": "markdown",
      "source": [
        "### Cantidad de positivismo por año"
      ],
      "metadata": {
        "id": "pt4-MQbNBHZt"
      }
    },
    {
      "cell_type": "code",
      "source": [],
      "metadata": {
        "id": "vg6nv1FDBKZI"
      },
      "execution_count": null,
      "outputs": []
    },
    {
      "cell_type": "markdown",
      "source": [
        "### Cantidad de canciones por año y género"
      ],
      "metadata": {
        "id": "Sg4gxTENBK1O"
      }
    },
    {
      "cell_type": "code",
      "source": [],
      "metadata": {
        "id": "IxvlqUMjBQCp"
      },
      "execution_count": null,
      "outputs": []
    },
    {
      "cell_type": "markdown",
      "source": [
        "## Extra Challenge"
      ],
      "metadata": {
        "id": "3A2CqfJhBQSK"
      }
    },
    {
      "cell_type": "code",
      "source": [],
      "metadata": {
        "id": "iwjn9zTaBVt7"
      },
      "execution_count": null,
      "outputs": []
    }
  ]
}