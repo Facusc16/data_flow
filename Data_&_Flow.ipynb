{
  "cells": [
    {
      "cell_type": "markdown",
      "metadata": {
        "id": "view-in-github",
        "colab_type": "text"
      },
      "source": [
        "<a href=\"https://colab.research.google.com/github/Facusc16/data_flow/blob/main/Data_%26_Flow.ipynb\" target=\"_parent\"><img src=\"https://colab.research.google.com/assets/colab-badge.svg\" alt=\"Open In Colab\"/></a>"
      ]
    },
    {
      "cell_type": "markdown",
      "metadata": {
        "id": "Ea0mgqF164De"
      },
      "source": [
        "# Requerimientos"
      ]
    },
    {
      "cell_type": "markdown",
      "metadata": {
        "id": "KKZcZois7VLe"
      },
      "source": [
        "## Librerías"
      ]
    },
    {
      "cell_type": "markdown",
      "source": [
        "Se utilizó la versión 1.5.1 de la librería scikit-learn para entrenar el modelo de clasificación"
      ],
      "metadata": {
        "id": "ioLnTBWxkUPy"
      }
    },
    {
      "cell_type": "code",
      "source": [
        "!pip install spotipy\n",
        "# !pip install scikit-learn==1.5.1"
      ],
      "metadata": {
        "colab": {
          "base_uri": "https://localhost:8080/"
        },
        "id": "0-D36fVfGgyg",
        "outputId": "e2729fe0-1282-404f-e042-c226e2010315"
      },
      "execution_count": null,
      "outputs": [
        {
          "output_type": "stream",
          "name": "stdout",
          "text": [
            "Requirement already satisfied: spotipy in c:\\programdata\\anaconda3\\lib\\site-packages (2.25.1)\n",
            "Requirement already satisfied: redis>=3.5.3 in c:\\programdata\\anaconda3\\lib\\site-packages (from spotipy) (6.2.0)\n",
            "Requirement already satisfied: requests>=2.25.0 in c:\\programdata\\anaconda3\\lib\\site-packages (from spotipy) (2.32.3)\n",
            "Requirement already satisfied: urllib3>=1.26.0 in c:\\programdata\\anaconda3\\lib\\site-packages (from spotipy) (2.2.3)\n",
            "Requirement already satisfied: charset-normalizer<4,>=2 in c:\\programdata\\anaconda3\\lib\\site-packages (from requests>=2.25.0->spotipy) (3.3.2)\n",
            "Requirement already satisfied: idna<4,>=2.5 in c:\\programdata\\anaconda3\\lib\\site-packages (from requests>=2.25.0->spotipy) (3.7)\n",
            "Requirement already satisfied: certifi>=2017.4.17 in c:\\programdata\\anaconda3\\lib\\site-packages (from requests>=2.25.0->spotipy) (2024.12.14)\n"
          ]
        }
      ]
    },
    {
      "cell_type": "code",
      "execution_count": null,
      "metadata": {
        "id": "iY2lHbvv7bLI"
      },
      "outputs": [],
      "source": [
        "# Ciencia de datos\n",
        "import pandas as pd\n",
        "import numpy as np\n",
        "import matplotlib.pyplot as plt\n",
        "from datetime import timedelta\n",
        "\n",
        "# Google Colab\n",
        "# from google.colab import drive\n",
        "\n",
        "# Spotify\n",
        "import spotipy\n",
        "from spotipy.oauth2 import SpotifyClientCredentials\n",
        "from spotipy.exceptions import SpotifyException\n",
        "\n",
        "# Exceptions Warnings\n",
        "from requests.exceptions import RequestException\n",
        "import warnings\n",
        "\n",
        "# Machine Learning\n",
        "from sklearn.pipeline import Pipeline\n",
        "from sklearn.ensemble import RandomForestClassifier\n",
        "from sklearn.compose import ColumnTransformer\n",
        "from sklearn.preprocessing import OneHotEncoder\n",
        "from sklearn.model_selection import train_test_split, GridSearchCV\n",
        "from sklearn.feature_selection import SelectFromModel\n",
        "from sklearn.metrics import accuracy_score, precision_score, recall_score,  f1_score, log_loss\n",
        "\n",
        "from joblib import dump, load\n",
        "from IPython.display import clear_output\n",
        "import logging\n",
        "import sys\n",
        "import re\n",
        "import json\n",
        "import time\n",
        "from datetime import timedelta\n",
        "import os"
      ]
    },
    {
      "cell_type": "markdown",
      "metadata": {
        "id": "930icGoM7W0F"
      },
      "source": [
        "## Google Drive"
      ]
    },
    {
      "cell_type": "markdown",
      "source": [
        "Primera mente fue utilizado google colab conectado a un entorno de ejecución alojado para trabajar con el dataset, luego se utilizó un entorno de ejecución local para facilitar el entrenamiento del modelo de clasificación."
      ],
      "metadata": {
        "id": "GDL75FEakssq"
      }
    },
    {
      "cell_type": "code",
      "execution_count": null,
      "metadata": {
        "id": "KibTYPsF7cBL"
      },
      "outputs": [],
      "source": [
        "# drive.mount('/content/drive')"
      ]
    },
    {
      "cell_type": "markdown",
      "metadata": {
        "id": "4dhJxU9Q-LGT"
      },
      "source": [
        "## Construir DataFrame"
      ]
    },
    {
      "cell_type": "code",
      "execution_count": null,
      "metadata": {
        "id": "li0lZ_Ll-aqZ"
      },
      "outputs": [],
      "source": [
        "path = 'spotify_dataset.csv'\n",
        "\n",
        "df = pd.read_csv(path)"
      ]
    },
    {
      "cell_type": "markdown",
      "metadata": {
        "id": "QmZNE2lsCiTx"
      },
      "source": [
        "# Analisis descriptivo"
      ]
    },
    {
      "cell_type": "markdown",
      "metadata": {
        "id": "lu_T-XitClXV"
      },
      "source": [
        "## Dimensiones del DataFreme"
      ]
    },
    {
      "cell_type": "code",
      "execution_count": null,
      "metadata": {
        "id": "kACNvtkdCpPC",
        "colab": {
          "base_uri": "https://localhost:8080/"
        },
        "outputId": "5584c41b-25cd-47b6-f837-27b6b76b676e"
      },
      "outputs": [
        {
          "output_type": "execute_result",
          "data": {
            "text/plain": [
              "(498052, 39)"
            ]
          },
          "metadata": {},
          "execution_count": 5
        }
      ],
      "source": [
        "df.shape"
      ]
    },
    {
      "cell_type": "markdown",
      "metadata": {
        "id": "hAMbKpjBC6EZ"
      },
      "source": [
        "## Información general del DataFrame"
      ]
    },
    {
      "cell_type": "code",
      "execution_count": null,
      "metadata": {
        "id": "pTXLBgVSC9F7",
        "colab": {
          "base_uri": "https://localhost:8080/"
        },
        "outputId": "95dcbb62-1352-4f92-aa80-c474ad78bb15"
      },
      "outputs": [
        {
          "output_type": "stream",
          "name": "stdout",
          "text": [
            "<class 'pandas.core.frame.DataFrame'>\n",
            "RangeIndex: 498052 entries, 0 to 498051\n",
            "Data columns (total 39 columns):\n",
            " #   Column                          Non-Null Count   Dtype  \n",
            "---  ------                          --------------   -----  \n",
            " 0   Artist(s)                       498052 non-null  object \n",
            " 1   song                            498038 non-null  object \n",
            " 2   text                            498052 non-null  object \n",
            " 3   Length                          498052 non-null  object \n",
            " 4   emotion                         498052 non-null  object \n",
            " 5   Genre                           498052 non-null  object \n",
            " 6   Album                           498003 non-null  object \n",
            " 7   Release Date                    350369 non-null  object \n",
            " 8   Key                             498052 non-null  object \n",
            " 9   Tempo                           498052 non-null  float64\n",
            " 10  Loudness (db)                   498052 non-null  float64\n",
            " 11  Time signature                  498044 non-null  object \n",
            " 12  Explicit                        498052 non-null  object \n",
            " 13  Popularity                      498052 non-null  int64  \n",
            " 14  Energy                          498052 non-null  int64  \n",
            " 15  Danceability                    498052 non-null  int64  \n",
            " 16  Positiveness                    498052 non-null  int64  \n",
            " 17  Speechiness                     498052 non-null  int64  \n",
            " 18  Liveness                        498052 non-null  int64  \n",
            " 19  Acousticness                    498052 non-null  int64  \n",
            " 20  Instrumentalness                498052 non-null  int64  \n",
            " 21  Good for Party                  498052 non-null  int64  \n",
            " 22  Good for Work/Study             498052 non-null  int64  \n",
            " 23  Good for Relaxation/Meditation  498052 non-null  int64  \n",
            " 24  Good for Exercise               498052 non-null  int64  \n",
            " 25  Good for Running                498052 non-null  int64  \n",
            " 26  Good for Yoga/Stretching        498052 non-null  int64  \n",
            " 27  Good for Driving                498052 non-null  int64  \n",
            " 28  Good for Social Gatherings      498052 non-null  int64  \n",
            " 29  Good for Morning Routine        498052 non-null  int64  \n",
            " 30  Similar Artist 1                498052 non-null  object \n",
            " 31  Similar Song 1                  498033 non-null  object \n",
            " 32  Similarity Score 1              498052 non-null  float64\n",
            " 33  Similar Artist 2                498052 non-null  object \n",
            " 34  Similar Song 2                  498036 non-null  object \n",
            " 35  Similarity Score 2              498052 non-null  float64\n",
            " 36  Similar Artist 3                498052 non-null  object \n",
            " 37  Similar Song 3                  498048 non-null  object \n",
            " 38  Similarity Score 3              498052 non-null  float64\n",
            "dtypes: float64(5), int64(17), object(17)\n",
            "memory usage: 148.2+ MB\n"
          ]
        }
      ],
      "source": [
        "df.info()"
      ]
    },
    {
      "cell_type": "markdown",
      "metadata": {
        "id": "D2W9KFYmDxuF"
      },
      "source": [
        "# Limpieza y manipulación de los datos"
      ]
    },
    {
      "cell_type": "markdown",
      "metadata": {
        "id": "u5qzZGSrD3pj"
      },
      "source": [
        "## Quitar datos duplicados o irrelevantes"
      ]
    },
    {
      "cell_type": "code",
      "execution_count": null,
      "metadata": {
        "id": "v5HW4MQbELDz",
        "colab": {
          "base_uri": "https://localhost:8080/"
        },
        "outputId": "0374d041-e469-48fb-ceb5-b0684c225e89"
      },
      "outputs": [
        {
          "output_type": "execute_result",
          "data": {
            "text/plain": [
              "False"
            ]
          },
          "metadata": {},
          "execution_count": 7
        }
      ],
      "source": [
        "df.duplicated().any()"
      ]
    },
    {
      "cell_type": "markdown",
      "metadata": {
        "id": "E8WXr_RoD9jt"
      },
      "source": [
        "## Arreglar errores estructurales"
      ]
    },
    {
      "cell_type": "code",
      "execution_count": null,
      "metadata": {
        "collapsed": true,
        "id": "aY0TgFoNXIz0",
        "colab": {
          "base_uri": "https://localhost:8080/"
        },
        "outputId": "5de21933-cf5b-4680-e866-14b793717d30"
      },
      "outputs": [
        {
          "output_type": "execute_result",
          "data": {
            "text/plain": [
              "  Artist(s)                       song  \\\n",
              "0       !!!  Even When the Waters Cold   \n",
              "1       !!!         One Girl / One Boy   \n",
              "2       !!!          Pardon My Freedom   \n",
              "3       !!!                        Ooo   \n",
              "4       !!!                 Freedom 15   \n",
              "\n",
              "                                                text Length  emotion    Genre  \\\n",
              "0  Friends told her she was better off at the bot...  03:47  sadness  hip hop   \n",
              "1  Well I heard it, playing soft From a drunken b...  04:03  sadness  hip hop   \n",
              "2  Oh my god, did I just say that out loud? Shoul...  05:51      joy  hip hop   \n",
              "3  [Verse 1] Remember when I called you on the te...  03:44      joy  hip hop   \n",
              "4  [Verse 1] Calling me like I got something to s...  06:00      joy  hip hop   \n",
              "\n",
              "           Album Release Date     Key     Tempo  ...  \\\n",
              "0       Thr!!!er   2013-04-29   D min  0.437870  ...   \n",
              "1       Thr!!!er   2013-04-29  A# min  0.508876  ...   \n",
              "2  Louden Up Now   2004-06-08   A Maj  0.532544  ...   \n",
              "3          As If   2015-10-16   A min  0.538462  ...   \n",
              "4          As If   2015-10-16   F min  0.544379  ...   \n",
              "\n",
              "   Good for Morning Routine Similar Artist 1               Similar Song 1  \\\n",
              "0                         0      Corey Smith       If I Could Do It Again   \n",
              "1                         0  Hiroyuki Sawano                 BRE@TH//LESS   \n",
              "2                         0    Ricky Dillard  More Abundantly Medley Live   \n",
              "3                         0     Eric Clapton                Man Overboard   \n",
              "4                         0       Cibo Matto                 Lint Of Love   \n",
              "\n",
              "   Similarity Score 1  Similar Artist 2              Similar Song 2  \\\n",
              "0            0.986061        Toby Keith           Drinks After Work   \n",
              "1            0.995409      When In Rome                Heaven Knows   \n",
              "2            0.993176            Juliet                      Avalon   \n",
              "3            0.992749           Roxette  Don't Believe In Accidents   \n",
              "4            0.981610   Barrington Levy            Better Than Gold   \n",
              "\n",
              "   Similarity Score 2  Similar Artist 3  Similar Song 3  Similarity Score 3  \n",
              "0            0.983719             Space   Neighbourhood            0.983236  \n",
              "1            0.990905      Justice Crew       Everybody            0.984483  \n",
              "2            0.965147      The Jacksons      Lovely One            0.956752  \n",
              "3            0.991494       Tiwa Savage       My Darlin            0.990381  \n",
              "4            0.981524         Freestyle   Its Automatic            0.981415  \n",
              "\n",
              "[5 rows x 39 columns]"
            ],
            "text/html": [
              "<div>\n",
              "<style scoped>\n",
              "    .dataframe tbody tr th:only-of-type {\n",
              "        vertical-align: middle;\n",
              "    }\n",
              "\n",
              "    .dataframe tbody tr th {\n",
              "        vertical-align: top;\n",
              "    }\n",
              "\n",
              "    .dataframe thead th {\n",
              "        text-align: right;\n",
              "    }\n",
              "</style>\n",
              "<table border=\"1\" class=\"dataframe\">\n",
              "  <thead>\n",
              "    <tr style=\"text-align: right;\">\n",
              "      <th></th>\n",
              "      <th>Artist(s)</th>\n",
              "      <th>song</th>\n",
              "      <th>text</th>\n",
              "      <th>Length</th>\n",
              "      <th>emotion</th>\n",
              "      <th>Genre</th>\n",
              "      <th>Album</th>\n",
              "      <th>Release Date</th>\n",
              "      <th>Key</th>\n",
              "      <th>Tempo</th>\n",
              "      <th>...</th>\n",
              "      <th>Good for Morning Routine</th>\n",
              "      <th>Similar Artist 1</th>\n",
              "      <th>Similar Song 1</th>\n",
              "      <th>Similarity Score 1</th>\n",
              "      <th>Similar Artist 2</th>\n",
              "      <th>Similar Song 2</th>\n",
              "      <th>Similarity Score 2</th>\n",
              "      <th>Similar Artist 3</th>\n",
              "      <th>Similar Song 3</th>\n",
              "      <th>Similarity Score 3</th>\n",
              "    </tr>\n",
              "  </thead>\n",
              "  <tbody>\n",
              "    <tr>\n",
              "      <th>0</th>\n",
              "      <td>!!!</td>\n",
              "      <td>Even When the Waters Cold</td>\n",
              "      <td>Friends told her she was better off at the bot...</td>\n",
              "      <td>03:47</td>\n",
              "      <td>sadness</td>\n",
              "      <td>hip hop</td>\n",
              "      <td>Thr!!!er</td>\n",
              "      <td>2013-04-29</td>\n",
              "      <td>D min</td>\n",
              "      <td>0.437870</td>\n",
              "      <td>...</td>\n",
              "      <td>0</td>\n",
              "      <td>Corey Smith</td>\n",
              "      <td>If I Could Do It Again</td>\n",
              "      <td>0.986061</td>\n",
              "      <td>Toby Keith</td>\n",
              "      <td>Drinks After Work</td>\n",
              "      <td>0.983719</td>\n",
              "      <td>Space</td>\n",
              "      <td>Neighbourhood</td>\n",
              "      <td>0.983236</td>\n",
              "    </tr>\n",
              "    <tr>\n",
              "      <th>1</th>\n",
              "      <td>!!!</td>\n",
              "      <td>One Girl / One Boy</td>\n",
              "      <td>Well I heard it, playing soft From a drunken b...</td>\n",
              "      <td>04:03</td>\n",
              "      <td>sadness</td>\n",
              "      <td>hip hop</td>\n",
              "      <td>Thr!!!er</td>\n",
              "      <td>2013-04-29</td>\n",
              "      <td>A# min</td>\n",
              "      <td>0.508876</td>\n",
              "      <td>...</td>\n",
              "      <td>0</td>\n",
              "      <td>Hiroyuki Sawano</td>\n",
              "      <td>BRE@TH//LESS</td>\n",
              "      <td>0.995409</td>\n",
              "      <td>When In Rome</td>\n",
              "      <td>Heaven Knows</td>\n",
              "      <td>0.990905</td>\n",
              "      <td>Justice Crew</td>\n",
              "      <td>Everybody</td>\n",
              "      <td>0.984483</td>\n",
              "    </tr>\n",
              "    <tr>\n",
              "      <th>2</th>\n",
              "      <td>!!!</td>\n",
              "      <td>Pardon My Freedom</td>\n",
              "      <td>Oh my god, did I just say that out loud? Shoul...</td>\n",
              "      <td>05:51</td>\n",
              "      <td>joy</td>\n",
              "      <td>hip hop</td>\n",
              "      <td>Louden Up Now</td>\n",
              "      <td>2004-06-08</td>\n",
              "      <td>A Maj</td>\n",
              "      <td>0.532544</td>\n",
              "      <td>...</td>\n",
              "      <td>0</td>\n",
              "      <td>Ricky Dillard</td>\n",
              "      <td>More Abundantly Medley Live</td>\n",
              "      <td>0.993176</td>\n",
              "      <td>Juliet</td>\n",
              "      <td>Avalon</td>\n",
              "      <td>0.965147</td>\n",
              "      <td>The Jacksons</td>\n",
              "      <td>Lovely One</td>\n",
              "      <td>0.956752</td>\n",
              "    </tr>\n",
              "    <tr>\n",
              "      <th>3</th>\n",
              "      <td>!!!</td>\n",
              "      <td>Ooo</td>\n",
              "      <td>[Verse 1] Remember when I called you on the te...</td>\n",
              "      <td>03:44</td>\n",
              "      <td>joy</td>\n",
              "      <td>hip hop</td>\n",
              "      <td>As If</td>\n",
              "      <td>2015-10-16</td>\n",
              "      <td>A min</td>\n",
              "      <td>0.538462</td>\n",
              "      <td>...</td>\n",
              "      <td>0</td>\n",
              "      <td>Eric Clapton</td>\n",
              "      <td>Man Overboard</td>\n",
              "      <td>0.992749</td>\n",
              "      <td>Roxette</td>\n",
              "      <td>Don't Believe In Accidents</td>\n",
              "      <td>0.991494</td>\n",
              "      <td>Tiwa Savage</td>\n",
              "      <td>My Darlin</td>\n",
              "      <td>0.990381</td>\n",
              "    </tr>\n",
              "    <tr>\n",
              "      <th>4</th>\n",
              "      <td>!!!</td>\n",
              "      <td>Freedom 15</td>\n",
              "      <td>[Verse 1] Calling me like I got something to s...</td>\n",
              "      <td>06:00</td>\n",
              "      <td>joy</td>\n",
              "      <td>hip hop</td>\n",
              "      <td>As If</td>\n",
              "      <td>2015-10-16</td>\n",
              "      <td>F min</td>\n",
              "      <td>0.544379</td>\n",
              "      <td>...</td>\n",
              "      <td>0</td>\n",
              "      <td>Cibo Matto</td>\n",
              "      <td>Lint Of Love</td>\n",
              "      <td>0.981610</td>\n",
              "      <td>Barrington Levy</td>\n",
              "      <td>Better Than Gold</td>\n",
              "      <td>0.981524</td>\n",
              "      <td>Freestyle</td>\n",
              "      <td>Its Automatic</td>\n",
              "      <td>0.981415</td>\n",
              "    </tr>\n",
              "  </tbody>\n",
              "</table>\n",
              "<p>5 rows × 39 columns</p>\n",
              "</div>"
            ]
          },
          "metadata": {},
          "execution_count": 8
        }
      ],
      "source": [
        "df.head()"
      ]
    },
    {
      "cell_type": "code",
      "execution_count": null,
      "metadata": {
        "collapsed": true,
        "id": "yGGiBsm9BWNG",
        "colab": {
          "base_uri": "https://localhost:8080/"
        },
        "outputId": "e9b70f8e-cf40-4ed9-931f-44df1a237d5c"
      },
      "outputs": [
        {
          "output_type": "execute_result",
          "data": {
            "text/plain": [
              "               Artist(s)                                               song  \\\n",
              "498047  박혜진 Park Hye Jin                                            Can you   \n",
              "498048  심형진 Hyungjin Sim  Lim Han Byul  Lee Hyuk - Prayer English Transl...   \n",
              "498049               우정하                       Memories Smiling Tears Remix   \n",
              "498050                제노                                    Come Back to Me   \n",
              "498051                코케                                I Wanna Be With You   \n",
              "\n",
              "                                                     text Length  emotion  \\\n",
              "498047  Can you be my (Can you be my) Can you be my (C...  03:39      joy   \n",
              "498048  [Verse] I gave you my everything But I see I c...  08:47      joy   \n",
              "498049  [Tasha]               Hell on earth, watching ...  03:53  sadness   \n",
              "498050  [Verse] Gifts and flowers lay upon the lid Of ...  03:12  sadness   \n",
              "498051  I wanna b with you I wanna b with you baby Yea...  03:32     love   \n",
              "\n",
              "            Genre                                              Album  \\\n",
              "498047      house                   Can you (Galcher Lustwerk Remix)   \n",
              "498048  metalcore                                  비 준비하시니 Psalm_147   \n",
              "498049    hip hop                                             MEMORY   \n",
              "498050    hip hop                                   2008 to me again   \n",
              "498051    hip hop  I Wanna Be With You : Originally Performed By ...   \n",
              "\n",
              "       Release Date     Key     Tempo  ...  Good for Morning Routine  \\\n",
              "498047   2020-10-14   B min  0.644970  ...                         0   \n",
              "498048   2022-04-19  G# Maj  0.573964  ...                         0   \n",
              "498049   2023-08-30  G# min  0.260355  ...                         0   \n",
              "498050          NaN   E Maj  0.562130  ...                         0   \n",
              "498051   2020-11-04   D Maj  0.408284  ...                         0   \n",
              "\n",
              "              Similar Artist 1               Similar Song 1  \\\n",
              "498047            LXST CXNTURY                NEVER EXISTED   \n",
              "498048               Kari Jobe                 No Fear Live   \n",
              "498049  Manic Street Preachers               People Give In   \n",
              "498050            Bonnie Raitt          I Can't Help Myself   \n",
              "498051       Ameritz - Karaoke  Roxanne 97 Puff Daddy Remix   \n",
              "\n",
              "        Similarity Score 1                 Similar Artist 2  \\\n",
              "498047            0.946429                 Occvlt,StoneDogg   \n",
              "498048            0.991961       The Belonging Co,Kari Jobe   \n",
              "498049            0.982809                    Vinyl Theatre   \n",
              "498050            0.983805  J. Roddy Walston & The Business   \n",
              "498051            0.987132                Ameritz - Karaoke   \n",
              "\n",
              "              Similar Song 2  Similarity Score 2   Similar Artist 3  \\\n",
              "498047                ALIZAY            0.926155            Peaches   \n",
              "498048  Closer To Your Heart            0.990956        Saintseneca   \n",
              "498049                  Gold            0.980835           Unspoken   \n",
              "498050            Bad Habits            0.982425       Idina Menzel   \n",
              "498051               Roxanne            0.987132  ProSource Karaoke   \n",
              "\n",
              "                 Similar Song 3  Similarity Score 3  \n",
              "498047          Light in Places            0.923749  \n",
              "498048             Pillar of Na            0.990385  \n",
              "498049  Life in the Death of Me            0.980171  \n",
              "498050       Damsel In Distress            0.975935  \n",
              "498051  Get Back Single Version            0.984674  \n",
              "\n",
              "[5 rows x 39 columns]"
            ],
            "text/html": [
              "<div>\n",
              "<style scoped>\n",
              "    .dataframe tbody tr th:only-of-type {\n",
              "        vertical-align: middle;\n",
              "    }\n",
              "\n",
              "    .dataframe tbody tr th {\n",
              "        vertical-align: top;\n",
              "    }\n",
              "\n",
              "    .dataframe thead th {\n",
              "        text-align: right;\n",
              "    }\n",
              "</style>\n",
              "<table border=\"1\" class=\"dataframe\">\n",
              "  <thead>\n",
              "    <tr style=\"text-align: right;\">\n",
              "      <th></th>\n",
              "      <th>Artist(s)</th>\n",
              "      <th>song</th>\n",
              "      <th>text</th>\n",
              "      <th>Length</th>\n",
              "      <th>emotion</th>\n",
              "      <th>Genre</th>\n",
              "      <th>Album</th>\n",
              "      <th>Release Date</th>\n",
              "      <th>Key</th>\n",
              "      <th>Tempo</th>\n",
              "      <th>...</th>\n",
              "      <th>Good for Morning Routine</th>\n",
              "      <th>Similar Artist 1</th>\n",
              "      <th>Similar Song 1</th>\n",
              "      <th>Similarity Score 1</th>\n",
              "      <th>Similar Artist 2</th>\n",
              "      <th>Similar Song 2</th>\n",
              "      <th>Similarity Score 2</th>\n",
              "      <th>Similar Artist 3</th>\n",
              "      <th>Similar Song 3</th>\n",
              "      <th>Similarity Score 3</th>\n",
              "    </tr>\n",
              "  </thead>\n",
              "  <tbody>\n",
              "    <tr>\n",
              "      <th>498047</th>\n",
              "      <td>박혜진 Park Hye Jin</td>\n",
              "      <td>Can you</td>\n",
              "      <td>Can you be my (Can you be my) Can you be my (C...</td>\n",
              "      <td>03:39</td>\n",
              "      <td>joy</td>\n",
              "      <td>house</td>\n",
              "      <td>Can you (Galcher Lustwerk Remix)</td>\n",
              "      <td>2020-10-14</td>\n",
              "      <td>B min</td>\n",
              "      <td>0.644970</td>\n",
              "      <td>...</td>\n",
              "      <td>0</td>\n",
              "      <td>LXST CXNTURY</td>\n",
              "      <td>NEVER EXISTED</td>\n",
              "      <td>0.946429</td>\n",
              "      <td>Occvlt,StoneDogg</td>\n",
              "      <td>ALIZAY</td>\n",
              "      <td>0.926155</td>\n",
              "      <td>Peaches</td>\n",
              "      <td>Light in Places</td>\n",
              "      <td>0.923749</td>\n",
              "    </tr>\n",
              "    <tr>\n",
              "      <th>498048</th>\n",
              "      <td>심형진 Hyungjin Sim</td>\n",
              "      <td>Lim Han Byul  Lee Hyuk - Prayer English Transl...</td>\n",
              "      <td>[Verse] I gave you my everything But I see I c...</td>\n",
              "      <td>08:47</td>\n",
              "      <td>joy</td>\n",
              "      <td>metalcore</td>\n",
              "      <td>비 준비하시니 Psalm_147</td>\n",
              "      <td>2022-04-19</td>\n",
              "      <td>G# Maj</td>\n",
              "      <td>0.573964</td>\n",
              "      <td>...</td>\n",
              "      <td>0</td>\n",
              "      <td>Kari Jobe</td>\n",
              "      <td>No Fear Live</td>\n",
              "      <td>0.991961</td>\n",
              "      <td>The Belonging Co,Kari Jobe</td>\n",
              "      <td>Closer To Your Heart</td>\n",
              "      <td>0.990956</td>\n",
              "      <td>Saintseneca</td>\n",
              "      <td>Pillar of Na</td>\n",
              "      <td>0.990385</td>\n",
              "    </tr>\n",
              "    <tr>\n",
              "      <th>498049</th>\n",
              "      <td>우정하</td>\n",
              "      <td>Memories Smiling Tears Remix</td>\n",
              "      <td>[Tasha]               Hell on earth, watching ...</td>\n",
              "      <td>03:53</td>\n",
              "      <td>sadness</td>\n",
              "      <td>hip hop</td>\n",
              "      <td>MEMORY</td>\n",
              "      <td>2023-08-30</td>\n",
              "      <td>G# min</td>\n",
              "      <td>0.260355</td>\n",
              "      <td>...</td>\n",
              "      <td>0</td>\n",
              "      <td>Manic Street Preachers</td>\n",
              "      <td>People Give In</td>\n",
              "      <td>0.982809</td>\n",
              "      <td>Vinyl Theatre</td>\n",
              "      <td>Gold</td>\n",
              "      <td>0.980835</td>\n",
              "      <td>Unspoken</td>\n",
              "      <td>Life in the Death of Me</td>\n",
              "      <td>0.980171</td>\n",
              "    </tr>\n",
              "    <tr>\n",
              "      <th>498050</th>\n",
              "      <td>제노</td>\n",
              "      <td>Come Back to Me</td>\n",
              "      <td>[Verse] Gifts and flowers lay upon the lid Of ...</td>\n",
              "      <td>03:12</td>\n",
              "      <td>sadness</td>\n",
              "      <td>hip hop</td>\n",
              "      <td>2008 to me again</td>\n",
              "      <td>NaN</td>\n",
              "      <td>E Maj</td>\n",
              "      <td>0.562130</td>\n",
              "      <td>...</td>\n",
              "      <td>0</td>\n",
              "      <td>Bonnie Raitt</td>\n",
              "      <td>I Can't Help Myself</td>\n",
              "      <td>0.983805</td>\n",
              "      <td>J. Roddy Walston &amp; The Business</td>\n",
              "      <td>Bad Habits</td>\n",
              "      <td>0.982425</td>\n",
              "      <td>Idina Menzel</td>\n",
              "      <td>Damsel In Distress</td>\n",
              "      <td>0.975935</td>\n",
              "    </tr>\n",
              "    <tr>\n",
              "      <th>498051</th>\n",
              "      <td>코케</td>\n",
              "      <td>I Wanna Be With You</td>\n",
              "      <td>I wanna b with you I wanna b with you baby Yea...</td>\n",
              "      <td>03:32</td>\n",
              "      <td>love</td>\n",
              "      <td>hip hop</td>\n",
              "      <td>I Wanna Be With You : Originally Performed By ...</td>\n",
              "      <td>2020-11-04</td>\n",
              "      <td>D Maj</td>\n",
              "      <td>0.408284</td>\n",
              "      <td>...</td>\n",
              "      <td>0</td>\n",
              "      <td>Ameritz - Karaoke</td>\n",
              "      <td>Roxanne 97 Puff Daddy Remix</td>\n",
              "      <td>0.987132</td>\n",
              "      <td>Ameritz - Karaoke</td>\n",
              "      <td>Roxanne</td>\n",
              "      <td>0.987132</td>\n",
              "      <td>ProSource Karaoke</td>\n",
              "      <td>Get Back Single Version</td>\n",
              "      <td>0.984674</td>\n",
              "    </tr>\n",
              "  </tbody>\n",
              "</table>\n",
              "<p>5 rows × 39 columns</p>\n",
              "</div>"
            ]
          },
          "metadata": {},
          "execution_count": 9
        }
      ],
      "source": [
        "df.tail()"
      ]
    },
    {
      "cell_type": "code",
      "execution_count": null,
      "metadata": {
        "collapsed": true,
        "id": "pB5h0LCSBXps",
        "colab": {
          "base_uri": "https://localhost:8080/"
        },
        "outputId": "0efeb099-449b-4a83-e28d-812bf7c37a26"
      },
      "outputs": [
        {
          "output_type": "execute_result",
          "data": {
            "text/plain": [
              "              Artist(s)                    song  \\\n",
              "365749             Russ                    Army   \n",
              "140237          Extreme  Am I Ever Gonna Change   \n",
              "48932      Bizzle,Sevin           My Confession   \n",
              "143917     Feed Me Jack              Audio Pono   \n",
              "396090  SPINALL,Olamide               Gimme Luv   \n",
              "\n",
              "                                                     text Length  emotion  \\\n",
              "365749  [Verse] Who's this dude who's rappin' crazy? M...  02:25      joy   \n",
              "140237  I'm tired of being me,    And I don't like wha...  06:56  sadness   \n",
              "48932   [Verse 1: Bizzle] I'm so tired of the fake thi...  04:33      joy   \n",
              "143917  [Verse 1] Charged and on the wing Unperturbed ...  04:46  sadness   \n",
              "396090  [Intro – Olamide:] Oh my baby girl, baby girl ...  03:22  sadness   \n",
              "\n",
              "                                    Genre                      Album  \\\n",
              "365749                            hip hop                    Silence   \n",
              "140237  progressive rock,grunge,hard rock   III Sides To Every Story   \n",
              "48932                             hip hop             The Good Fight   \n",
              "143917                          math rock                  Ultra Ego   \n",
              "396090                            hip hop  Gimme Luv (feat. Olamide)   \n",
              "\n",
              "       Release Date     Key     Tempo  ...  Good for Morning Routine  \\\n",
              "365749   2014-06-11   B Maj  0.295858  ...                         0   \n",
              "140237          NaN  C# Maj  0.349112  ...                         0   \n",
              "48932    2013-05-07   E min  0.325444  ...                         0   \n",
              "143917   2016-01-20  C# Maj  0.562130  ...                         0   \n",
              "396090   2017-04-06   D Maj  0.467456  ...                         0   \n",
              "\n",
              "             Similar Artist 1 Similar Song 1  Similarity Score 1  \\\n",
              "365749              Home Brew       Thursday            0.982366   \n",
              "140237              Marillion    You're Gone            0.962822   \n",
              "48932                Flo Rida    Make A Wish            0.974739   \n",
              "143917          Gileah Taylor     Going Home            0.985922   \n",
              "396090  Tom Gregory,Sebastien   Losing Sleep            0.976838   \n",
              "\n",
              "                   Similar Artist 2         Similar Song 2  \\\n",
              "365749                    Home Brew  Tierstar Vs. Dizaster   \n",
              "140237                    Bob Dylan             Narrow Way   \n",
              "48932   Mogli the Iceburg,Reconcile    Put My Life On This   \n",
              "143917              Luther Vandross    Isn't There Someone   \n",
              "396090                 Donnie Klang   Just a Rolling Stone   \n",
              "\n",
              "        Similarity Score 2    Similar Artist 3   Similar Song 3  \\\n",
              "365749            0.982366             SosMula        GUN SPORT   \n",
              "140237            0.954257   Bruce Springsteen     Worlds Apart   \n",
              "48932             0.968846  Serious Klein,FARR      God Is Love   \n",
              "143917            0.984809       The Districts  Silver Couplets   \n",
              "396090            0.975389     Psycho Maadnbad     Sorry Im Bad   \n",
              "\n",
              "        Similarity Score 3  \n",
              "365749            0.975853  \n",
              "140237            0.954137  \n",
              "48932             0.968494  \n",
              "143917            0.984623  \n",
              "396090            0.974072  \n",
              "\n",
              "[5 rows x 39 columns]"
            ],
            "text/html": [
              "<div>\n",
              "<style scoped>\n",
              "    .dataframe tbody tr th:only-of-type {\n",
              "        vertical-align: middle;\n",
              "    }\n",
              "\n",
              "    .dataframe tbody tr th {\n",
              "        vertical-align: top;\n",
              "    }\n",
              "\n",
              "    .dataframe thead th {\n",
              "        text-align: right;\n",
              "    }\n",
              "</style>\n",
              "<table border=\"1\" class=\"dataframe\">\n",
              "  <thead>\n",
              "    <tr style=\"text-align: right;\">\n",
              "      <th></th>\n",
              "      <th>Artist(s)</th>\n",
              "      <th>song</th>\n",
              "      <th>text</th>\n",
              "      <th>Length</th>\n",
              "      <th>emotion</th>\n",
              "      <th>Genre</th>\n",
              "      <th>Album</th>\n",
              "      <th>Release Date</th>\n",
              "      <th>Key</th>\n",
              "      <th>Tempo</th>\n",
              "      <th>...</th>\n",
              "      <th>Good for Morning Routine</th>\n",
              "      <th>Similar Artist 1</th>\n",
              "      <th>Similar Song 1</th>\n",
              "      <th>Similarity Score 1</th>\n",
              "      <th>Similar Artist 2</th>\n",
              "      <th>Similar Song 2</th>\n",
              "      <th>Similarity Score 2</th>\n",
              "      <th>Similar Artist 3</th>\n",
              "      <th>Similar Song 3</th>\n",
              "      <th>Similarity Score 3</th>\n",
              "    </tr>\n",
              "  </thead>\n",
              "  <tbody>\n",
              "    <tr>\n",
              "      <th>365749</th>\n",
              "      <td>Russ</td>\n",
              "      <td>Army</td>\n",
              "      <td>[Verse] Who's this dude who's rappin' crazy? M...</td>\n",
              "      <td>02:25</td>\n",
              "      <td>joy</td>\n",
              "      <td>hip hop</td>\n",
              "      <td>Silence</td>\n",
              "      <td>2014-06-11</td>\n",
              "      <td>B Maj</td>\n",
              "      <td>0.295858</td>\n",
              "      <td>...</td>\n",
              "      <td>0</td>\n",
              "      <td>Home Brew</td>\n",
              "      <td>Thursday</td>\n",
              "      <td>0.982366</td>\n",
              "      <td>Home Brew</td>\n",
              "      <td>Tierstar Vs. Dizaster</td>\n",
              "      <td>0.982366</td>\n",
              "      <td>SosMula</td>\n",
              "      <td>GUN SPORT</td>\n",
              "      <td>0.975853</td>\n",
              "    </tr>\n",
              "    <tr>\n",
              "      <th>140237</th>\n",
              "      <td>Extreme</td>\n",
              "      <td>Am I Ever Gonna Change</td>\n",
              "      <td>I'm tired of being me,    And I don't like wha...</td>\n",
              "      <td>06:56</td>\n",
              "      <td>sadness</td>\n",
              "      <td>progressive rock,grunge,hard rock</td>\n",
              "      <td>III Sides To Every Story</td>\n",
              "      <td>NaN</td>\n",
              "      <td>C# Maj</td>\n",
              "      <td>0.349112</td>\n",
              "      <td>...</td>\n",
              "      <td>0</td>\n",
              "      <td>Marillion</td>\n",
              "      <td>You're Gone</td>\n",
              "      <td>0.962822</td>\n",
              "      <td>Bob Dylan</td>\n",
              "      <td>Narrow Way</td>\n",
              "      <td>0.954257</td>\n",
              "      <td>Bruce Springsteen</td>\n",
              "      <td>Worlds Apart</td>\n",
              "      <td>0.954137</td>\n",
              "    </tr>\n",
              "    <tr>\n",
              "      <th>48932</th>\n",
              "      <td>Bizzle,Sevin</td>\n",
              "      <td>My Confession</td>\n",
              "      <td>[Verse 1: Bizzle] I'm so tired of the fake thi...</td>\n",
              "      <td>04:33</td>\n",
              "      <td>joy</td>\n",
              "      <td>hip hop</td>\n",
              "      <td>The Good Fight</td>\n",
              "      <td>2013-05-07</td>\n",
              "      <td>E min</td>\n",
              "      <td>0.325444</td>\n",
              "      <td>...</td>\n",
              "      <td>0</td>\n",
              "      <td>Flo Rida</td>\n",
              "      <td>Make A Wish</td>\n",
              "      <td>0.974739</td>\n",
              "      <td>Mogli the Iceburg,Reconcile</td>\n",
              "      <td>Put My Life On This</td>\n",
              "      <td>0.968846</td>\n",
              "      <td>Serious Klein,FARR</td>\n",
              "      <td>God Is Love</td>\n",
              "      <td>0.968494</td>\n",
              "    </tr>\n",
              "    <tr>\n",
              "      <th>143917</th>\n",
              "      <td>Feed Me Jack</td>\n",
              "      <td>Audio Pono</td>\n",
              "      <td>[Verse 1] Charged and on the wing Unperturbed ...</td>\n",
              "      <td>04:46</td>\n",
              "      <td>sadness</td>\n",
              "      <td>math rock</td>\n",
              "      <td>Ultra Ego</td>\n",
              "      <td>2016-01-20</td>\n",
              "      <td>C# Maj</td>\n",
              "      <td>0.562130</td>\n",
              "      <td>...</td>\n",
              "      <td>0</td>\n",
              "      <td>Gileah Taylor</td>\n",
              "      <td>Going Home</td>\n",
              "      <td>0.985922</td>\n",
              "      <td>Luther Vandross</td>\n",
              "      <td>Isn't There Someone</td>\n",
              "      <td>0.984809</td>\n",
              "      <td>The Districts</td>\n",
              "      <td>Silver Couplets</td>\n",
              "      <td>0.984623</td>\n",
              "    </tr>\n",
              "    <tr>\n",
              "      <th>396090</th>\n",
              "      <td>SPINALL,Olamide</td>\n",
              "      <td>Gimme Luv</td>\n",
              "      <td>[Intro – Olamide:] Oh my baby girl, baby girl ...</td>\n",
              "      <td>03:22</td>\n",
              "      <td>sadness</td>\n",
              "      <td>hip hop</td>\n",
              "      <td>Gimme Luv (feat. Olamide)</td>\n",
              "      <td>2017-04-06</td>\n",
              "      <td>D Maj</td>\n",
              "      <td>0.467456</td>\n",
              "      <td>...</td>\n",
              "      <td>0</td>\n",
              "      <td>Tom Gregory,Sebastien</td>\n",
              "      <td>Losing Sleep</td>\n",
              "      <td>0.976838</td>\n",
              "      <td>Donnie Klang</td>\n",
              "      <td>Just a Rolling Stone</td>\n",
              "      <td>0.975389</td>\n",
              "      <td>Psycho Maadnbad</td>\n",
              "      <td>Sorry Im Bad</td>\n",
              "      <td>0.974072</td>\n",
              "    </tr>\n",
              "  </tbody>\n",
              "</table>\n",
              "<p>5 rows × 39 columns</p>\n",
              "</div>"
            ]
          },
          "metadata": {},
          "execution_count": 10
        }
      ],
      "source": [
        "df.sample(5)"
      ]
    },
    {
      "cell_type": "markdown",
      "metadata": {
        "id": "1iISdunjBdna"
      },
      "source": [
        "### Definir errores"
      ]
    },
    {
      "cell_type": "markdown",
      "metadata": {
        "id": "mOJZYAS1EFDR"
      },
      "source": [
        "#### Cambiar nombres de columnas a minúsculas, y reemplazar espacios y carácteres especiales"
      ]
    },
    {
      "cell_type": "code",
      "execution_count": null,
      "metadata": {
        "id": "C4B8bgDXOi1C"
      },
      "outputs": [],
      "source": [
        "trans = str.maketrans({\n",
        "    \" \": \"_\",\n",
        "    \"/\": \"_\",\n",
        "    \"(\": \"\",\n",
        "    \")\": \"\"\n",
        "})\n",
        "\n",
        "columns = {}\n",
        "for column in df.columns:\n",
        "  columns[column] = column.strip().lower().translate(trans)\n",
        "\n",
        "df.rename(columns=columns, inplace=True)"
      ]
    },
    {
      "cell_type": "markdown",
      "metadata": {
        "id": "VVOG3t8Z9j3T"
      },
      "source": [
        "#### Separar \"Artists\" en distintas filas"
      ]
    },
    {
      "cell_type": "code",
      "execution_count": null,
      "metadata": {
        "id": "ZSBepIsmP7X1"
      },
      "outputs": [],
      "source": [
        "# Encontré esta fila posteriormente, \"Clifton Davins,\" estaba creando una fila más al hacer .split(), .explode() por tener una coma de más.\n",
        "df.loc[469650, 'artists'] = 'Vanessa Bell Armstrong, Sandra Crouch, Patti Austin, Daryl Coley, Commissioned, Clifton Davis, Bernie K., Andrae Crouch'"
      ]
    },
    {
      "cell_type": "code",
      "execution_count": null,
      "metadata": {
        "id": "WnlL-12c9qFD"
      },
      "outputs": [],
      "source": [
        "df['artists'] = df['artists'].str.split(r',|;')"
      ]
    },
    {
      "cell_type": "code",
      "execution_count": null,
      "metadata": {
        "id": "8mSEmHWM9vlc"
      },
      "outputs": [],
      "source": [
        "df = df.explode('artists').reset_index(drop=True)"
      ]
    },
    {
      "cell_type": "markdown",
      "metadata": {
        "id": "OjTmf0CIvzSJ"
      },
      "source": [
        "#### Separar \"genre\" en distintas filas"
      ]
    },
    {
      "cell_type": "code",
      "execution_count": null,
      "metadata": {
        "id": "-0YbJ3agv5Ix"
      },
      "outputs": [],
      "source": [
        "df['genre'] = df['genre'].str.split(\",\")"
      ]
    },
    {
      "cell_type": "code",
      "execution_count": null,
      "metadata": {
        "id": "t1ZPCDbV5vF9"
      },
      "outputs": [],
      "source": [
        "df = df.explode('genre').reset_index(drop=True)"
      ]
    },
    {
      "cell_type": "markdown",
      "metadata": {
        "id": "ZNxPk-xokdJ2"
      },
      "source": [
        "#### Eliminar espacios extras de columnas tipo object"
      ]
    },
    {
      "cell_type": "code",
      "execution_count": null,
      "metadata": {
        "id": "nTyRBql3kk-0"
      },
      "outputs": [],
      "source": [
        "for col in df.select_dtypes(include='object'):\n",
        "  if len(df[df[col].notna() & (df[col].str.strip() != df[col])]) != 0:\n",
        "    df[col] = df[col].str.strip()"
      ]
    },
    {
      "cell_type": "markdown",
      "metadata": {
        "id": "_M_k29Cf_VLn"
      },
      "source": [
        "#### Reemplazar strings vacios en 'artists'"
      ]
    },
    {
      "cell_type": "code",
      "execution_count": null,
      "metadata": {
        "id": "nQIYUDNo_ZQ4"
      },
      "outputs": [],
      "source": [
        "artists = ['Chhrmng,', 'Desconocido', 'Desconocido', 'Desconocido']\n",
        "for i, index in enumerate(df[df['artists'].apply(lambda x: x.strip() == '')].index):\n",
        "  df.loc[index, 'artists'] = artists[i]"
      ]
    },
    {
      "cell_type": "markdown",
      "metadata": {
        "id": "pdBI8qNUuB4g"
      },
      "source": [
        "#### Convertir a minúscula \"text\" y \"emotion\""
      ]
    },
    {
      "cell_type": "code",
      "execution_count": null,
      "metadata": {
        "id": "eM_c1QNL7BBm"
      },
      "outputs": [],
      "source": [
        "df['text'] = df['text'].str.lower()"
      ]
    },
    {
      "cell_type": "code",
      "execution_count": null,
      "metadata": {
        "id": "tpTdNGPa7HTv"
      },
      "outputs": [],
      "source": [
        "df['emotion'] = df['emotion'].str.lower()"
      ]
    },
    {
      "cell_type": "markdown",
      "metadata": {
        "id": "AflEoLI_B7XW"
      },
      "source": [
        "#### Convertir \"length\" a timedelta"
      ]
    },
    {
      "cell_type": "code",
      "execution_count": null,
      "metadata": {
        "id": "gZpEA98PXpIW"
      },
      "outputs": [],
      "source": [
        "df['length'] = df['length'].apply(lambda x: timedelta(minutes=int(x.split(':')[0]), seconds=int(x.split(':')[1])))"
      ]
    },
    {
      "cell_type": "markdown",
      "metadata": {
        "id": "TVS5-TDNCJ5B"
      },
      "source": [
        "#### Cambiar \"release_date\" a datetime"
      ]
    },
    {
      "cell_type": "code",
      "execution_count": null,
      "metadata": {
        "id": "FfQpNKNbXppZ"
      },
      "outputs": [],
      "source": [
        "df['release_date'] = pd.to_datetime(df['release_date'])"
      ]
    },
    {
      "cell_type": "markdown",
      "metadata": {
        "id": "WKzwoflwCW-0"
      },
      "source": [
        "#### Cambiar valores de \"explicit\" a tipo bool"
      ]
    },
    {
      "cell_type": "code",
      "execution_count": null,
      "metadata": {
        "id": "6v23s2n_XqGW"
      },
      "outputs": [],
      "source": [
        "df['explicit'] = df['explicit'].map({'Yes': True, 'No': False})"
      ]
    },
    {
      "cell_type": "markdown",
      "metadata": {
        "id": "ztKZQtEVC2Z-"
      },
      "source": [
        "#### Cambiar todos los valores binarios de todos los \"Good for\" a tipo bool"
      ]
    },
    {
      "cell_type": "code",
      "execution_count": null,
      "metadata": {
        "id": "ZzseLgLcXqmA"
      },
      "outputs": [],
      "source": [
        "for column in df.columns[21:30]:\n",
        "  df[column] = df[column].map({1: True, 0: False})"
      ]
    },
    {
      "cell_type": "code",
      "execution_count": null,
      "metadata": {
        "id": "I4hL2M43QMyB"
      },
      "outputs": [],
      "source": [
        "df = df.drop_duplicates()"
      ]
    },
    {
      "cell_type": "markdown",
      "metadata": {
        "id": "iNHPakNUEAyn"
      },
      "source": [
        "## **Filtrar outliers**"
      ]
    },
    {
      "cell_type": "code",
      "execution_count": null,
      "metadata": {
        "id": "spDJ6ypyEKtQ",
        "colab": {
          "base_uri": "https://localhost:8080/"
        },
        "outputId": "854da969-ec55-4cf5-f834-d92e78318247"
      },
      "outputs": [
        {
          "output_type": "execute_result",
          "data": {
            "text/plain": [
              "                          length         tempo   loudness_db\n",
              "count                    1005026  1.005026e+06  1.005026e+06\n",
              "mean   0 days 00:03:49.560608382  5.321303e-01  7.624414e-01\n",
              "min              0 days 00:00:05  0.000000e+00  0.000000e+00\n",
              "25%              0 days 00:03:02  3.905325e-01  7.287427e-01\n",
              "50%              0 days 00:03:38  5.266272e-01  7.785247e-01\n",
              "75%              0 days 00:04:20  6.449704e-01  8.123183e-01\n",
              "max              0 days 00:59:32  1.000000e+00  1.000000e+00\n",
              "std    0 days 00:01:32.628351743  1.726622e-01  7.320502e-02"
            ],
            "text/html": [
              "<div>\n",
              "<style scoped>\n",
              "    .dataframe tbody tr th:only-of-type {\n",
              "        vertical-align: middle;\n",
              "    }\n",
              "\n",
              "    .dataframe tbody tr th {\n",
              "        vertical-align: top;\n",
              "    }\n",
              "\n",
              "    .dataframe thead th {\n",
              "        text-align: right;\n",
              "    }\n",
              "</style>\n",
              "<table border=\"1\" class=\"dataframe\">\n",
              "  <thead>\n",
              "    <tr style=\"text-align: right;\">\n",
              "      <th></th>\n",
              "      <th>length</th>\n",
              "      <th>tempo</th>\n",
              "      <th>loudness_db</th>\n",
              "    </tr>\n",
              "  </thead>\n",
              "  <tbody>\n",
              "    <tr>\n",
              "      <th>count</th>\n",
              "      <td>1005026</td>\n",
              "      <td>1.005026e+06</td>\n",
              "      <td>1.005026e+06</td>\n",
              "    </tr>\n",
              "    <tr>\n",
              "      <th>mean</th>\n",
              "      <td>0 days 00:03:49.560608382</td>\n",
              "      <td>5.321303e-01</td>\n",
              "      <td>7.624414e-01</td>\n",
              "    </tr>\n",
              "    <tr>\n",
              "      <th>min</th>\n",
              "      <td>0 days 00:00:05</td>\n",
              "      <td>0.000000e+00</td>\n",
              "      <td>0.000000e+00</td>\n",
              "    </tr>\n",
              "    <tr>\n",
              "      <th>25%</th>\n",
              "      <td>0 days 00:03:02</td>\n",
              "      <td>3.905325e-01</td>\n",
              "      <td>7.287427e-01</td>\n",
              "    </tr>\n",
              "    <tr>\n",
              "      <th>50%</th>\n",
              "      <td>0 days 00:03:38</td>\n",
              "      <td>5.266272e-01</td>\n",
              "      <td>7.785247e-01</td>\n",
              "    </tr>\n",
              "    <tr>\n",
              "      <th>75%</th>\n",
              "      <td>0 days 00:04:20</td>\n",
              "      <td>6.449704e-01</td>\n",
              "      <td>8.123183e-01</td>\n",
              "    </tr>\n",
              "    <tr>\n",
              "      <th>max</th>\n",
              "      <td>0 days 00:59:32</td>\n",
              "      <td>1.000000e+00</td>\n",
              "      <td>1.000000e+00</td>\n",
              "    </tr>\n",
              "    <tr>\n",
              "      <th>std</th>\n",
              "      <td>0 days 00:01:32.628351743</td>\n",
              "      <td>1.726622e-01</td>\n",
              "      <td>7.320502e-02</td>\n",
              "    </tr>\n",
              "  </tbody>\n",
              "</table>\n",
              "</div>"
            ]
          },
          "metadata": {},
          "execution_count": 26
        }
      ],
      "source": [
        "desc = df.describe().loc[:, ['length', 'tempo', 'loudness_db']]\n",
        "desc"
      ]
    },
    {
      "cell_type": "code",
      "execution_count": null,
      "metadata": {
        "id": "0pm37d_9_wZX",
        "colab": {
          "base_uri": "https://localhost:8080/"
        },
        "outputId": "f4815566-e4cd-43ca-f982-a1a79f13afc0"
      },
      "outputs": [
        {
          "output_type": "execute_result",
          "data": {
            "text/plain": [
              "{'length': (Timedelta('0 days 00:01:05'), Timedelta('0 days 00:06:17')),\n",
              " 'tempo': (0.008875739700000052, 1.0266272188999999),\n",
              " 'loudness_db': (0.6033793605, 0.9376816860999999)}"
            ]
          },
          "metadata": {},
          "execution_count": 27
        }
      ],
      "source": [
        "bounds = {}\n",
        "\n",
        "for column in desc.columns:\n",
        "  Q1 = df[column].quantile(0.25)\n",
        "  Q3 = df[column].quantile(0.75)\n",
        "\n",
        "  IQR = Q3 - Q1\n",
        "\n",
        "  lower_bound = Q1 - 1.5 * IQR\n",
        "  upper_bound = Q3 + 1.5 * IQR\n",
        "\n",
        "  if df[column].min() < lower_bound or df[column].max() > upper_bound:\n",
        "    bounds[column] = lower_bound, upper_bound\n",
        "\n",
        "bounds"
      ]
    },
    {
      "cell_type": "code",
      "execution_count": null,
      "metadata": {
        "id": "8I4S9EMHz5oz",
        "colab": {
          "base_uri": "https://localhost:8080/"
        },
        "outputId": "4db96b3b-0567-416c-8528-f1d32f89033e"
      },
      "outputs": [
        {
          "output_type": "execute_result",
          "data": {
            "text/plain": [
              "80949"
            ]
          },
          "metadata": {},
          "execution_count": 28
        }
      ],
      "source": [
        "len(df[\n",
        "    (df['length'] <= bounds['length'][0]) |\n",
        "    (df['length'] >= bounds['length'][1]) |\n",
        "    (df['loudness_db'] <= bounds['loudness_db'][0]) |\n",
        "    (df['loudness_db'] >= bounds['loudness_db'][1])\n",
        "])"
      ]
    },
    {
      "cell_type": "markdown",
      "metadata": {
        "id": "U4M9y02wxfWo"
      },
      "source": [
        "Voy a dividir el estudio entre analisis con outliers y analisis sin outliers, ya que en base al análisis de los mismos determiné que probablemente sean valores reales en su gran mayoría y no algún tipo de error de lectura o escritura.\n",
        "\n",
        "Por otro lado, las columnas que presentan outliers no deberían interferír en las respuestas a las principales preguntas a contestar en este Análisis Exploratorio de los Datos, ya que estás apelan a la información en otras columnas.\n",
        "\n",
        "El doble análisis será, entonces, con el fin de desarrollar un modelo de machine learning de clasificación y comparar los resultados para el mismo modelo con y sin valores atípicos."
      ]
    },
    {
      "cell_type": "markdown",
      "metadata": {
        "id": "XIpozGtYEDhi"
      },
      "source": [
        "## Lidiar con NaNs"
      ]
    },
    {
      "cell_type": "code",
      "execution_count": null,
      "metadata": {
        "id": "RLEWssYDypXj",
        "colab": {
          "base_uri": "https://localhost:8080/"
        },
        "outputId": "b8dc4c79-6d49-4de2-8e8a-198bbe6f3cbc"
      },
      "outputs": [
        {
          "output_type": "execute_result",
          "data": {
            "text/plain": [
              "song                  41\n",
              "album                 99\n",
              "release_date      305092\n",
              "time_signature        13\n",
              "similar_song_1        35\n",
              "similar_song_2        23\n",
              "similar_song_3         6\n",
              "dtype: int64"
            ]
          },
          "metadata": {},
          "execution_count": 29
        }
      ],
      "source": [
        "df.isna().sum()[df.isna().sum() > 0]"
      ]
    },
    {
      "cell_type": "markdown",
      "source": [
        "### song / similar_song"
      ],
      "metadata": {
        "id": "suSadHlPU4p2"
      }
    },
    {
      "cell_type": "code",
      "source": [
        "def fill_values(name, song, columns):\n",
        "  for col_artist, col_song in columns:\n",
        "    rows = (df[col_artist].apply(lambda x: any(a in name for a in x.split(','))) & (df[col_song].isna()))\n",
        "    df.loc[rows, col_song] = song"
      ],
      "metadata": {
        "id": "l71qBPWA9q-f"
      },
      "execution_count": null,
      "outputs": []
    },
    {
      "cell_type": "code",
      "source": [
        "to_fill = {\n",
        "    'Dylan Frost': {\n",
        "        'name': \"Dylan Frost\",\n",
        "        'song': \"Velvet Diamonds\",\n",
        "        'columns': [('artists', 'song'), ('similar_artist_1', 'similar_song_1'), ('similar_artist_2', 'similar_song_2'), ('similar_artist_3', 'similar_song_3')]},\n",
        "\n",
        "    'Yxngxr1': {\n",
        "        'name': \"Yxngxr1\",\n",
        "        'song': \"Desconocido\",\n",
        "        'columns': [('similar_artist_1', 'similar_song_1'), ('similar_artist_2', 'similar_song_2'), ('similar_artist_3', 'similar_song_3')]},\n",
        "\n",
        "    'HOMESHAKE': {\n",
        "        'name': \"HOMESHAKE\",\n",
        "        'song': \"Believe\",\n",
        "        'columns': [('artists', 'song'), ('similar_artist_1', 'similar_song_1'), ('similar_artist_2', 'similar_song_2')]},\n",
        "\n",
        "    'RAP CON CLAVE,El Nano': {\n",
        "        'name': \"RAP CON CLAVE,El Nano\",\n",
        "        'song': \"Oshun con Clave\",\n",
        "        'columns': [('artists', 'song'), ('similar_artist_1', 'similar_song_1'), ('similar_artist_2', 'similar_song_2')]},\n",
        "\n",
        "    'RATKING,King Krule': {\n",
        "        'name': \"RATKING,King Krule\",\n",
        "        'song': \"So Sick Stories\",\n",
        "        'columns': [('artists', 'song'), ('similar_artist_1', 'similar_song_1'), ('similar_artist_2', 'similar_song_2')]},\n",
        "\n",
        "    'Skillibang,Aidonia,Najeeriii,6t6': {\n",
        "        'name': \"Skillibang,Aidonia,Najeeriii,6t6\",\n",
        "        'song': \"Desconocido\",\n",
        "        'columns': [('artists', 'song'), ('similar_artist_1', 'similar_song_1'), ('similar_artist_2', 'similar_song_2')]},\n",
        "\n",
        "    \"Stan Walker\": {\n",
        "        'name': 'Stan Walker',\n",
        "        'song': '\"He Kakano Ahau - Live\"',\n",
        "        'columns': [('artists', 'song'), ('similar_artist_2', 'similar_song_2'), ('similar_artist_3', 'similar_song_3')]},\n",
        "\n",
        "    \"Charles Mingus\": {\n",
        "        'name': \"Charles Mingus\",\n",
        "        'song': \"Moanin'\",\n",
        "        'columns': [('artists', 'song'), ('similar_artist_1', 'similar_song_1'), ('similar_artist_2', 'similar_song_2')]},\n",
        "\n",
        "    \"Miles Davis\": {\n",
        "        'name': \"Miles Davis\",\n",
        "        'song': 'Santana',\n",
        "        'columns': [('artists', 'song'), ('similar_artist_1', 'similar_song_1'), ('similar_artist_2', 'similar_song_2')]},\n",
        "\n",
        "    'john_eliot': {\n",
        "        'name': \"Christoph Willibald Gluck,Thomas Allen,John Aler,Nancy Argenta,Sophie Boulin,Lucinda Houghton,Jane Armstrong,Suzanne Flowers,Carol Hall,Nicola Jenkin,Jean Knibbs,Rachel Platt,Mary Seers,The Monteverdi Choir,Orchestre de l'Opéra de Lyon,John Eliot Gardiner\",\n",
        "        'song': \"Iphigénie en Tauride / Act 4: Scène 7. Récitatif. 'Ta soeur! qu'ai-je entendu?' - Air. 'Dans cet objet touchant' - Choeur final. 'Les Dieux, longtemps en courroux'\",\n",
        "        'columns': [('artists', 'song'), ('similar_artist_1', 'similar_song_1')]},\n",
        "\n",
        "    'Tally Hall': {\n",
        "        'name': \"Tally Hall\",\n",
        "        'song': \"Welcome to Tally Hall\",\n",
        "        'columns': [('artists', 'song'), ('similar_artist_2', 'similar_song_2')]},\n",
        "\n",
        "    'Pinegrove': {\n",
        "        'name': \"Pinegrove\",\n",
        "        'song': \"Need 2\",\n",
        "        'columns': [('artists', 'song'), ('similar_artist_1', 'similar_song_1')]},\n",
        "\n",
        "    \"JAZZY NANU\": {\n",
        "        'name': 'JAZZY NANU',\n",
        "        'song': 'BILLIE EILISH',\n",
        "        'columns': [('artists', 'song'), ('similar_artist_2', 'similar_song_2')]},\n",
        "\n",
        "    \"Gene Watson\": {\n",
        "        'name': 'Gene Watson',\n",
        "        'song': 'Fourteen Carat Mind',\n",
        "        'columns': [('artists', 'song'), ('similar_artist_1', 'similar_song_1')]},\n",
        "\n",
        "    \"Ramandeep Bawa's/Nazma Khan's\": {\n",
        "        'name': \"Ramandeep Bawa's,Nazma Khan's\",\n",
        "        'song': 'Desconocido',\n",
        "        'columns': [('artists', 'song')]}\n",
        "}"
      ],
      "metadata": {
        "id": "ynHl46aQ-Sfh"
      },
      "execution_count": null,
      "outputs": []
    },
    {
      "cell_type": "code",
      "source": [
        "for key, value in to_fill.items():\n",
        "  name = value.get('name').split(',')\n",
        "  song = value.get('song')\n",
        "  columns = value.get('columns')\n",
        "  fill_values(name, song, columns)"
      ],
      "metadata": {
        "id": "8viDQdqQQyqH"
      },
      "execution_count": null,
      "outputs": []
    },
    {
      "cell_type": "markdown",
      "metadata": {
        "id": "uMk28GV1zhxt"
      },
      "source": [
        "### album"
      ]
    },
    {
      "cell_type": "code",
      "source": [
        "to_fill_albums = {\n",
        "    'destroy_lonely': {\n",
        "        'name': \"Destroy Lonely\",\n",
        "        'album': \"ᐸ/3²\",\n",
        "        'columns': [('artists', 'album')]\n",
        "    },\n",
        "    'nayeon': {\n",
        "        'name': \"NAYEON\",\n",
        "        'album': \"Desconocido\",\n",
        "        'columns': [('artists', 'album')]\n",
        "    },\n",
        "    'meshuggah': {\n",
        "        'name': \"Meshuggah\",\n",
        "        'album': \"None\",\n",
        "        'columns': [('artists', 'album')]\n",
        "    },\n",
        "    'artms': {\n",
        "        'name': \"ARTMS\",\n",
        "        'album': \"Desconocido\",\n",
        "        'columns': [('artists', 'album')]\n",
        "    },\n",
        "    'jfth': {\n",
        "        'name': \"Jfth\",\n",
        "        'album': \"<|°_°|>\",\n",
        "        'columns': [('artists', 'album')]\n",
        "    },\n",
        "    'Gupi,Fraxiom,food house': {\n",
        "        'name': \"Gupi,Fraxiom,food house\",\n",
        "        'album': \"None\",\n",
        "        'columns': [('artists', 'album')]\n",
        "    }\n",
        "}"
      ],
      "metadata": {
        "id": "A2ARvGQFAc43"
      },
      "execution_count": null,
      "outputs": []
    },
    {
      "cell_type": "code",
      "source": [
        "for key, value in to_fill_albums.items():\n",
        "  name = value.get('name').split(',')\n",
        "  song = value.get('album')\n",
        "  columns = value.get('columns')\n",
        "  fill_values(name, song, columns)"
      ],
      "metadata": {
        "id": "j2UzGnuc5aeD"
      },
      "execution_count": null,
      "outputs": []
    },
    {
      "cell_type": "code",
      "execution_count": null,
      "metadata": {
        "id": "BISPk6c77Phb"
      },
      "outputs": [],
      "source": [
        "# Filtrar filas\n",
        "caravan_palace = (df['artists'] == 'Caravan Palace') & (df['album'].isna()) & (df['song'] != 'Im In Trouble')\n",
        "\n",
        "# Asignar valores\n",
        "df.loc[caravan_palace, 'album'] = '<|°_°|>'\n",
        "df.loc[df['song'] == 'Im In Trouble', 'album'] = 'Desconocido'"
      ]
    },
    {
      "cell_type": "code",
      "execution_count": null,
      "metadata": {
        "id": "LchpHU7I1olN"
      },
      "outputs": [],
      "source": [
        "# Asignar valores\n",
        "df.loc[(df['artists'] == \"WILLOW\") & (df['song'] == 'Maybe'), 'album'] = 'Coping Mechanism'\n",
        "df.loc[(df['artists'] == \"WILLOW\") & (df['song'] == 'IM NOT OKAY I PROMISE'), 'album'] = 'Desconocido'"
      ]
    },
    {
      "cell_type": "markdown",
      "metadata": {
        "id": "K2vzsj6Dzjds"
      },
      "source": [
        "### release_date"
      ]
    },
    {
      "cell_type": "markdown",
      "source": [
        "Dado el volumen de dataset y el límite de acceso por periodo de tiempo (alrededor de 22hs. de espera por vez), a la API, decidí imputar fechas de lanzamiento según pares 'artists'-'album', asumiendo coherencia temporal dentro de cada álbum, reduciendo significativamente el volumen de llamadas necesarias y manteniendo precisión contextual."
      ],
      "metadata": {
        "id": "jEY0omzz2lZl"
      }
    },
    {
      "cell_type": "markdown",
      "metadata": {
        "id": "YU7HYg2ZSDaH"
      },
      "source": [
        "El sentido del par 'artists'-'album', está dado por la necesidad de diferenciar albumes que compartan nombre pero no así artista."
      ]
    },
    {
      "cell_type": "markdown",
      "source": [
        "#### Completar con valores existentes en el DF"
      ],
      "metadata": {
        "id": "g7oVPs9ANgOr"
      }
    },
    {
      "cell_type": "code",
      "execution_count": null,
      "metadata": {
        "id": "YxsnTZMKbXjS"
      },
      "outputs": [],
      "source": [
        "# Creo un DF con las filas donde 'release_date' no sea NaN\n",
        "release_dates = df[df['release_date'].notna()]\n",
        "\n",
        "# Agrupar DataFrame por 'artists' y 'album' y acceder a la columna 'release_date'\n",
        "release_dates = release_dates.groupby(['artists', 'album'])['release_date']\n",
        "\n",
        "# Me quedo con el primer valor de cada grupo para 'release_date'\n",
        "release_dates = release_dates.first()\n",
        "\n",
        "# Transformo el Series a un DataFrame\n",
        "release_dates = release_dates.reset_index()"
      ]
    },
    {
      "cell_type": "code",
      "execution_count": null,
      "metadata": {
        "id": "ZvBNgnsOjQLe"
      },
      "outputs": [],
      "source": [
        "# Obtener, para todas las filas donde 'release_date' sea NaN, coincidencias entre ('artists', 'album') con el DataFrame con los valores faltantes para cada caso\n",
        "matches = df[df['release_date'].isna()].merge(release_dates, on=['artists', 'album'], how='left', suffixes=('', '_filled'))\n",
        "\n",
        "# Reemplazar 'release_date' por 'release_date_filled'\n",
        "matches['release_date'] = matches['release_date_filled']\n",
        "\n",
        "# Eliminar 'realease_date_filled'\n",
        "matches = matches.drop(columns='release_date_filled')"
      ]
    },
    {
      "cell_type": "code",
      "execution_count": null,
      "metadata": {
        "id": "jor5HDmtTKi-"
      },
      "outputs": [],
      "source": [
        "df.loc[df['release_date'].isna(), 'release_date'] = matches['release_date']"
      ]
    },
    {
      "cell_type": "markdown",
      "metadata": {
        "id": "w5SoKqkwgWBi"
      },
      "source": [
        "#### Completar con valores obtenidos de la API de Spotify"
      ]
    },
    {
      "cell_type": "markdown",
      "source": [
        "##### Crear excepción para detener la ejecución del programa de forma limpia al alcanzar el límite de peticiones a la API de Spotify"
      ],
      "metadata": {
        "id": "ft5bMKfT78PP"
      }
    },
    {
      "cell_type": "code",
      "execution_count": null,
      "metadata": {
        "id": "qC3GO5P_WcPH"
      },
      "outputs": [],
      "source": [
        "# Crear exception personalizada\n",
        "class RateLimitReached(Exception):\n",
        "  pass\n",
        "\n",
        "# Crear Handler personalizado\n",
        "class RateLimitHandler(logging.Handler):\n",
        "\n",
        "  # Método para procesar y manejar cada mensaje de log\n",
        "  def emit(self, record):\n",
        "\n",
        "    # Obtener mensaje del log\n",
        "    msg = record.getMessage()\n",
        "\n",
        "    # Verificar si el mensaje es el que buscamos\n",
        "    if \"your application has reached a rate/request limit\" in msg.lower():\n",
        "\n",
        "      # Establecer mensaje a mostrar y detener la ejecución del código\n",
        "      match = re.search(r\"after: (\\d+)\", msg)\n",
        "      if match:\n",
        "        retry_seconds = int(match.group(1))\n",
        "        hours = retry_seconds // 3600\n",
        "        minutes = (retry_seconds % 3600) // 60\n",
        "        raise RateLimitReached(f\"Se alcanzó el límite de peticiones. Volver a ejecutar después de {hours}h. {minutes}min.\")\n",
        "\n",
        "# Obtener logger principal\n",
        "logger = logging.getLogger()\n",
        "\n",
        "# Evitar que se imprima el WARNING original\n",
        "logger.propagate = False\n",
        "\n",
        "# Agregar handler personalizado\n",
        "logger.addHandler(RateLimitHandler())\n",
        "\n",
        "# Configurar solo para mensjes tipo WARNING o superior\n",
        "logger.setLevel(logging.WARNING)"
      ]
    },
    {
      "cell_type": "markdown",
      "source": [
        "##### Crear función para cargar/crear diccionario con fechas faltantes"
      ],
      "metadata": {
        "id": "tylUYl7d8ItJ"
      }
    },
    {
      "cell_type": "code",
      "execution_count": null,
      "metadata": {
        "collapsed": true,
        "id": "DEBxBLgfgYfH"
      },
      "outputs": [],
      "source": [
        "def get_album_release_date(df, client_id, client_secret, release_dates_data, empty_dates, cache_file='release_dates_cache.json'):\n",
        "\n",
        "  def get_album_date(artist, album, retries=3, delay=1):\n",
        "\n",
        "    for attempt in range(retries):\n",
        "      try:\n",
        "\n",
        "        query = f\"album:{album} artist:{artist}\"\n",
        "        results = sp.search(query, type='album', limit=1)\n",
        "\n",
        "        items = results['albums']['items']\n",
        "        if items:\n",
        "          return items[0]['release_date']\n",
        "        return None\n",
        "\n",
        "      except (RequestException, SpotifyException) as e:\n",
        "\n",
        "        if isinstance(e, SpotifyException) and e.http_status == 429:\n",
        "\n",
        "          retry_after = int(e.headers.get(\"Retry-After\", 0))\n",
        "          horas = retry_after // 3600\n",
        "          minutos = (retry_after % 3600) // 60\n",
        "          clear_output(wait=True)\n",
        "          raise RateLimitReached(f\"Se alcanzó el límite de peticiones. Volver a ejecutar después de {hours}h. {minutes}min.\")\n",
        "\n",
        "\n",
        "        else:\n",
        "          clear_output(wait=True)\n",
        "          print(f\"Error in the request ({e}). Retrying ({attempt+1}/{retries})...\")\n",
        "          time.sleep(delay)\n",
        "\n",
        "    return None\n",
        "\n",
        "  auth_manager = SpotifyClientCredentials(client_id=client_id, client_secret=client_secret)\n",
        "  sp = spotipy.Spotify(auth_manager=auth_manager)\n",
        "\n",
        "  count = 0\n",
        "  for i, row in empty_dates.iterrows():\n",
        "    key = f\"{row['artists']}||{row['album']}\"\n",
        "\n",
        "    if key not in release_dates_data:\n",
        "      count += 1\n",
        "      release_dates_data[key] = get_album_date(row['artists'], row['album'])\n",
        "\n",
        "      with open(cache_file, 'w', encoding='utf-8')as f:\n",
        "        json.dump(release_dates_data, f, ensure_ascii=False, indent=2)\n",
        "\n",
        "      time.sleep(0.1)\n",
        "\n",
        "    if count % 1000 == 0 and count != 0:\n",
        "      clear_output(wait=True)\n",
        "      print(f\"Procesados {count} albumes...\")\n",
        "\n",
        "  return release_dates_data"
      ]
    },
    {
      "cell_type": "markdown",
      "source": [
        "##### Cargar/crear/completar diccionario con fechas faltantes"
      ],
      "metadata": {
        "id": "TjCwtMOG8QAw"
      }
    },
    {
      "cell_type": "code",
      "execution_count": null,
      "metadata": {
        "id": "Ll-XXwD-5QYT",
        "colab": {
          "base_uri": "https://localhost:8080/"
        },
        "outputId": "6b311498-765c-471c-fa5d-1ff704cf09c4"
      },
      "outputs": [
        {
          "output_type": "stream",
          "name": "stdout",
          "text": [
            "El archivo ya ha sido completado\n",
            "Cargados: 85407/85407 albumes\n"
          ]
        }
      ],
      "source": [
        "client_id = ''\n",
        "client_secret = ''\n",
        "empty_dates = df[df['release_date'].isna()][['artists', 'album']].drop_duplicates()\n",
        "\n",
        "try:\n",
        "  with open('release_dates_cache.json', 'r', encoding='utf-8') as f:\n",
        "     release_dates_data = json.load(f)\n",
        "\n",
        "except FileNotFoundError:\n",
        "  release_dates_data = {}\n",
        "\n",
        "try:\n",
        "  if len(release_dates_data) != len(empty_dates):\n",
        "    release_dates_data = get_album_release_date(df, client_id, client_secret, release_dates_data, empty_dates)\n",
        "  else:\n",
        "    print(\"El archivo ya ha sido completado\")\n",
        "\n",
        "except RateLimitReached as rlt:\n",
        "  print(rlt)\n",
        "\n",
        "\n",
        "print(f\"Cargados: {len(release_dates_data)}/{len(empty_dates)} albumes\")"
      ]
    },
    {
      "cell_type": "markdown",
      "source": [
        "##### Crear DataFrame con fechas faltantes"
      ],
      "metadata": {
        "id": "QwGxgXp-9Do-"
      }
    },
    {
      "cell_type": "code",
      "execution_count": null,
      "metadata": {
        "collapsed": true,
        "id": "5o4hT-k8ZN4o"
      },
      "outputs": [],
      "source": [
        "rows = [(*key.split(\"||\", maxsplit=1), value) for key, value in release_dates_data.items()]\n",
        "\n",
        "release_dates_df = pd.DataFrame(rows, columns=['artists', 'album', 'release_date'])"
      ]
    },
    {
      "cell_type": "markdown",
      "source": [
        "##### Limpiar DataFrame con fechas faltantes"
      ],
      "metadata": {
        "id": "5EGiCsk3k0ss"
      }
    },
    {
      "cell_type": "markdown",
      "source": [
        "###### Corregir valores en el año 0000"
      ],
      "metadata": {
        "id": "l-yDTrid9UkK"
      }
    },
    {
      "cell_type": "code",
      "source": [
        "año_cero = release_dates_df['release_date'] == '0000'\n",
        "release_dates_df.loc[año_cero, 'release_date'] = None"
      ],
      "metadata": {
        "id": "Z_RNk1oFmflw"
      },
      "execution_count": null,
      "outputs": []
    },
    {
      "cell_type": "markdown",
      "source": [
        "###### Asignar valores de mes y día promedio a las fechas que solo cuentan con el año de publicación"
      ],
      "metadata": {
        "id": "CPa6SRUp9dcx"
      }
    },
    {
      "cell_type": "code",
      "source": [
        "years = release_dates_df[release_dates_df['release_date'].str.len() < 5].sort_values(by='release_date')['release_date'].unique()\n",
        "\n",
        "for year in years:\n",
        "  mean_date = df[df['release_date'].dt.year == int(year)]['release_date'].mean().to_pydatetime()\n",
        "\n",
        "  release_dates_df.loc[release_dates_df['release_date'] == year, 'release_date'] = mean_date"
      ],
      "metadata": {
        "id": "IiHoBBUJkwPS",
        "colab": {
          "base_uri": "https://localhost:8080/"
        },
        "outputId": "0e273ea1-40de-493e-f9bd-0d85f9baadb6"
      },
      "execution_count": null,
      "outputs": [
        {
          "output_type": "stream",
          "name": "stderr",
          "text": [
            "C:\\Users\\facun\\AppData\\Local\\Temp\\ipykernel_20120\\98120455.py:4: UserWarning: Discarding nonzero nanoseconds in conversion.\n",
            "  mean_date = df[df['release_date'].dt.year == int(year)]['release_date'].mean().to_pydatetime()\n"
          ]
        }
      ]
    },
    {
      "cell_type": "markdown",
      "source": [
        "###### Asignar valor por defecto a las fechas que solo cuentan con año y mes de publicación"
      ],
      "metadata": {
        "id": "DWnPQB1_9nbs"
      }
    },
    {
      "cell_type": "code",
      "source": [
        "year_month = release_dates_df['release_date'].str.len() < 8\n",
        "release_dates_df.loc[year_month, 'release_date'] = release_dates_df.loc[year_month, 'release_date'] + '-01'"
      ],
      "metadata": {
        "id": "IrF7jw453Qyv"
      },
      "execution_count": null,
      "outputs": []
    },
    {
      "cell_type": "markdown",
      "source": [
        "###### Transformar columna 'release_date' a tipo datetime, y normalizar horario a 00:00:00"
      ],
      "metadata": {
        "id": "0cO2Uvzk9tya"
      }
    },
    {
      "cell_type": "code",
      "source": [
        "release_dates_df['release_date'] = pd.to_datetime(release_dates_df['release_date'])\n",
        "release_dates_df['release_date'] = release_dates_df['release_date'].dt.normalize()"
      ],
      "metadata": {
        "id": "jVjBEjbZyuio"
      },
      "execution_count": null,
      "outputs": []
    },
    {
      "cell_type": "markdown",
      "source": [
        "##### Asignar nuevas fechas a los valores faltantes"
      ],
      "metadata": {
        "id": "q4TqgCJG98Uu"
      }
    },
    {
      "cell_type": "code",
      "source": [
        "# Obtener, para todas las filas donde 'release_date' sea NaN, coincidencias entre ('artists', 'album') con el DataFrame con los valores faltantes para cada caso.\n",
        "matches = df[df['release_date'].isna()].merge(release_dates_df, on=['artists', 'album'], how='left', suffixes=('', '_filled'))\n",
        "\n",
        "# Reemplazar 'release_date' por 'release_date_filled'\n",
        "matches['release_date'] = matches['release_date_filled']\n",
        "\n",
        "# Reemplazar los índices en matches, por los índices originales de las filas en df\n",
        "matches.index = df[df['release_date'].isna()].index\n",
        "\n",
        "# Eliminar 'realease_date_filled'\n",
        "matches = matches.drop(columns='release_date_filled')"
      ],
      "metadata": {
        "id": "SRIMzavYHJQ-"
      },
      "execution_count": null,
      "outputs": []
    },
    {
      "cell_type": "code",
      "source": [
        "df.loc[matches.index, 'release_date'] = matches['release_date']"
      ],
      "metadata": {
        "id": "pYQdz7beI3CC"
      },
      "execution_count": null,
      "outputs": []
    },
    {
      "cell_type": "code",
      "source": [
        "# Llenar las últimas filas NaT con una fecha equivalente a un valor \"Desconocido\"\n",
        "df['release_date'] = df['release_date'].fillna(pd.Timestamp('1700-01-01'))"
      ],
      "metadata": {
        "id": "4370meejLL-4"
      },
      "execution_count": null,
      "outputs": []
    },
    {
      "cell_type": "markdown",
      "metadata": {
        "id": "GWdDY4UHzlfX"
      },
      "source": [
        "### time_signature"
      ]
    },
    {
      "cell_type": "code",
      "source": [
        "# Aislar géneros únicos de filas donde 'time_signature' es NaN\n",
        "missing_time_signatures = df[df['time_signature'].isna()]['genre'].unique()\n",
        "\n",
        "# A cada fila donde 'time_signature' es NaN, asignar para cada género el valor de time signature más frecuente\n",
        "for genre in missing_time_signatures:\n",
        "  df.loc[(df['time_signature'].isna()) & (df['genre'] == genre), 'time_signature'] = df[df['genre'] == genre]['time_signature'].value_counts().index[0]"
      ],
      "metadata": {
        "id": "b6qRz_SlPUej"
      },
      "execution_count": null,
      "outputs": []
    },
    {
      "cell_type": "markdown",
      "metadata": {
        "id": "qnRtfa70EGiF"
      },
      "source": [
        "## Validar nuestros datos"
      ]
    },
    {
      "cell_type": "code",
      "execution_count": null,
      "metadata": {
        "id": "ruhnwaQhEO_A",
        "colab": {
          "base_uri": "https://localhost:8080/"
        },
        "outputId": "459dab83-8bb0-4924-b21e-4574a10ec1f1"
      },
      "outputs": [
        {
          "output_type": "stream",
          "name": "stdout",
          "text": [
            "<class 'pandas.core.frame.DataFrame'>\n",
            "Index: 1005026 entries, 0 to 1005087\n",
            "Data columns (total 39 columns):\n",
            " #   Column                          Non-Null Count    Dtype          \n",
            "---  ------                          --------------    -----          \n",
            " 0   artists                         1005026 non-null  object         \n",
            " 1   song                            1005026 non-null  object         \n",
            " 2   text                            1005026 non-null  object         \n",
            " 3   length                          1005026 non-null  timedelta64[ns]\n",
            " 4   emotion                         1005026 non-null  object         \n",
            " 5   genre                           1005026 non-null  object         \n",
            " 6   album                           1005026 non-null  object         \n",
            " 7   release_date                    1005026 non-null  datetime64[ns] \n",
            " 8   key                             1005026 non-null  object         \n",
            " 9   tempo                           1005026 non-null  float64        \n",
            " 10  loudness_db                     1005026 non-null  float64        \n",
            " 11  time_signature                  1005026 non-null  object         \n",
            " 12  explicit                        1005026 non-null  bool           \n",
            " 13  popularity                      1005026 non-null  int64          \n",
            " 14  energy                          1005026 non-null  int64          \n",
            " 15  danceability                    1005026 non-null  int64          \n",
            " 16  positiveness                    1005026 non-null  int64          \n",
            " 17  speechiness                     1005026 non-null  int64          \n",
            " 18  liveness                        1005026 non-null  int64          \n",
            " 19  acousticness                    1005026 non-null  int64          \n",
            " 20  instrumentalness                1005026 non-null  int64          \n",
            " 21  good_for_party                  1005026 non-null  bool           \n",
            " 22  good_for_work_study             1005026 non-null  bool           \n",
            " 23  good_for_relaxation_meditation  1005026 non-null  bool           \n",
            " 24  good_for_exercise               1005026 non-null  bool           \n",
            " 25  good_for_running                1005026 non-null  bool           \n",
            " 26  good_for_yoga_stretching        1005026 non-null  bool           \n",
            " 27  good_for_driving                1005026 non-null  bool           \n",
            " 28  good_for_social_gatherings      1005026 non-null  bool           \n",
            " 29  good_for_morning_routine        1005026 non-null  bool           \n",
            " 30  similar_artist_1                1005026 non-null  object         \n",
            " 31  similar_song_1                  1005026 non-null  object         \n",
            " 32  similarity_score_1              1005026 non-null  float64        \n",
            " 33  similar_artist_2                1005026 non-null  object         \n",
            " 34  similar_song_2                  1005026 non-null  object         \n",
            " 35  similarity_score_2              1005026 non-null  float64        \n",
            " 36  similar_artist_3                1005026 non-null  object         \n",
            " 37  similar_song_3                  1005026 non-null  object         \n",
            " 38  similarity_score_3              1005026 non-null  float64        \n",
            "dtypes: bool(10), datetime64[ns](1), float64(5), int64(8), object(14), timedelta64[ns](1)\n",
            "memory usage: 271.9+ MB\n"
          ]
        }
      ],
      "source": [
        "df.info()"
      ]
    },
    {
      "cell_type": "code",
      "source": [
        "df.duplicated().any()"
      ],
      "metadata": {
        "id": "pOVAbemM0Wjv",
        "colab": {
          "base_uri": "https://localhost:8080/"
        },
        "outputId": "b26a5a42-d5e0-49a8-cc9c-655adae1aa0f"
      },
      "execution_count": null,
      "outputs": [
        {
          "output_type": "execute_result",
          "data": {
            "text/plain": [
              "False"
            ]
          },
          "metadata": {},
          "execution_count": 53
        }
      ]
    },
    {
      "cell_type": "code",
      "source": [
        "df.isna().any()"
      ],
      "metadata": {
        "id": "Yt1DHLbH0ckt",
        "colab": {
          "base_uri": "https://localhost:8080/"
        },
        "outputId": "27596bb2-b603-4cea-bc4b-3c5c965b76ca"
      },
      "execution_count": null,
      "outputs": [
        {
          "output_type": "execute_result",
          "data": {
            "text/plain": [
              "artists                           False\n",
              "song                              False\n",
              "text                              False\n",
              "length                            False\n",
              "emotion                           False\n",
              "genre                             False\n",
              "album                             False\n",
              "release_date                      False\n",
              "key                               False\n",
              "tempo                             False\n",
              "loudness_db                       False\n",
              "time_signature                    False\n",
              "explicit                          False\n",
              "popularity                        False\n",
              "energy                            False\n",
              "danceability                      False\n",
              "positiveness                      False\n",
              "speechiness                       False\n",
              "liveness                          False\n",
              "acousticness                      False\n",
              "instrumentalness                  False\n",
              "good_for_party                    False\n",
              "good_for_work_study               False\n",
              "good_for_relaxation_meditation    False\n",
              "good_for_exercise                 False\n",
              "good_for_running                  False\n",
              "good_for_yoga_stretching          False\n",
              "good_for_driving                  False\n",
              "good_for_social_gatherings        False\n",
              "good_for_morning_routine          False\n",
              "similar_artist_1                  False\n",
              "similar_song_1                    False\n",
              "similarity_score_1                False\n",
              "similar_artist_2                  False\n",
              "similar_song_2                    False\n",
              "similarity_score_2                False\n",
              "similar_artist_3                  False\n",
              "similar_song_3                    False\n",
              "similarity_score_3                False\n",
              "dtype: bool"
            ]
          },
          "metadata": {},
          "execution_count": 54
        }
      ]
    },
    {
      "cell_type": "markdown",
      "metadata": {
        "id": "_sE9IVGTEJdx"
      },
      "source": [
        "# EDA"
      ]
    },
    {
      "cell_type": "code",
      "source": [
        "# Definir un DataFrame con filas únicas para cada canción\n",
        "unique_df = df.drop_duplicates(subset=df.columns.difference(['artists', 'genre']))\n",
        "\n",
        "# Definir un DataFrame con distintas filas por cada género de una canción\n",
        "genre_df = df.drop_duplicates(subset=df.columns.difference(['genre']))\n",
        "\n",
        "# Definir un DataFrame con distintas filas por cada artista de una canción\n",
        "artists_df = df.drop_duplicates(subset=df.columns.difference(['artists']))"
      ],
      "metadata": {
        "id": "NeE6HbAGUXF1"
      },
      "execution_count": null,
      "outputs": []
    },
    {
      "cell_type": "code",
      "source": [
        "def get_top(dataframe, column, filter, new_column, qualities, limit, filters):\n",
        "  top = dataframe[dataframe[column] == filter].copy()\n",
        "  top[new_column] = top[qualities].mean(axis=1)\n",
        "  return top[filters].sort_values(by=new_column, ascending=False).head(limit)"
      ],
      "metadata": {
        "id": "64eZ-g86alQu"
      },
      "execution_count": null,
      "outputs": []
    },
    {
      "cell_type": "markdown",
      "metadata": {
        "id": "TuLanbS5EQfK"
      },
      "source": [
        "## ¿Cual es el top 10 de las canciones que generan mejor flow?"
      ]
    },
    {
      "cell_type": "markdown",
      "source": [
        "Entendiendo \"flow\" como una suma entre la positividad y bailabilidad de una canción que transmite alegría."
      ],
      "metadata": {
        "id": "2OeTbxnuLpgH"
      }
    },
    {
      "cell_type": "code",
      "execution_count": null,
      "metadata": {
        "id": "SADN8VMqBrCc",
        "colab": {
          "base_uri": "https://localhost:8080/"
        },
        "outputId": "990ff745-3174-4497-c176-ddaafc4215d8"
      },
      "outputs": [
        {
          "output_type": "display_data",
          "data": {
            "text/plain": [
              "<Figure size 1000x500 with 1 Axes>"
            ],
            "image/png": "[encoded data removed]"
          },
          "metadata": {}
        }
      ],
      "source": [
        "# Data\n",
        "songs_top_flow = get_top(unique_df, 'emotion', 'joy', 'flow', ['danceability', 'positiveness'], 10, ['song', 'flow'])\n",
        "\n",
        "# Figura\n",
        "fig = plt.figure(figsize=(10, 5))\n",
        "\n",
        "plt.bar(songs_top_flow['song'],\n",
        "        songs_top_flow['flow'],\n",
        "        edgecolor='black')\n",
        "\n",
        "plt.title('Top 10 canciones con más flow')\n",
        "plt.ylabel('Cantidad de flow(95 - 100)')\n",
        "plt.xticks(rotation=-45,\n",
        "           horizontalalignment='left')\n",
        "\n",
        "plt.ylim(95, 100)\n",
        "\n",
        "\n",
        "plt.show()"
      ]
    },
    {
      "cell_type": "markdown",
      "metadata": {
        "id": "E_J2uiLsAvN_"
      },
      "source": [
        "## ¿Que artista es el que transmite más flow?"
      ]
    },
    {
      "cell_type": "code",
      "source": [
        "# Data\n",
        "artist_top_flow = artists_df[artists_df['emotion'] == 'joy'].groupby('artists')[['danceability', 'positiveness']].sum()\n",
        "artist_top_flow['flow'] = artist_top_flow[['danceability', 'positiveness']].mean(axis=1)\n",
        "artist_top_flow = artist_top_flow.sort_values(by='flow', ascending=False).head(5)\n",
        "\n",
        "# Figura\n",
        "fig = plt.figure(figsize=(10, 5))\n",
        "\n",
        "plt.bar(artist_top_flow.index,\n",
        "        artist_top_flow['flow'],\n",
        "        edgecolor='black')\n",
        "\n",
        "plt.title('Artista que transmite más flow')\n",
        "plt.ylabel('Cantidad de flow')\n",
        "\n",
        "plt.show()"
      ],
      "metadata": {
        "id": "N3g0t8DPQzNi",
        "colab": {
          "base_uri": "https://localhost:8080/"
        },
        "outputId": "fe000f05-ca5c-41e5-87ff-4b204a0ec7ea"
      },
      "execution_count": null,
      "outputs": [
        {
          "output_type": "display_data",
          "data": {
            "text/plain": [
              "<Figure size 1000x500 with 1 Axes>"
            ],
            "image/png": "[encoded data removed]"
          },
          "metadata": {}
        }
      ]
    },
    {
      "cell_type": "code",
      "source": [],
      "metadata": {
        "id": "YMnnfee4MHPw"
      },
      "execution_count": null,
      "outputs": []
    },
    {
      "cell_type": "markdown",
      "metadata": {
        "id": "uLolQcVoAzTN"
      },
      "source": [
        "## Clasifica el top 3 de canciones según estas categorías:"
      ]
    },
    {
      "cell_type": "markdown",
      "metadata": {
        "id": "X8eB8NHzA4Tp"
      },
      "source": [
        "### Fiesta"
      ]
    },
    {
      "cell_type": "code",
      "execution_count": null,
      "metadata": {
        "id": "U1NbRIoCBAev",
        "colab": {
          "base_uri": "https://localhost:8080/"
        },
        "outputId": "e594693c-b2d1-4504-e41d-8951fc5207ba"
      },
      "outputs": [
        {
          "output_type": "display_data",
          "data": {
            "text/plain": [
              "<Figure size 1000x500 with 1 Axes>"
            ],
            "image/png": "[encoded data removed]"
          },
          "metadata": {}
        }
      ],
      "source": [
        "# Data\n",
        "party_songs = get_top(unique_df, 'good_for_party', True, 'party', ['popularity', 'energy', 'danceability'], 3, ['song', 'party'])\n",
        "\n",
        "# figura\n",
        "fig = plt.figure(figsize=(10, 5))\n",
        "\n",
        "plt.bar(party_songs['song'],\n",
        "        party_songs['party'],\n",
        "        edgecolor='black')\n",
        "\n",
        "plt.title('Top 3 canciones para fiestas')\n",
        "plt.ylabel('Grado de adecuación para fiestas(90 - 94)')\n",
        "plt.ylim(90, 94)\n",
        "\n",
        "\n",
        "plt.show()"
      ]
    },
    {
      "cell_type": "markdown",
      "metadata": {
        "id": "pJX-Zn6QA5tz"
      },
      "source": [
        "### Trabajo"
      ]
    },
    {
      "cell_type": "markdown",
      "source": [
        "Suponiendo que adecuado para el trabajo sea una combinación de positividad, de canciones instrumentales acústicas, donde una voz no pueda distraer a la persona."
      ],
      "metadata": {
        "id": "wk3-qgIOqCn7"
      }
    },
    {
      "cell_type": "code",
      "execution_count": null,
      "metadata": {
        "id": "ioEGqHzJBAp7",
        "colab": {
          "base_uri": "https://localhost:8080/"
        },
        "outputId": "a0d893c6-6b99-4d83-f382-7f3b30d1c0bc"
      },
      "outputs": [
        {
          "output_type": "display_data",
          "data": {
            "text/plain": [
              "<Figure size 1000x500 with 1 Axes>"
            ],
            "image/png": "[encoded data removed]"
          },
          "metadata": {}
        }
      ],
      "source": [
        "# Data\n",
        "work_songs = get_top(unique_df, 'good_for_work_study', True, 'work', ['positiveness', 'acousticness', 'instrumentalness'], 3, ['song', 'work'])\n",
        "\n",
        "# Figura\n",
        "fig = plt.figure(figsize=(10, 5))\n",
        "\n",
        "plt.bar(work_songs['song'],\n",
        "        work_songs['work'],\n",
        "        edgecolor='black')\n",
        "\n",
        "plt.title('Top 3 canciones para trabajar')\n",
        "plt.ylabel('Grado de adecución para trabajar (95 - 100)')\n",
        "plt.ylim(95, 100)\n",
        "\n",
        "plt.show()"
      ]
    },
    {
      "cell_type": "markdown",
      "metadata": {
        "id": "86pmoOatA7Pt"
      },
      "source": [
        "### Ejercicio"
      ]
    },
    {
      "cell_type": "code",
      "execution_count": null,
      "metadata": {
        "id": "u-y_Z2Y3BA1Q",
        "colab": {
          "base_uri": "https://localhost:8080/"
        },
        "outputId": "509a4aa5-a6b1-48d2-df4f-9285199bd0ca"
      },
      "outputs": [
        {
          "output_type": "display_data",
          "data": {
            "text/plain": [
              "<Figure size 1000x500 with 1 Axes>"
            ],
            "image/png": "[encoded data removed]"
          },
          "metadata": {}
        }
      ],
      "source": [
        "# Data\n",
        "work_out_songs = get_top(unique_df, 'good_for_exercise', True, 'work_out', ['energy', 'speechiness'], 3, ['song', 'work_out'])\n",
        "\n",
        "# Figura\n",
        "fig = plt.figure(figsize=(10, 5))\n",
        "\n",
        "plt.bar(work_out_songs['song'],\n",
        "        work_out_songs['work_out'],\n",
        "        edgecolor='black')\n",
        "\n",
        "plt.title('Top 3 canciones para ejercitar')\n",
        "plt.ylabel('Grado de adecuación para ejercitar (80, 95)')\n",
        "plt.ylim(80, 95)\n",
        "\n",
        "plt.show()"
      ]
    },
    {
      "cell_type": "markdown",
      "metadata": {
        "id": "GO8O2aCbA85y"
      },
      "source": [
        "### Relajación"
      ]
    },
    {
      "cell_type": "code",
      "execution_count": null,
      "metadata": {
        "id": "ZUQDi1WWBBNY",
        "colab": {
          "base_uri": "https://localhost:8080/"
        },
        "outputId": "b36ae391-8bc3-4855-e401-29a7261b3e8a"
      },
      "outputs": [
        {
          "output_type": "display_data",
          "data": {
            "text/plain": [
              "<Figure size 1000x500 with 1 Axes>"
            ],
            "image/png": "[encoded data removed]"
          },
          "metadata": {}
        }
      ],
      "source": [
        "# Data\n",
        "relax_songs = get_top(unique_df, 'good_for_relaxation_meditation', True, 'relax', ['acousticness', 'instrumentalness'], 3, ['song', 'relax'])\n",
        "\n",
        "# Figura\n",
        "fig = plt.figure(figsize=(10, 5))\n",
        "\n",
        "plt.bar(relax_songs['song'],\n",
        "        relax_songs['relax'],\n",
        "        edgecolor='black')\n",
        "\n",
        "plt.title('Top 3 canciones para relajación')\n",
        "plt.ylabel('Grado de relajamiento (95 - 100)')\n",
        "plt.ylim(95, 100)\n",
        "\n",
        "plt.show()"
      ]
    },
    {
      "cell_type": "markdown",
      "metadata": {
        "id": "THuQOu1WA-g6"
      },
      "source": [
        "### Conducción"
      ]
    },
    {
      "cell_type": "code",
      "execution_count": null,
      "metadata": {
        "id": "ke-nvG1iBBYJ",
        "colab": {
          "base_uri": "https://localhost:8080/"
        },
        "outputId": "da217a15-eda7-4465-eb59-5667edc33f05"
      },
      "outputs": [
        {
          "output_type": "display_data",
          "data": {
            "text/plain": [
              "<Figure size 1000x500 with 1 Axes>"
            ],
            "image/png": "[encoded data removed]"
          },
          "metadata": {}
        }
      ],
      "source": [
        "# Data\n",
        "driving_songs = get_top(unique_df, 'good_for_driving', True, 'driving', ['energy', 'speechiness'], 3, ['song', 'driving'])\n",
        "\n",
        "# Figura\n",
        "fig = plt.figure(figsize=(10, 5))\n",
        "\n",
        "plt.bar(driving_songs['song'],\n",
        "        driving_songs['driving'],\n",
        "        edgecolor='black')\n",
        "\n",
        "plt.title('Top 3 canciones para manejar')\n",
        "plt.ylabel('Grado de adecuación para manejar (70 - 80)')\n",
        "plt.ylim(70, 80)\n",
        "\n",
        "\n",
        "plt.show()"
      ]
    },
    {
      "cell_type": "markdown",
      "metadata": {
        "id": "Ye7414rJBFBb"
      },
      "source": [
        "## Visualizaciones:"
      ]
    },
    {
      "cell_type": "markdown",
      "metadata": {
        "id": "pt4-MQbNBHZt"
      },
      "source": [
        "### Cantidad de positivismo por año"
      ]
    },
    {
      "cell_type": "code",
      "execution_count": null,
      "metadata": {
        "id": "vg6nv1FDBKZI",
        "colab": {
          "base_uri": "https://localhost:8080/"
        },
        "outputId": "7a3a2058-841f-4a39-d810-067ea32819e2"
      },
      "outputs": [
        {
          "output_type": "display_data",
          "data": {
            "text/plain": [
              "<Figure size 1000x500 with 1 Axes>"
            ],
            "image/png": "[encoded data removed]"
          },
          "metadata": {}
        }
      ],
      "source": [
        "# Data\n",
        "positiveness_by_year = unique_df.groupby(unique_df['release_date'].dt.year)['positiveness'].sum()\n",
        "positiveness_by_year = positiveness_by_year[positiveness_by_year.index >= 1903]\n",
        "\n",
        "\n",
        "# Figura\n",
        "fig = plt.figure(figsize=(10, 5))\n",
        "\n",
        "plt.plot(positiveness_by_year.index,\n",
        "         positiveness_by_year.values)\n",
        "\n",
        "plt.title('Cantidad de positivismo por año')\n",
        "\n",
        "plt.show()"
      ]
    },
    {
      "cell_type": "markdown",
      "metadata": {
        "id": "Sg4gxTENBK1O"
      },
      "source": [
        "### Cantidad de canciones por año y género"
      ]
    },
    {
      "cell_type": "code",
      "execution_count": null,
      "metadata": {
        "id": "IxvlqUMjBQCp",
        "colab": {
          "base_uri": "https://localhost:8080/"
        },
        "outputId": "17f6160f-0f49-417c-df02-58261f2e29fc"
      },
      "outputs": [
        {
          "output_type": "stream",
          "name": "stderr",
          "text": [
            "C:\\Users\\facun\\AppData\\Local\\Temp\\ipykernel_20120\\1001345210.py:15: UserWarning: No artists with labels found to put in legend.  Note that artists whose label start with an underscore are ignored when legend() is called with no argument.\n",
            "  ax.legend(title='Género', bbox_to_anchor=(1.05, 1), loc='upper left')\n"
          ]
        },
        {
          "output_type": "display_data",
          "data": {
            "text/plain": [
              "<Figure size 1400x900 with 1 Axes>"
            ],
            "image/png": "[encoded data removed]"
          },
          "metadata": {}
        }
      ],
      "source": [
        "year_genre = unique_df.groupby([unique_df['release_date'].dt.year, unique_df['genre']]).size().reset_index(name='count')\n",
        "year_genre = year_genre.pivot_table(index='release_date', columns='genre', values='count', fill_value=0)\n",
        "year_genre = year_genre[year_genre.index >= 1903]\n",
        "\n",
        "fig, ax = plt.subplots(figsize=(14, 9))\n",
        "\n",
        "bottom = np.zeros(len(year_genre))\n",
        "\n",
        "for genre in year_genre.columns:\n",
        "  ax.bar(year_genre.index, year_genre[genre], bottom=bottom)\n",
        "  bottom += year_genre[genre]\n",
        "\n",
        "ax.set_title('cantidad de canciones por año y género')\n",
        "ax.set_ylabel('Cantidad de canciones')\n",
        "ax.legend(title='Género', bbox_to_anchor=(1.05, 1), loc='upper left')\n",
        "plt.tight_layout()\n",
        "\n",
        "plt.show()"
      ]
    },
    {
      "cell_type": "markdown",
      "metadata": {
        "id": "3A2CqfJhBQSK"
      },
      "source": [
        "# Extra Challenge"
      ]
    },
    {
      "cell_type": "markdown",
      "source": [
        "## OSEMN"
      ],
      "metadata": {
        "id": "wtmrmzaDKOp-"
      }
    },
    {
      "cell_type": "markdown",
      "source": [
        "### Obtain"
      ],
      "metadata": {
        "id": "cTGiGHG8Jo68"
      }
    },
    {
      "cell_type": "code",
      "source": [
        "# Definir data a usar en el modelo, eliminando las fechas utilizadas como \"Desconocido\"\n",
        "data = unique_df[unique_df['release_date'].dt.year >= 1900]\n",
        "\n",
        "# Definir data con los valores outliers clipeados\n",
        "data_clipped = data.copy()\n",
        "\n",
        "for column, (lower, upper) in bounds.items():\n",
        "  data_clipped[column] = data_clipped[column].clip(lower=lower, upper=upper)"
      ],
      "metadata": {
        "id": "cv-_Vw_uJ5cL"
      },
      "execution_count": null,
      "outputs": []
    },
    {
      "cell_type": "markdown",
      "source": [
        "### Scrub"
      ],
      "metadata": {
        "id": "MSfgi9e6Jtt0"
      }
    },
    {
      "cell_type": "markdown",
      "source": [
        "#### Data Cleaning"
      ],
      "metadata": {
        "id": "Mbo9EWNEJ5Lj"
      }
    },
    {
      "cell_type": "markdown",
      "source": [
        "Ya fue verificado que no haya datos dupllicados o valores NaN, así como que no haya errores estructurales y fueron manejados los outliers"
      ],
      "metadata": {
        "id": "_oZne_lnsUlq"
      }
    },
    {
      "cell_type": "markdown",
      "source": [
        "#### Data Manipulation"
      ],
      "metadata": {
        "id": "SZNhitLosRB1"
      }
    },
    {
      "cell_type": "code",
      "source": [
        "#Eliminar columnas que no van a ser utilizadas en el modelo\n",
        "\n",
        "unneeded_columns = ['artists', 'song', 'text', 'album',\n",
        "                    'similar_artist_1', 'similar_song_1', 'similarity_score_1',\n",
        "                    'similar_artist_2', 'similar_song_2', 'similarity_score_2',\n",
        "                    'similar_artist_3', 'similar_song_3', 'similarity_score_3']\n",
        "\n",
        "data = data.drop(columns=unneeded_columns)\n",
        "data_clipped = data_clipped.drop(columns=unneeded_columns)"
      ],
      "metadata": {
        "id": "2QkLfneJCM6k"
      },
      "execution_count": null,
      "outputs": []
    },
    {
      "cell_type": "code",
      "source": [
        "# Tranformar 'lenght' a segundos para que sea numérica\n",
        "\n",
        "data['length'] = data['length'].dt.total_seconds()\n",
        "data_clipped['length'] = data_clipped['length'].dt.total_seconds()"
      ],
      "metadata": {
        "collapsed": true,
        "id": "5V6vjKIMNYww"
      },
      "execution_count": null,
      "outputs": []
    },
    {
      "cell_type": "code",
      "source": [
        "# Tranformar 'release_date' en columnas 'release_year' y 'releas_month' para que sea numéricas\n",
        "\n",
        "data['release_year'] = data['release_date'].dt.year\n",
        "data['release_month'] = data['release_date'].dt.month\n",
        "data = data.drop(columns='release_date')\n",
        "\n",
        "data_clipped['release_year'] = data_clipped['release_date'].dt.year\n",
        "data_clipped['release_month'] = data_clipped['release_date'].dt.month\n",
        "data_clipped = data_clipped.drop(columns='release_date')"
      ],
      "metadata": {
        "id": "1g0WEj3NNzUU"
      },
      "execution_count": null,
      "outputs": []
    },
    {
      "cell_type": "markdown",
      "source": [
        "### Explore/Model"
      ],
      "metadata": {
        "id": "nMw0M5C9Jy-O"
      }
    },
    {
      "cell_type": "markdown",
      "source": [
        "La etapa de explore se realiza dentro del mismo pipeline en el que se entrena el modelo de clasificación"
      ],
      "metadata": {
        "id": "kKH3UjmWl_GI"
      }
    },
    {
      "cell_type": "code",
      "source": [
        "# Definir variables X e y, y separar en entrenamiento y test\n",
        "X = data.drop(columns=['genre'])\n",
        "y = data['genre']\n",
        "X_train, X_test, y_train, y_test = train_test_split(X, y, random_state=42, test_size=0.3, stratify=y)\n",
        "\n",
        "# Definir variables X_clipped e y_clipped, y separar en entrenamiento y test\n",
        "X_clipped = data_clipped.drop(columns=['genre'])\n",
        "y_clipped = data_clipped['genre']\n",
        "X_train_clipped, X_test_clipped, y_train_clipped, y_test_clipped = train_test_split(X_clipped, y_clipped, random_state=42, test_size=0.3, stratify=y_clipped)"
      ],
      "metadata": {
        "id": "sM21peJYxI-f"
      },
      "execution_count": null,
      "outputs": []
    },
    {
      "cell_type": "code",
      "source": [
        "# Definir columnas categóricas a codificar\n",
        "categorical_columns = ['emotion', 'key', 'time_signature']"
      ],
      "metadata": {
        "id": "TmSPkD-aKRPY"
      },
      "execution_count": null,
      "outputs": []
    },
    {
      "cell_type": "code",
      "source": [
        "# Definir preprocesador\n",
        "preprocessor = ColumnTransformer([\n",
        "    ('cat', OneHotEncoder(handle_unknown='ignore'), categorical_columns)\n",
        "], remainder='passthrough')"
      ],
      "metadata": {
        "id": "cBdb5IyVDmkU"
      },
      "execution_count": null,
      "outputs": []
    },
    {
      "cell_type": "code",
      "source": [
        "# Definir Pipeline\n",
        "pipeline = Pipeline([\n",
        "    ('preprocessing', preprocessor),\n",
        "    ('feature_selection', SelectFromModel(estimator=RandomForestClassifier(random_state=42))),\n",
        "    ('clf', RandomForestClassifier(random_state=42))\n",
        "])"
      ],
      "metadata": {
        "id": "11zyD4T6J4ok"
      },
      "execution_count": null,
      "outputs": []
    },
    {
      "cell_type": "code",
      "source": [
        "# Establecer grilla de parámetros a probar\n",
        "param_grid= {\n",
        "    'feature_selection__estimator__n_estimators': [50],\n",
        "    'feature_selection__estimator__max_depth': [5, 10, 15],\n",
        "    'clf__n_estimators': [50, 100],\n",
        "    'clf__max_depth': [5, 10, 15]\n",
        "}"
      ],
      "metadata": {
        "id": "W_YuEOYf5tAf"
      },
      "execution_count": null,
      "outputs": []
    },
    {
      "cell_type": "code",
      "source": [
        "model_path = 'data_flow_model.joblib'\n",
        "\n",
        "# Intentar cargar archivo\n",
        "if os.path.exists(model_path):\n",
        "\n",
        "  search = load(model_path)\n",
        "  print('Modelo cargado desde archivo')\n",
        "\n",
        "# Entrenar modelo y guardar en archivo\n",
        "else:\n",
        "  search = GridSearchCV(pipeline, param_grid, cv=5, n_jobs=1, verbose=2)\n",
        "  search.fit(X_train, y_train)\n",
        "  dump(search, model_path)\n",
        "  print('Modelo entrenado y guardado en archivo')"
      ],
      "metadata": {
        "id": "G7lXp3dyLnJJ",
        "colab": {
          "base_uri": "https://localhost:8080/"
        },
        "outputId": "dce1d594-a4d9-4165-c37d-9f0ed330a481"
      },
      "execution_count": null,
      "outputs": [
        {
          "output_type": "stream",
          "name": "stdout",
          "text": [
            "Modelo cargado desde archivo\n"
          ]
        }
      ]
    },
    {
      "cell_type": "code",
      "source": [
        "model_clipped_path = 'data_flow_clipped_model.joblib'\n",
        "\n",
        "# Intentar cargar archivo\n",
        "if os.path.exists(model_clipped_path):\n",
        "\n",
        "  search_clipped = load(model_clipped_path)\n",
        "  print('Modelo sin outliers cargado desde archivo')\n",
        "\n",
        "# Entrenar modelo y guardar archivo\n",
        "else:\n",
        "  search_clipped = GridSearchCV(pipeline, param_grid, cv=5, n_jobs=1, verbose=2)\n",
        "  search_clipped.fit(X_train_clipped, y_train_clipped)\n",
        "  dump(search_clipped, model_clipped_path)\n",
        "  print('Modelo sin outliers entrenado y guardado en archivo')"
      ],
      "metadata": {
        "id": "axY07A6Xh5ce",
        "colab": {
          "base_uri": "https://localhost:8080/"
        },
        "outputId": "bb86b233-ed84-41ab-85c4-1a7f38855920"
      },
      "execution_count": null,
      "outputs": [
        {
          "output_type": "stream",
          "name": "stdout",
          "text": [
            "Modelo sin outliers cargado desde archivo\n"
          ]
        }
      ]
    },
    {
      "cell_type": "code",
      "source": [
        "# Predecir X_test\n",
        "y_pred = search.predict(X_test)\n",
        "y_proba = search.predict_proba(X_test)\n",
        "\n",
        "# Predecir X_test_clipped\n",
        "y_clipped_pred = search_clipped.predict(X_test_clipped)\n",
        "y_clipped_proba = search_clipped.predict_proba(X_test_clipped)"
      ],
      "metadata": {
        "id": "r_oprU_pWfSb"
      },
      "execution_count": null,
      "outputs": []
    },
    {
      "cell_type": "markdown",
      "source": [
        "### iNterpret"
      ],
      "metadata": {
        "id": "rYLojoaMJ1cT"
      }
    },
    {
      "cell_type": "code",
      "source": [
        "clf = search.best_estimator_.named_steps['clf']\n",
        "importances = clf.feature_importances_\n",
        "features = X_test.columns\n",
        "\n",
        "top_n = 5\n",
        "top_features = features[importances.argsort()[::-1][:top_n]].tolist()"
      ],
      "metadata": {
        "id": "fi1Dj3cDjDSV"
      },
      "execution_count": null,
      "outputs": []
    },
    {
      "cell_type": "code",
      "source": [
        "rfc_metrics = {\n",
        "    'accuracy': accuracy_score(y_test, y_pred),\n",
        "    'precision': precision_score(y_test, y_pred, average='weighted'),\n",
        "    'recall': recall_score(y_test, y_test, average='weighted'),\n",
        "    'f1': f1_score(y_test, y_pred, average='weighted'),\n",
        "    'loss': log_loss(y_test, y_proba),\n",
        "    'best_params': search.best_params_,\n",
        "    'top_features': top_features\n",
        "}\n",
        "\n",
        "rfc_metrics = pd.DataFrame([rfc_metrics], index=['Modelo con outliers'])"
      ],
      "metadata": {
        "id": "C6NQpbIOJ4Tn",
        "colab": {
          "base_uri": "https://localhost:8080/"
        },
        "outputId": "8fbe1ab8-d761-480c-b426-d27fbeba3836"
      },
      "execution_count": null,
      "outputs": [
        {
          "output_type": "stream",
          "name": "stderr",
          "text": [
            "C:\\ProgramData\\anaconda3\\Lib\\site-packages\\sklearn\\metrics\\_classification.py:1531: UndefinedMetricWarning: Precision is ill-defined and being set to 0.0 in labels with no predicted samples. Use `zero_division` parameter to control this behavior.\n",
            "  _warn_prf(average, modifier, f\"{metric.capitalize()} is\", len(result))\n"
          ]
        }
      ]
    },
    {
      "cell_type": "code",
      "source": [
        "clf = search_clipped.best_estimator_.named_steps['clf']\n",
        "importances = clf.feature_importances_\n",
        "features = X_test_clipped.columns\n",
        "\n",
        "top_n = 5\n",
        "top_features = features[importances.argsort()[::-1][:top_n]].tolist()"
      ],
      "metadata": {
        "id": "BI4k31RpllpM"
      },
      "execution_count": null,
      "outputs": []
    },
    {
      "cell_type": "code",
      "source": [
        "rfc_clipped_metrics = {\n",
        "    'accuracy': accuracy_score(y_test_clipped, y_clipped_pred),\n",
        "    'precision': precision_score(y_test_clipped, y_clipped_pred, average='weighted'),\n",
        "    'recall': recall_score(y_test_clipped, y_clipped_pred, average='weighted'),\n",
        "    'f1': f1_score(y_test_clipped, y_clipped_pred, average='weighted'),\n",
        "    'loss': log_loss(y_test_clipped, y_clipped_proba),\n",
        "    'best_params': search_clipped.best_params_,\n",
        "    'top_features': top_features\n",
        "}\n",
        "\n",
        "rfc_clipped_metrics = pd.DataFrame([rfc_clipped_metrics], index=['Modelo sin outliers'])"
      ],
      "metadata": {
        "colab": {
          "base_uri": "https://localhost:8080/"
        },
        "id": "lgBjmWjlmrlQ",
        "outputId": "462a4fae-0f35-4505-92f4-b81623c7343e"
      },
      "execution_count": null,
      "outputs": [
        {
          "output_type": "stream",
          "name": "stderr",
          "text": [
            "C:\\ProgramData\\anaconda3\\Lib\\site-packages\\sklearn\\metrics\\_classification.py:1531: UndefinedMetricWarning: Precision is ill-defined and being set to 0.0 in labels with no predicted samples. Use `zero_division` parameter to control this behavior.\n",
            "  _warn_prf(average, modifier, f\"{metric.capitalize()} is\", len(result))\n"
          ]
        }
      ]
    },
    {
      "cell_type": "code",
      "source": [
        "metrics = pd.concat([rfc_metrics, rfc_clipped_metrics])\n",
        "metrics"
      ],
      "metadata": {
        "colab": {
          "base_uri": "https://localhost:8080/"
        },
        "id": "qTT__MMEnOha",
        "outputId": "742caa9e-071e-4aab-893e-cb910268a163"
      },
      "execution_count": null,
      "outputs": [
        {
          "output_type": "execute_result",
          "data": {
            "text/plain": [
              "                     accuracy  precision    recall        f1      loss  \\\n",
              "Modelo con outliers  0.540621   0.670236  1.000000  0.447638  1.850874   \n",
              "Modelo sin outliers  0.540766   0.671262  0.540766  0.447801  1.849493   \n",
              "\n",
              "                                                           best_params  \\\n",
              "Modelo con outliers  {'clf__max_depth': 15, 'clf__n_estimators': 10...   \n",
              "Modelo sin outliers  {'clf__max_depth': 15, 'clf__n_estimators': 10...   \n",
              "\n",
              "                                                         top_features  \n",
              "Modelo con outliers  [liveness, loudness_db, energy, explicit, tempo]  \n",
              "Modelo sin outliers  [liveness, loudness_db, energy, explicit, tempo]  "
            ],
            "text/html": [
              "<div>\n",
              "<style scoped>\n",
              "    .dataframe tbody tr th:only-of-type {\n",
              "        vertical-align: middle;\n",
              "    }\n",
              "\n",
              "    .dataframe tbody tr th {\n",
              "        vertical-align: top;\n",
              "    }\n",
              "\n",
              "    .dataframe thead th {\n",
              "        text-align: right;\n",
              "    }\n",
              "</style>\n",
              "<table border=\"1\" class=\"dataframe\">\n",
              "  <thead>\n",
              "    <tr style=\"text-align: right;\">\n",
              "      <th></th>\n",
              "      <th>accuracy</th>\n",
              "      <th>precision</th>\n",
              "      <th>recall</th>\n",
              "      <th>f1</th>\n",
              "      <th>loss</th>\n",
              "      <th>best_params</th>\n",
              "      <th>top_features</th>\n",
              "    </tr>\n",
              "  </thead>\n",
              "  <tbody>\n",
              "    <tr>\n",
              "      <th>Modelo con outliers</th>\n",
              "      <td>0.540621</td>\n",
              "      <td>0.670236</td>\n",
              "      <td>1.000000</td>\n",
              "      <td>0.447638</td>\n",
              "      <td>1.850874</td>\n",
              "      <td>{'clf__max_depth': 15, 'clf__n_estimators': 10...</td>\n",
              "      <td>[liveness, loudness_db, energy, explicit, tempo]</td>\n",
              "    </tr>\n",
              "    <tr>\n",
              "      <th>Modelo sin outliers</th>\n",
              "      <td>0.540766</td>\n",
              "      <td>0.671262</td>\n",
              "      <td>0.540766</td>\n",
              "      <td>0.447801</td>\n",
              "      <td>1.849493</td>\n",
              "      <td>{'clf__max_depth': 15, 'clf__n_estimators': 10...</td>\n",
              "      <td>[liveness, loudness_db, energy, explicit, tempo]</td>\n",
              "    </tr>\n",
              "  </tbody>\n",
              "</table>\n",
              "</div>"
            ]
          },
          "metadata": {},
          "execution_count": 82
        }
      ]
    },
    {
      "cell_type": "markdown",
      "source": [
        "*   Accuracy: Porcentaje de predicciones correctas sobre el total (Entre 0 y 1)\n",
        "*   Precision: Porcentaje ponderado de predicciones correctas entre los casos predichos como cada clase (Entre 0 y 1)\n",
        "*   Recall: Porcentaje de los datos de prueba de cada clase encontrados (Entre 0 y 1)\n",
        "*   f1: Porcentaje único que combina precisión y recall equilibradamente (Entre 0 y 1)\n",
        "*   Loss: Mide que tan buenas son las probabilidades que da el modelo (0 a ∞ (mayor = peor))"
      ],
      "metadata": {
        "id": "6PCkN81SmlVw"
      }
    }
  ],
  "metadata": {
    "colab": {
      "collapsed_sections": [
        "Ea0mgqF164De",
        "KKZcZois7VLe",
        "930icGoM7W0F",
        "4dhJxU9Q-LGT",
        "QmZNE2lsCiTx",
        "lu_T-XitClXV",
        "hAMbKpjBC6EZ",
        "D2W9KFYmDxuF",
        "u5qzZGSrD3pj",
        "E8WXr_RoD9jt",
        "1iISdunjBdna",
        "mOJZYAS1EFDR",
        "VVOG3t8Z9j3T",
        "OjTmf0CIvzSJ",
        "ZNxPk-xokdJ2",
        "_M_k29Cf_VLn",
        "pdBI8qNUuB4g",
        "AflEoLI_B7XW",
        "TVS5-TDNCJ5B",
        "WKzwoflwCW-0",
        "ztKZQtEVC2Z-",
        "iNHPakNUEAyn",
        "XIpozGtYEDhi",
        "suSadHlPU4p2",
        "uMk28GV1zhxt",
        "K2vzsj6Dzjds",
        "g7oVPs9ANgOr",
        "w5SoKqkwgWBi",
        "ft5bMKfT78PP",
        "tylUYl7d8ItJ",
        "TjCwtMOG8QAw",
        "QwGxgXp-9Do-",
        "5EGiCsk3k0ss",
        "l-yDTrid9UkK",
        "CPa6SRUp9dcx",
        "DWnPQB1_9nbs",
        "0cO2Uvzk9tya",
        "q4TqgCJG98Uu",
        "GWdDY4UHzlfX",
        "qnRtfa70EGiF",
        "_sE9IVGTEJdx",
        "TuLanbS5EQfK",
        "E_J2uiLsAvN_",
        "uLolQcVoAzTN",
        "X8eB8NHzA4Tp",
        "pJX-Zn6QA5tz",
        "86pmoOatA7Pt",
        "GO8O2aCbA85y",
        "THuQOu1WA-g6",
        "Ye7414rJBFBb",
        "pt4-MQbNBHZt",
        "Sg4gxTENBK1O",
        "cTGiGHG8Jo68",
        "MSfgi9e6Jtt0",
        "Mbo9EWNEJ5Lj",
        "SZNhitLosRB1",
        "nMw0M5C9Jy-O"
      ],
      "provenance": [],
      "authorship_tag": "ABX9TyNMn+lFq+YkoYVxPND/24AC",
      "include_colab_link": true
    },
    "kernelspec": {
      "display_name": "Python 3",
      "name": "python3"
    },
    "language_info": {
      "name": "python"
    }
  },
  "nbformat": 4,
  "nbformat_minor": 0
}